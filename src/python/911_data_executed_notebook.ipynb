{
 "cells": [
  {
   "cell_type": "code",
   "execution_count": 1,
   "id": "7e52ebe2",
   "metadata": {
    "execution": {
     "iopub.execute_input": "2025-04-16T01:37:04.581129Z",
     "iopub.status.busy": "2025-04-16T01:37:04.580792Z",
     "iopub.status.idle": "2025-04-16T01:37:04.587178Z",
     "shell.execute_reply": "2025-04-16T01:37:04.586686Z"
    },
    "papermill": {
     "duration": 0.021897,
     "end_time": "2025-04-16T01:37:04.588553",
     "exception": false,
     "start_time": "2025-04-16T01:37:04.566656",
     "status": "completed"
    },
    "tags": [
     "injected-parameters"
    ]
   },
   "outputs": [],
   "source": [
    "# Parameters\n",
    "job_id = \"24\"\n"
   ]
  },
  {
   "cell_type": "markdown",
   "id": "c098393c",
   "metadata": {
    "id": "9wa_q4li2X4K",
    "papermill": {
     "duration": 0.005597,
     "end_time": "2025-04-16T01:37:04.601746",
     "exception": false,
     "start_time": "2025-04-16T01:37:04.596149",
     "status": "completed"
    },
    "tags": []
   },
   "source": [
    "#Preprocessing"
   ]
  },
  {
   "cell_type": "code",
   "execution_count": 2,
   "id": "4587b455",
   "metadata": {
    "colab": {
     "base_uri": "https://localhost:8080/"
    },
    "execution": {
     "iopub.execute_input": "2025-04-16T01:37:04.612047Z",
     "iopub.status.busy": "2025-04-16T01:37:04.611926Z",
     "iopub.status.idle": "2025-04-16T01:37:07.534732Z",
     "shell.execute_reply": "2025-04-16T01:37:07.534317Z"
    },
    "id": "uFaYYmdfaDCH",
    "outputId": "abe9084d-b827-4661-8f8f-4eea1a5ab1d4",
    "papermill": {
     "duration": 2.929889,
     "end_time": "2025-04-16T01:37:07.536591",
     "exception": false,
     "start_time": "2025-04-16T01:37:04.606702",
     "status": "completed"
    },
    "tags": []
   },
   "outputs": [
    {
     "data": {
      "text/html": [
       "<div>\n",
       "<style scoped>\n",
       "    .dataframe tbody tr th:only-of-type {\n",
       "        vertical-align: middle;\n",
       "    }\n",
       "\n",
       "    .dataframe tbody tr th {\n",
       "        vertical-align: top;\n",
       "    }\n",
       "\n",
       "    .dataframe thead th {\n",
       "        text-align: right;\n",
       "    }\n",
       "</style>\n",
       "<table border=\"1\" class=\"dataframe\">\n",
       "  <thead>\n",
       "    <tr style=\"text-align: right;\">\n",
       "      <th></th>\n",
       "      <th>lat</th>\n",
       "      <th>lng</th>\n",
       "      <th>desc</th>\n",
       "      <th>zip</th>\n",
       "      <th>title</th>\n",
       "      <th>timeStamp</th>\n",
       "      <th>twp</th>\n",
       "      <th>addr</th>\n",
       "      <th>e</th>\n",
       "    </tr>\n",
       "  </thead>\n",
       "  <tbody>\n",
       "    <tr>\n",
       "      <th>0</th>\n",
       "      <td>40.297876</td>\n",
       "      <td>-75.581294</td>\n",
       "      <td>REINDEER CT &amp; DEAD END;  NEW HANOVER; Station ...</td>\n",
       "      <td>19525.0</td>\n",
       "      <td>EMS: BACK PAINS/INJURY</td>\n",
       "      <td>2015-12-10 17:10:52</td>\n",
       "      <td>NEW HANOVER</td>\n",
       "      <td>REINDEER CT &amp; DEAD END</td>\n",
       "      <td>1</td>\n",
       "    </tr>\n",
       "    <tr>\n",
       "      <th>1</th>\n",
       "      <td>40.258061</td>\n",
       "      <td>-75.264680</td>\n",
       "      <td>BRIAR PATH &amp; WHITEMARSH LN;  HATFIELD TOWNSHIP...</td>\n",
       "      <td>19446.0</td>\n",
       "      <td>EMS: DIABETIC EMERGENCY</td>\n",
       "      <td>2015-12-10 17:29:21</td>\n",
       "      <td>HATFIELD TOWNSHIP</td>\n",
       "      <td>BRIAR PATH &amp; WHITEMARSH LN</td>\n",
       "      <td>1</td>\n",
       "    </tr>\n",
       "    <tr>\n",
       "      <th>2</th>\n",
       "      <td>40.121182</td>\n",
       "      <td>-75.351975</td>\n",
       "      <td>HAWS AVE; NORRISTOWN; 2015-12-10 @ 14:39:21-St...</td>\n",
       "      <td>19401.0</td>\n",
       "      <td>Fire: GAS-ODOR/LEAK</td>\n",
       "      <td>2015-12-10 14:39:21</td>\n",
       "      <td>NORRISTOWN</td>\n",
       "      <td>HAWS AVE</td>\n",
       "      <td>1</td>\n",
       "    </tr>\n",
       "    <tr>\n",
       "      <th>3</th>\n",
       "      <td>40.116153</td>\n",
       "      <td>-75.343513</td>\n",
       "      <td>AIRY ST &amp; SWEDE ST;  NORRISTOWN; Station 308A;...</td>\n",
       "      <td>19401.0</td>\n",
       "      <td>EMS: CARDIAC EMERGENCY</td>\n",
       "      <td>2015-12-10 16:47:36</td>\n",
       "      <td>NORRISTOWN</td>\n",
       "      <td>AIRY ST &amp; SWEDE ST</td>\n",
       "      <td>1</td>\n",
       "    </tr>\n",
       "    <tr>\n",
       "      <th>5</th>\n",
       "      <td>40.253473</td>\n",
       "      <td>-75.283245</td>\n",
       "      <td>CANNON AVE &amp; W 9TH ST;  LANSDALE; Station 345;...</td>\n",
       "      <td>19446.0</td>\n",
       "      <td>EMS: HEAD INJURY</td>\n",
       "      <td>2015-12-10 15:39:04</td>\n",
       "      <td>LANSDALE</td>\n",
       "      <td>CANNON AVE &amp; W 9TH ST</td>\n",
       "      <td>1</td>\n",
       "    </tr>\n",
       "  </tbody>\n",
       "</table>\n",
       "</div>"
      ],
      "text/plain": [
       "         lat        lng                                               desc  \\\n",
       "0  40.297876 -75.581294  REINDEER CT & DEAD END;  NEW HANOVER; Station ...   \n",
       "1  40.258061 -75.264680  BRIAR PATH & WHITEMARSH LN;  HATFIELD TOWNSHIP...   \n",
       "2  40.121182 -75.351975  HAWS AVE; NORRISTOWN; 2015-12-10 @ 14:39:21-St...   \n",
       "3  40.116153 -75.343513  AIRY ST & SWEDE ST;  NORRISTOWN; Station 308A;...   \n",
       "5  40.253473 -75.283245  CANNON AVE & W 9TH ST;  LANSDALE; Station 345;...   \n",
       "\n",
       "       zip                    title            timeStamp                twp  \\\n",
       "0  19525.0   EMS: BACK PAINS/INJURY  2015-12-10 17:10:52        NEW HANOVER   \n",
       "1  19446.0  EMS: DIABETIC EMERGENCY  2015-12-10 17:29:21  HATFIELD TOWNSHIP   \n",
       "2  19401.0      Fire: GAS-ODOR/LEAK  2015-12-10 14:39:21         NORRISTOWN   \n",
       "3  19401.0   EMS: CARDIAC EMERGENCY  2015-12-10 16:47:36         NORRISTOWN   \n",
       "5  19446.0         EMS: HEAD INJURY  2015-12-10 15:39:04           LANSDALE   \n",
       "\n",
       "                         addr  e  \n",
       "0      REINDEER CT & DEAD END  1  \n",
       "1  BRIAR PATH & WHITEMARSH LN  1  \n",
       "2                    HAWS AVE  1  \n",
       "3          AIRY ST & SWEDE ST  1  \n",
       "5       CANNON AVE & W 9TH ST  1  "
      ]
     },
     "execution_count": 2,
     "metadata": {},
     "output_type": "execute_result"
    }
   ],
   "source": [
    "import numpy as np\n",
    "import matplotlib.pyplot as plt\n",
    "import pandas as pd\n",
    "from sklearn.metrics import mean_squared_error\n",
    "import seaborn as sns\n",
    "\n",
    "data = pd.read_csv('src/data/911.csv')\n",
    "data.count()\n",
    "data = data.dropna()\n",
    "len(data)\n",
    "data.head()"
   ]
  },
  {
   "cell_type": "code",
   "execution_count": 3,
   "id": "e4979fbd",
   "metadata": {
    "colab": {
     "base_uri": "https://localhost:8080/"
    },
    "execution": {
     "iopub.execute_input": "2025-04-16T01:37:07.546285Z",
     "iopub.status.busy": "2025-04-16T01:37:07.546167Z",
     "iopub.status.idle": "2025-04-16T01:37:07.591470Z",
     "shell.execute_reply": "2025-04-16T01:37:07.591211Z"
    },
    "id": "NTHxJjdrlL7H",
    "outputId": "7b63ad26-c9e1-4e00-91c5-d975172d1af3",
    "papermill": {
     "duration": 0.051097,
     "end_time": "2025-04-16T01:37:07.592159",
     "exception": false,
     "start_time": "2025-04-16T01:37:07.541062",
     "status": "completed"
    },
    "tags": []
   },
   "outputs": [
    {
     "data": {
      "text/html": [
       "<div>\n",
       "<style scoped>\n",
       "    .dataframe tbody tr th:only-of-type {\n",
       "        vertical-align: middle;\n",
       "    }\n",
       "\n",
       "    .dataframe tbody tr th {\n",
       "        vertical-align: top;\n",
       "    }\n",
       "\n",
       "    .dataframe thead th {\n",
       "        text-align: right;\n",
       "    }\n",
       "</style>\n",
       "<table border=\"1\" class=\"dataframe\">\n",
       "  <thead>\n",
       "    <tr style=\"text-align: right;\">\n",
       "      <th></th>\n",
       "      <th>lat</th>\n",
       "      <th>lng</th>\n",
       "      <th>zip</th>\n",
       "      <th>e</th>\n",
       "    </tr>\n",
       "  </thead>\n",
       "  <tbody>\n",
       "    <tr>\n",
       "      <th>count</th>\n",
       "      <td>583199.000000</td>\n",
       "      <td>583199.000000</td>\n",
       "      <td>583199.000000</td>\n",
       "      <td>583199.0</td>\n",
       "    </tr>\n",
       "    <tr>\n",
       "      <th>mean</th>\n",
       "      <td>40.160511</td>\n",
       "      <td>-75.313874</td>\n",
       "      <td>19236.077238</td>\n",
       "      <td>1.0</td>\n",
       "    </tr>\n",
       "    <tr>\n",
       "      <th>std</th>\n",
       "      <td>0.109280</td>\n",
       "      <td>0.603885</td>\n",
       "      <td>298.188280</td>\n",
       "      <td>0.0</td>\n",
       "    </tr>\n",
       "    <tr>\n",
       "      <th>min</th>\n",
       "      <td>22.986757</td>\n",
       "      <td>-95.595595</td>\n",
       "      <td>1104.000000</td>\n",
       "      <td>1.0</td>\n",
       "    </tr>\n",
       "    <tr>\n",
       "      <th>25%</th>\n",
       "      <td>40.102500</td>\n",
       "      <td>-75.399590</td>\n",
       "      <td>19038.000000</td>\n",
       "      <td>1.0</td>\n",
       "    </tr>\n",
       "    <tr>\n",
       "      <th>50%</th>\n",
       "      <td>40.145223</td>\n",
       "      <td>-75.302575</td>\n",
       "      <td>19401.000000</td>\n",
       "      <td>1.0</td>\n",
       "    </tr>\n",
       "    <tr>\n",
       "      <th>75%</th>\n",
       "      <td>40.232145</td>\n",
       "      <td>-75.207070</td>\n",
       "      <td>19446.000000</td>\n",
       "      <td>1.0</td>\n",
       "    </tr>\n",
       "    <tr>\n",
       "      <th>max</th>\n",
       "      <td>51.335390</td>\n",
       "      <td>87.854975</td>\n",
       "      <td>77316.000000</td>\n",
       "      <td>1.0</td>\n",
       "    </tr>\n",
       "  </tbody>\n",
       "</table>\n",
       "</div>"
      ],
      "text/plain": [
       "                 lat            lng            zip         e\n",
       "count  583199.000000  583199.000000  583199.000000  583199.0\n",
       "mean       40.160511     -75.313874   19236.077238       1.0\n",
       "std         0.109280       0.603885     298.188280       0.0\n",
       "min        22.986757     -95.595595    1104.000000       1.0\n",
       "25%        40.102500     -75.399590   19038.000000       1.0\n",
       "50%        40.145223     -75.302575   19401.000000       1.0\n",
       "75%        40.232145     -75.207070   19446.000000       1.0\n",
       "max        51.335390      87.854975   77316.000000       1.0"
      ]
     },
     "execution_count": 3,
     "metadata": {},
     "output_type": "execute_result"
    }
   ],
   "source": [
    "data.describe()"
   ]
  },
  {
   "cell_type": "code",
   "execution_count": 4,
   "id": "111249c9",
   "metadata": {
    "colab": {
     "base_uri": "https://localhost:8080/"
    },
    "execution": {
     "iopub.execute_input": "2025-04-16T01:37:07.600482Z",
     "iopub.status.busy": "2025-04-16T01:37:07.600387Z",
     "iopub.status.idle": "2025-04-16T01:37:07.605593Z",
     "shell.execute_reply": "2025-04-16T01:37:07.605382Z"
    },
    "id": "GpiLox13LZyJ",
    "outputId": "beb83575-735f-4677-e047-aec2aa687632",
    "papermill": {
     "duration": 0.01024,
     "end_time": "2025-04-16T01:37:07.606215",
     "exception": false,
     "start_time": "2025-04-16T01:37:07.595975",
     "status": "completed"
    },
    "tags": []
   },
   "outputs": [
    {
     "data": {
      "text/plain": [
       "200"
      ]
     },
     "execution_count": 4,
     "metadata": {},
     "output_type": "execute_result"
    }
   ],
   "source": [
    "data[\"zip\"].nunique()"
   ]
  },
  {
   "cell_type": "code",
   "execution_count": 5,
   "id": "f531a6e6",
   "metadata": {
    "colab": {
     "base_uri": "https://localhost:8080/"
    },
    "execution": {
     "iopub.execute_input": "2025-04-16T01:37:07.614413Z",
     "iopub.status.busy": "2025-04-16T01:37:07.614328Z",
     "iopub.status.idle": "2025-04-16T01:37:08.136953Z",
     "shell.execute_reply": "2025-04-16T01:37:08.136701Z"
    },
    "id": "TGrWREsa6qto",
    "outputId": "9683d0ba-1a95-4134-b1c1-eb31f2ac277e",
    "papermill": {
     "duration": 0.529159,
     "end_time": "2025-04-16T01:37:08.139050",
     "exception": false,
     "start_time": "2025-04-16T01:37:07.609891",
     "status": "completed"
    },
    "tags": []
   },
   "outputs": [
    {
     "data": {
      "text/html": [
       "<div>\n",
       "<style scoped>\n",
       "    .dataframe tbody tr th:only-of-type {\n",
       "        vertical-align: middle;\n",
       "    }\n",
       "\n",
       "    .dataframe tbody tr th {\n",
       "        vertical-align: top;\n",
       "    }\n",
       "\n",
       "    .dataframe thead th {\n",
       "        text-align: right;\n",
       "    }\n",
       "</style>\n",
       "<table border=\"1\" class=\"dataframe\">\n",
       "  <thead>\n",
       "    <tr style=\"text-align: right;\">\n",
       "      <th></th>\n",
       "      <th>desc</th>\n",
       "      <th>title</th>\n",
       "      <th>timeStamp</th>\n",
       "      <th>twp</th>\n",
       "      <th>addr</th>\n",
       "    </tr>\n",
       "  </thead>\n",
       "  <tbody>\n",
       "    <tr>\n",
       "      <th>count</th>\n",
       "      <td>583199</td>\n",
       "      <td>583199</td>\n",
       "      <td>583199</td>\n",
       "      <td>583199</td>\n",
       "      <td>583199</td>\n",
       "    </tr>\n",
       "    <tr>\n",
       "      <th>unique</th>\n",
       "      <td>582993</td>\n",
       "      <td>144</td>\n",
       "      <td>566959</td>\n",
       "      <td>68</td>\n",
       "      <td>38059</td>\n",
       "    </tr>\n",
       "    <tr>\n",
       "      <th>top</th>\n",
       "      <td>CITY AVE &amp; CARDINAL AVE;  LOWER MERION; Statio...</td>\n",
       "      <td>Traffic: VEHICLE ACCIDENT -</td>\n",
       "      <td>2018-07-09 13:23:16</td>\n",
       "      <td>LOWER MERION</td>\n",
       "      <td>SHANNONDELL DR &amp; SHANNONDELL BLVD</td>\n",
       "    </tr>\n",
       "    <tr>\n",
       "      <th>freq</th>\n",
       "      <td>5</td>\n",
       "      <td>125113</td>\n",
       "      <td>8</td>\n",
       "      <td>47487</td>\n",
       "      <td>7285</td>\n",
       "    </tr>\n",
       "  </tbody>\n",
       "</table>\n",
       "</div>"
      ],
      "text/plain": [
       "                                                     desc  \\\n",
       "count                                              583199   \n",
       "unique                                             582993   \n",
       "top     CITY AVE & CARDINAL AVE;  LOWER MERION; Statio...   \n",
       "freq                                                    5   \n",
       "\n",
       "                              title            timeStamp           twp  \\\n",
       "count                        583199               583199        583199   \n",
       "unique                          144               566959            68   \n",
       "top     Traffic: VEHICLE ACCIDENT -  2018-07-09 13:23:16  LOWER MERION   \n",
       "freq                         125113                    8         47487   \n",
       "\n",
       "                                     addr  \n",
       "count                              583199  \n",
       "unique                              38059  \n",
       "top     SHANNONDELL DR & SHANNONDELL BLVD  \n",
       "freq                                 7285  "
      ]
     },
     "execution_count": 5,
     "metadata": {},
     "output_type": "execute_result"
    }
   ],
   "source": [
    "data.describe(include=[\"object\"])"
   ]
  },
  {
   "cell_type": "code",
   "execution_count": 6,
   "id": "306be255",
   "metadata": {
    "colab": {
     "base_uri": "https://localhost:8080/"
    },
    "execution": {
     "iopub.execute_input": "2025-04-16T01:37:08.147611Z",
     "iopub.status.busy": "2025-04-16T01:37:08.147508Z",
     "iopub.status.idle": "2025-04-16T01:37:08.149429Z",
     "shell.execute_reply": "2025-04-16T01:37:08.149212Z"
    },
    "id": "GVXGcPe9x9CT",
    "outputId": "d3615199-3e13-4510-ea32-66e13cee068f",
    "papermill": {
     "duration": 0.006882,
     "end_time": "2025-04-16T01:37:08.150038",
     "exception": false,
     "start_time": "2025-04-16T01:37:08.143156",
     "status": "completed"
    },
    "tags": []
   },
   "outputs": [
    {
     "name": "stdout",
     "output_type": "stream",
     "text": [
      "Rows     : 583199\n",
      "Columns  : 9\n"
     ]
    }
   ],
   "source": [
    "print('Rows     :',data.shape[0])\n",
    "print('Columns  :',data.shape[1])"
   ]
  },
  {
   "cell_type": "code",
   "execution_count": 7,
   "id": "0e874909",
   "metadata": {
    "colab": {
     "base_uri": "https://localhost:8080/"
    },
    "execution": {
     "iopub.execute_input": "2025-04-16T01:37:08.158866Z",
     "iopub.status.busy": "2025-04-16T01:37:08.158773Z",
     "iopub.status.idle": "2025-04-16T01:37:08.160890Z",
     "shell.execute_reply": "2025-04-16T01:37:08.160647Z"
    },
    "id": "VwktMI2Bx9oZ",
    "outputId": "31f9037f-e3af-403c-b6f9-697db45e37fb",
    "papermill": {
     "duration": 0.00758,
     "end_time": "2025-04-16T01:37:08.161563",
     "exception": false,
     "start_time": "2025-04-16T01:37:08.153983",
     "status": "completed"
    },
    "tags": []
   },
   "outputs": [
    {
     "name": "stdout",
     "output_type": "stream",
     "text": [
      "['lat' 'lng' 'desc' 'zip' 'title' 'timeStamp' 'twp' 'addr' 'e']\n"
     ]
    }
   ],
   "source": [
    "print(data.columns.values)"
   ]
  },
  {
   "cell_type": "code",
   "execution_count": 8,
   "id": "11b0f2d3",
   "metadata": {
    "execution": {
     "iopub.execute_input": "2025-04-16T01:37:08.171585Z",
     "iopub.status.busy": "2025-04-16T01:37:08.171444Z",
     "iopub.status.idle": "2025-04-16T01:37:08.209617Z",
     "shell.execute_reply": "2025-04-16T01:37:08.209249Z"
    },
    "id": "BmGbsB8QyC18",
    "papermill": {
     "duration": 0.044109,
     "end_time": "2025-04-16T01:37:08.210873",
     "exception": false,
     "start_time": "2025-04-16T01:37:08.166764",
     "status": "completed"
    },
    "tags": []
   },
   "outputs": [],
   "source": [
    "data = data.drop('e',axis=1)"
   ]
  },
  {
   "cell_type": "code",
   "execution_count": 9,
   "id": "e9a9bfac",
   "metadata": {
    "colab": {
     "base_uri": "https://localhost:8080/"
    },
    "execution": {
     "iopub.execute_input": "2025-04-16T01:37:08.221798Z",
     "iopub.status.busy": "2025-04-16T01:37:08.221361Z",
     "iopub.status.idle": "2025-04-16T01:37:08.337153Z",
     "shell.execute_reply": "2025-04-16T01:37:08.336912Z"
    },
    "id": "e84u_ENOrjAT",
    "outputId": "2c08c1b5-a825-4431-b1ee-4cfa495390b9",
    "papermill": {
     "duration": 0.122321,
     "end_time": "2025-04-16T01:37:08.337780",
     "exception": false,
     "start_time": "2025-04-16T01:37:08.215459",
     "status": "completed"
    },
    "tags": []
   },
   "outputs": [
    {
     "name": "stdout",
     "output_type": "stream",
     "text": [
      "Missing values: 0\n"
     ]
    },
    {
     "data": {
      "text/plain": [
       "lat          0\n",
       "lng          0\n",
       "desc         0\n",
       "zip          0\n",
       "title        0\n",
       "timeStamp    0\n",
       "twp          0\n",
       "addr         0\n",
       "dtype: int64"
      ]
     },
     "execution_count": 9,
     "metadata": {},
     "output_type": "execute_result"
    }
   ],
   "source": [
    "# missing values\n",
    "print('Missing values:',data.isnull().values.sum())\n",
    "\n",
    "data.isnull().sum()"
   ]
  },
  {
   "cell_type": "code",
   "execution_count": 10,
   "id": "35ccc45b",
   "metadata": {
    "colab": {
     "base_uri": "https://localhost:8080/"
    },
    "execution": {
     "iopub.execute_input": "2025-04-16T01:37:08.346584Z",
     "iopub.status.busy": "2025-04-16T01:37:08.346419Z",
     "iopub.status.idle": "2025-04-16T01:37:08.405847Z",
     "shell.execute_reply": "2025-04-16T01:37:08.405604Z"
    },
    "id": "qupdGmxbroPs",
    "outputId": "f0474cca-c390-452d-bf46-d09f71ab7dbe",
    "papermill": {
     "duration": 0.064429,
     "end_time": "2025-04-16T01:37:08.406501",
     "exception": false,
     "start_time": "2025-04-16T01:37:08.342072",
     "status": "completed"
    },
    "tags": []
   },
   "outputs": [
    {
     "name": "stdout",
     "output_type": "stream",
     "text": [
      "<class 'pandas.core.frame.DataFrame'>\n",
      "Index: 583199 entries, 0 to 663521\n",
      "Data columns (total 8 columns):\n",
      " #   Column     Non-Null Count   Dtype  \n",
      "---  ------     --------------   -----  \n",
      " 0   lat        583199 non-null  float64\n",
      " 1   lng        583199 non-null  float64\n",
      " 2   desc       583199 non-null  object \n",
      " 3   zip        583199 non-null  float64\n",
      " 4   title      583199 non-null  object \n",
      " 5   timeStamp  583199 non-null  object \n",
      " 6   twp        583199 non-null  object \n",
      " 7   addr       583199 non-null  object \n",
      "dtypes: float64(3), object(5)\n",
      "memory usage: 40.0+ MB\n"
     ]
    }
   ],
   "source": [
    "data.info()"
   ]
  },
  {
   "cell_type": "code",
   "execution_count": 11,
   "id": "3f4cfc4a",
   "metadata": {
    "colab": {
     "base_uri": "https://localhost:8080/"
    },
    "execution": {
     "iopub.execute_input": "2025-04-16T01:37:08.415429Z",
     "iopub.status.busy": "2025-04-16T01:37:08.415323Z",
     "iopub.status.idle": "2025-04-16T01:37:08.419567Z",
     "shell.execute_reply": "2025-04-16T01:37:08.419364Z"
    },
    "id": "-BC2Hzb1rs-1",
    "outputId": "999c3d25-5618-4b9b-8c3e-a28de50fc0f9",
    "papermill": {
     "duration": 0.009428,
     "end_time": "2025-04-16T01:37:08.420168",
     "exception": false,
     "start_time": "2025-04-16T01:37:08.410740",
     "status": "completed"
    },
    "tags": []
   },
   "outputs": [
    {
     "data": {
      "text/plain": [
       "200"
      ]
     },
     "execution_count": 11,
     "metadata": {},
     "output_type": "execute_result"
    }
   ],
   "source": [
    "data['zip'].nunique()"
   ]
  },
  {
   "cell_type": "code",
   "execution_count": 12,
   "id": "0c62adb9",
   "metadata": {
    "colab": {
     "base_uri": "https://localhost:8080/"
    },
    "execution": {
     "iopub.execute_input": "2025-04-16T01:37:08.429299Z",
     "iopub.status.busy": "2025-04-16T01:37:08.429208Z",
     "iopub.status.idle": "2025-04-16T01:37:08.470510Z",
     "shell.execute_reply": "2025-04-16T01:37:08.470287Z"
    },
    "id": "sgNx58mSry9Z",
    "outputId": "9042c409-3b4e-45f3-a4f8-4d4fa8befb46",
    "papermill": {
     "duration": 0.046878,
     "end_time": "2025-04-16T01:37:08.471174",
     "exception": false,
     "start_time": "2025-04-16T01:37:08.424296",
     "status": "completed"
    },
    "tags": []
   },
   "outputs": [
    {
     "data": {
      "text/html": [
       "<style type=\"text/css\">\n",
       "#T_14540_row0_col0 {\n",
       "  background-color: #08306b;\n",
       "  color: #f1f1f1;\n",
       "}\n",
       "#T_14540_row1_col0 {\n",
       "  background-color: #084387;\n",
       "  color: #f1f1f1;\n",
       "}\n",
       "#T_14540_row2_col0 {\n",
       "  background-color: #5fa6d1;\n",
       "  color: #f1f1f1;\n",
       "}\n",
       "#T_14540_row3_col0 {\n",
       "  background-color: #8abfdd;\n",
       "  color: #000000;\n",
       "}\n",
       "#T_14540_row4_col0 {\n",
       "  background-color: #f7fbff;\n",
       "  color: #000000;\n",
       "}\n",
       "</style>\n",
       "<table id=\"T_14540\">\n",
       "  <thead>\n",
       "    <tr>\n",
       "      <th class=\"blank level0\" >&nbsp;</th>\n",
       "      <th id=\"T_14540_level0_col0\" class=\"col_heading level0 col0\" >count</th>\n",
       "    </tr>\n",
       "    <tr>\n",
       "      <th class=\"index_name level0\" >zip</th>\n",
       "      <th class=\"blank col0\" >&nbsp;</th>\n",
       "    </tr>\n",
       "  </thead>\n",
       "  <tbody>\n",
       "    <tr>\n",
       "      <th id=\"T_14540_level0_row0\" class=\"row_heading level0 row0\" >19401.000000</th>\n",
       "      <td id=\"T_14540_row0_col0\" class=\"data row0 col0\" >45596</td>\n",
       "    </tr>\n",
       "    <tr>\n",
       "      <th id=\"T_14540_level0_row1\" class=\"row_heading level0 row1\" >19464.000000</th>\n",
       "      <td id=\"T_14540_row1_col0\" class=\"data row1 col0\" >43902</td>\n",
       "    </tr>\n",
       "    <tr>\n",
       "      <th id=\"T_14540_level0_row2\" class=\"row_heading level0 row2\" >19403.000000</th>\n",
       "      <td id=\"T_14540_row2_col0\" class=\"data row2 col0\" >34888</td>\n",
       "    </tr>\n",
       "    <tr>\n",
       "      <th id=\"T_14540_level0_row3\" class=\"row_heading level0 row3\" >19446.000000</th>\n",
       "      <td id=\"T_14540_row3_col0\" class=\"data row3 col0\" >32268</td>\n",
       "    </tr>\n",
       "    <tr>\n",
       "      <th id=\"T_14540_level0_row4\" class=\"row_heading level0 row4\" >19406.000000</th>\n",
       "      <td id=\"T_14540_row4_col0\" class=\"data row4 col0\" >22456</td>\n",
       "    </tr>\n",
       "  </tbody>\n",
       "</table>\n"
      ],
      "text/plain": [
       "<pandas.io.formats.style.Styler at 0x12b7c4dd0>"
      ]
     },
     "execution_count": 12,
     "metadata": {},
     "output_type": "execute_result"
    }
   ],
   "source": [
    "data_zip = pd.DataFrame(data['zip'].value_counts().head(5))\n",
    "data_zip.rename(columns = {'zip':'Top 5'}, inplace = True)\n",
    "data_zip.style.background_gradient(cmap='Blues')"
   ]
  },
  {
   "cell_type": "code",
   "execution_count": 13,
   "id": "e2a17a05",
   "metadata": {
    "colab": {
     "base_uri": "https://localhost:8080/"
    },
    "execution": {
     "iopub.execute_input": "2025-04-16T01:37:08.479815Z",
     "iopub.status.busy": "2025-04-16T01:37:08.479692Z",
     "iopub.status.idle": "2025-04-16T01:37:08.502518Z",
     "shell.execute_reply": "2025-04-16T01:37:08.502264Z"
    },
    "id": "2T884Wxirzr5",
    "outputId": "6b702b65-1caf-4e01-c5f9-d9ff9e43c880",
    "papermill": {
     "duration": 0.027838,
     "end_time": "2025-04-16T01:37:08.503224",
     "exception": false,
     "start_time": "2025-04-16T01:37:08.475386",
     "status": "completed"
    },
    "tags": []
   },
   "outputs": [
    {
     "data": {
      "text/html": [
       "<style type=\"text/css\">\n",
       "#T_50a1a_row0_col0 {\n",
       "  background-color: #00441b;\n",
       "  color: #f1f1f1;\n",
       "}\n",
       "#T_50a1a_row1_col0 {\n",
       "  background-color: #5eb96b;\n",
       "  color: #f1f1f1;\n",
       "}\n",
       "#T_50a1a_row2_col0 {\n",
       "  background-color: #88ce87;\n",
       "  color: #000000;\n",
       "}\n",
       "#T_50a1a_row3_col0 {\n",
       "  background-color: #f6fcf4;\n",
       "  color: #000000;\n",
       "}\n",
       "#T_50a1a_row4_col0 {\n",
       "  background-color: #f7fcf5;\n",
       "  color: #000000;\n",
       "}\n",
       "</style>\n",
       "<table id=\"T_50a1a\">\n",
       "  <thead>\n",
       "    <tr>\n",
       "      <th class=\"blank level0\" >&nbsp;</th>\n",
       "      <th id=\"T_50a1a_level0_col0\" class=\"col_heading level0 col0\" >count</th>\n",
       "    </tr>\n",
       "    <tr>\n",
       "      <th class=\"index_name level0\" >twp</th>\n",
       "      <th class=\"blank col0\" >&nbsp;</th>\n",
       "    </tr>\n",
       "  </thead>\n",
       "  <tbody>\n",
       "    <tr>\n",
       "      <th id=\"T_50a1a_level0_row0\" class=\"row_heading level0 row0\" >LOWER MERION</th>\n",
       "      <td id=\"T_50a1a_row0_col0\" class=\"data row0 col0\" >47487</td>\n",
       "    </tr>\n",
       "    <tr>\n",
       "      <th id=\"T_50a1a_level0_row1\" class=\"row_heading level0 row1\" >ABINGTON</th>\n",
       "      <td id=\"T_50a1a_row1_col0\" class=\"data row1 col0\" >38137</td>\n",
       "    </tr>\n",
       "    <tr>\n",
       "      <th id=\"T_50a1a_level0_row2\" class=\"row_heading level0 row2\" >NORRISTOWN</th>\n",
       "      <td id=\"T_50a1a_row2_col0\" class=\"data row2 col0\" >35881</td>\n",
       "    </tr>\n",
       "    <tr>\n",
       "      <th id=\"T_50a1a_level0_row3\" class=\"row_heading level0 row3\" >POTTSTOWN</th>\n",
       "      <td id=\"T_50a1a_row3_col0\" class=\"data row3 col0\" >26837</td>\n",
       "    </tr>\n",
       "    <tr>\n",
       "      <th id=\"T_50a1a_level0_row4\" class=\"row_heading level0 row4\" >CHELTENHAM</th>\n",
       "      <td id=\"T_50a1a_row4_col0\" class=\"data row4 col0\" >26647</td>\n",
       "    </tr>\n",
       "  </tbody>\n",
       "</table>\n"
      ],
      "text/plain": [
       "<pandas.io.formats.style.Styler at 0x12aa69d50>"
      ]
     },
     "execution_count": 13,
     "metadata": {},
     "output_type": "execute_result"
    }
   ],
   "source": [
    "data_twp = pd.DataFrame(data['twp'].value_counts().head(5))\n",
    "data_twp.rename(columns = {'twp':'Top 5'}, inplace = True)\n",
    "data_twp.style.background_gradient(cmap='Greens')"
   ]
  },
  {
   "cell_type": "code",
   "execution_count": 14,
   "id": "75129bc5",
   "metadata": {
    "colab": {
     "base_uri": "https://localhost:8080/"
    },
    "execution": {
     "iopub.execute_input": "2025-04-16T01:37:08.511656Z",
     "iopub.status.busy": "2025-04-16T01:37:08.511565Z",
     "iopub.status.idle": "2025-04-16T01:37:08.533711Z",
     "shell.execute_reply": "2025-04-16T01:37:08.533487Z"
    },
    "id": "QcD7kyB1r2ap",
    "outputId": "c23cd654-2e81-4ce8-a6a1-16119d5ba340",
    "papermill": {
     "duration": 0.027046,
     "end_time": "2025-04-16T01:37:08.534312",
     "exception": false,
     "start_time": "2025-04-16T01:37:08.507266",
     "status": "completed"
    },
    "tags": []
   },
   "outputs": [
    {
     "data": {
      "text/plain": [
       "144"
      ]
     },
     "execution_count": 14,
     "metadata": {},
     "output_type": "execute_result"
    }
   ],
   "source": [
    "data['title'].nunique()"
   ]
  },
  {
   "cell_type": "code",
   "execution_count": 15,
   "id": "d7dd1efc",
   "metadata": {
    "execution": {
     "iopub.execute_input": "2025-04-16T01:37:08.542762Z",
     "iopub.status.busy": "2025-04-16T01:37:08.542679Z",
     "iopub.status.idle": "2025-04-16T01:37:08.623225Z",
     "shell.execute_reply": "2025-04-16T01:37:08.622957Z"
    },
    "id": "AnQNvhTEr4yG",
    "papermill": {
     "duration": 0.085693,
     "end_time": "2025-04-16T01:37:08.624089",
     "exception": false,
     "start_time": "2025-04-16T01:37:08.538396",
     "status": "completed"
    },
    "tags": []
   },
   "outputs": [],
   "source": [
    "data['reason'] = data['title'].apply(lambda title: title.split(':')[0])"
   ]
  },
  {
   "cell_type": "code",
   "execution_count": 16,
   "id": "3e254e1b",
   "metadata": {
    "execution": {
     "iopub.execute_input": "2025-04-16T01:37:08.633259Z",
     "iopub.status.busy": "2025-04-16T01:37:08.633160Z",
     "iopub.status.idle": "2025-04-16T01:37:08.715009Z",
     "shell.execute_reply": "2025-04-16T01:37:08.714589Z"
    },
    "id": "NZvNfhrEr851",
    "papermill": {
     "duration": 0.087107,
     "end_time": "2025-04-16T01:37:08.715802",
     "exception": false,
     "start_time": "2025-04-16T01:37:08.628695",
     "status": "completed"
    },
    "tags": []
   },
   "outputs": [],
   "source": [
    "data['title_code'] = data['title'].apply(lambda title: title.split(':')[1])"
   ]
  },
  {
   "cell_type": "code",
   "execution_count": 17,
   "id": "f4f59a42",
   "metadata": {
    "execution": {
     "iopub.execute_input": "2025-04-16T01:37:08.724856Z",
     "iopub.status.busy": "2025-04-16T01:37:08.724757Z",
     "iopub.status.idle": "2025-04-16T01:37:08.853327Z",
     "shell.execute_reply": "2025-04-16T01:37:08.852955Z"
    },
    "id": "Hyd8sQKhHM-v",
    "papermill": {
     "duration": 0.134042,
     "end_time": "2025-04-16T01:37:08.854156",
     "exception": false,
     "start_time": "2025-04-16T01:37:08.720114",
     "status": "completed"
    },
    "tags": []
   },
   "outputs": [],
   "source": [
    "data[\"weekday\"] = pd.to_datetime(data['timeStamp']).dt.day_name()"
   ]
  },
  {
   "cell_type": "code",
   "execution_count": 18,
   "id": "eebcd346",
   "metadata": {
    "colab": {
     "base_uri": "https://localhost:8080/"
    },
    "execution": {
     "iopub.execute_input": "2025-04-16T01:37:08.863104Z",
     "iopub.status.busy": "2025-04-16T01:37:08.863013Z",
     "iopub.status.idle": "2025-04-16T01:37:08.867097Z",
     "shell.execute_reply": "2025-04-16T01:37:08.866903Z"
    },
    "id": "3mbVxt7-HRVU",
    "outputId": "7663afd2-60a3-42cc-ea29-c28ecdc71e53",
    "papermill": {
     "duration": 0.009178,
     "end_time": "2025-04-16T01:37:08.867713",
     "exception": false,
     "start_time": "2025-04-16T01:37:08.858535",
     "status": "completed"
    },
    "tags": []
   },
   "outputs": [
    {
     "data": {
      "text/html": [
       "<div>\n",
       "<style scoped>\n",
       "    .dataframe tbody tr th:only-of-type {\n",
       "        vertical-align: middle;\n",
       "    }\n",
       "\n",
       "    .dataframe tbody tr th {\n",
       "        vertical-align: top;\n",
       "    }\n",
       "\n",
       "    .dataframe thead th {\n",
       "        text-align: right;\n",
       "    }\n",
       "</style>\n",
       "<table border=\"1\" class=\"dataframe\">\n",
       "  <thead>\n",
       "    <tr style=\"text-align: right;\">\n",
       "      <th></th>\n",
       "      <th>lat</th>\n",
       "      <th>lng</th>\n",
       "      <th>desc</th>\n",
       "      <th>zip</th>\n",
       "      <th>title</th>\n",
       "      <th>timeStamp</th>\n",
       "      <th>twp</th>\n",
       "      <th>addr</th>\n",
       "      <th>reason</th>\n",
       "      <th>title_code</th>\n",
       "      <th>weekday</th>\n",
       "    </tr>\n",
       "  </thead>\n",
       "  <tbody>\n",
       "    <tr>\n",
       "      <th>0</th>\n",
       "      <td>40.297876</td>\n",
       "      <td>-75.581294</td>\n",
       "      <td>REINDEER CT &amp; DEAD END;  NEW HANOVER; Station ...</td>\n",
       "      <td>19525.0</td>\n",
       "      <td>EMS: BACK PAINS/INJURY</td>\n",
       "      <td>2015-12-10 17:10:52</td>\n",
       "      <td>NEW HANOVER</td>\n",
       "      <td>REINDEER CT &amp; DEAD END</td>\n",
       "      <td>EMS</td>\n",
       "      <td>BACK PAINS/INJURY</td>\n",
       "      <td>Thursday</td>\n",
       "    </tr>\n",
       "    <tr>\n",
       "      <th>1</th>\n",
       "      <td>40.258061</td>\n",
       "      <td>-75.264680</td>\n",
       "      <td>BRIAR PATH &amp; WHITEMARSH LN;  HATFIELD TOWNSHIP...</td>\n",
       "      <td>19446.0</td>\n",
       "      <td>EMS: DIABETIC EMERGENCY</td>\n",
       "      <td>2015-12-10 17:29:21</td>\n",
       "      <td>HATFIELD TOWNSHIP</td>\n",
       "      <td>BRIAR PATH &amp; WHITEMARSH LN</td>\n",
       "      <td>EMS</td>\n",
       "      <td>DIABETIC EMERGENCY</td>\n",
       "      <td>Thursday</td>\n",
       "    </tr>\n",
       "    <tr>\n",
       "      <th>2</th>\n",
       "      <td>40.121182</td>\n",
       "      <td>-75.351975</td>\n",
       "      <td>HAWS AVE; NORRISTOWN; 2015-12-10 @ 14:39:21-St...</td>\n",
       "      <td>19401.0</td>\n",
       "      <td>Fire: GAS-ODOR/LEAK</td>\n",
       "      <td>2015-12-10 14:39:21</td>\n",
       "      <td>NORRISTOWN</td>\n",
       "      <td>HAWS AVE</td>\n",
       "      <td>Fire</td>\n",
       "      <td>GAS-ODOR/LEAK</td>\n",
       "      <td>Thursday</td>\n",
       "    </tr>\n",
       "    <tr>\n",
       "      <th>3</th>\n",
       "      <td>40.116153</td>\n",
       "      <td>-75.343513</td>\n",
       "      <td>AIRY ST &amp; SWEDE ST;  NORRISTOWN; Station 308A;...</td>\n",
       "      <td>19401.0</td>\n",
       "      <td>EMS: CARDIAC EMERGENCY</td>\n",
       "      <td>2015-12-10 16:47:36</td>\n",
       "      <td>NORRISTOWN</td>\n",
       "      <td>AIRY ST &amp; SWEDE ST</td>\n",
       "      <td>EMS</td>\n",
       "      <td>CARDIAC EMERGENCY</td>\n",
       "      <td>Thursday</td>\n",
       "    </tr>\n",
       "    <tr>\n",
       "      <th>5</th>\n",
       "      <td>40.253473</td>\n",
       "      <td>-75.283245</td>\n",
       "      <td>CANNON AVE &amp; W 9TH ST;  LANSDALE; Station 345;...</td>\n",
       "      <td>19446.0</td>\n",
       "      <td>EMS: HEAD INJURY</td>\n",
       "      <td>2015-12-10 15:39:04</td>\n",
       "      <td>LANSDALE</td>\n",
       "      <td>CANNON AVE &amp; W 9TH ST</td>\n",
       "      <td>EMS</td>\n",
       "      <td>HEAD INJURY</td>\n",
       "      <td>Thursday</td>\n",
       "    </tr>\n",
       "  </tbody>\n",
       "</table>\n",
       "</div>"
      ],
      "text/plain": [
       "         lat        lng                                               desc  \\\n",
       "0  40.297876 -75.581294  REINDEER CT & DEAD END;  NEW HANOVER; Station ...   \n",
       "1  40.258061 -75.264680  BRIAR PATH & WHITEMARSH LN;  HATFIELD TOWNSHIP...   \n",
       "2  40.121182 -75.351975  HAWS AVE; NORRISTOWN; 2015-12-10 @ 14:39:21-St...   \n",
       "3  40.116153 -75.343513  AIRY ST & SWEDE ST;  NORRISTOWN; Station 308A;...   \n",
       "5  40.253473 -75.283245  CANNON AVE & W 9TH ST;  LANSDALE; Station 345;...   \n",
       "\n",
       "       zip                    title            timeStamp                twp  \\\n",
       "0  19525.0   EMS: BACK PAINS/INJURY  2015-12-10 17:10:52        NEW HANOVER   \n",
       "1  19446.0  EMS: DIABETIC EMERGENCY  2015-12-10 17:29:21  HATFIELD TOWNSHIP   \n",
       "2  19401.0      Fire: GAS-ODOR/LEAK  2015-12-10 14:39:21         NORRISTOWN   \n",
       "3  19401.0   EMS: CARDIAC EMERGENCY  2015-12-10 16:47:36         NORRISTOWN   \n",
       "5  19446.0         EMS: HEAD INJURY  2015-12-10 15:39:04           LANSDALE   \n",
       "\n",
       "                         addr reason           title_code   weekday  \n",
       "0      REINDEER CT & DEAD END    EMS    BACK PAINS/INJURY  Thursday  \n",
       "1  BRIAR PATH & WHITEMARSH LN    EMS   DIABETIC EMERGENCY  Thursday  \n",
       "2                    HAWS AVE   Fire        GAS-ODOR/LEAK  Thursday  \n",
       "3          AIRY ST & SWEDE ST    EMS    CARDIAC EMERGENCY  Thursday  \n",
       "5       CANNON AVE & W 9TH ST    EMS          HEAD INJURY  Thursday  "
      ]
     },
     "execution_count": 18,
     "metadata": {},
     "output_type": "execute_result"
    }
   ],
   "source": [
    "data.head()"
   ]
  },
  {
   "cell_type": "code",
   "execution_count": 19,
   "id": "580c4b40",
   "metadata": {
    "execution": {
     "iopub.execute_input": "2025-04-16T01:37:08.897897Z",
     "iopub.status.busy": "2025-04-16T01:37:08.897762Z",
     "iopub.status.idle": "2025-04-16T01:37:08.899369Z",
     "shell.execute_reply": "2025-04-16T01:37:08.899156Z"
    },
    "id": "zG7BVazfsjZ6",
    "papermill": {
     "duration": 0.027772,
     "end_time": "2025-04-16T01:37:08.899954",
     "exception": false,
     "start_time": "2025-04-16T01:37:08.872182",
     "status": "completed"
    },
    "tags": []
   },
   "outputs": [],
   "source": [
    "data_class = data"
   ]
  },
  {
   "cell_type": "code",
   "execution_count": 20,
   "id": "6a50d8ec",
   "metadata": {
    "colab": {
     "base_uri": "https://localhost:8080/"
    },
    "execution": {
     "iopub.execute_input": "2025-04-16T01:37:08.908813Z",
     "iopub.status.busy": "2025-04-16T01:37:08.908727Z",
     "iopub.status.idle": "2025-04-16T01:37:09.591696Z",
     "shell.execute_reply": "2025-04-16T01:37:09.591357Z"
    },
    "id": "_M8jobF_83S2",
    "outputId": "491bb8e3-870b-4260-f639-e9b54714fa55",
    "papermill": {
     "duration": 0.68821,
     "end_time": "2025-04-16T01:37:09.592449",
     "exception": false,
     "start_time": "2025-04-16T01:37:08.904239",
     "status": "completed"
    },
    "tags": []
   },
   "outputs": [
    {
     "data": {
      "text/html": [
       "<div>\n",
       "<style scoped>\n",
       "    .dataframe tbody tr th:only-of-type {\n",
       "        vertical-align: middle;\n",
       "    }\n",
       "\n",
       "    .dataframe tbody tr th {\n",
       "        vertical-align: top;\n",
       "    }\n",
       "\n",
       "    .dataframe thead th {\n",
       "        text-align: right;\n",
       "    }\n",
       "</style>\n",
       "<table border=\"1\" class=\"dataframe\">\n",
       "  <thead>\n",
       "    <tr style=\"text-align: right;\">\n",
       "      <th></th>\n",
       "      <th>desc</th>\n",
       "      <th>title</th>\n",
       "      <th>timeStamp</th>\n",
       "      <th>twp</th>\n",
       "      <th>addr</th>\n",
       "      <th>reason</th>\n",
       "      <th>title_code</th>\n",
       "      <th>weekday</th>\n",
       "    </tr>\n",
       "  </thead>\n",
       "  <tbody>\n",
       "    <tr>\n",
       "      <th>count</th>\n",
       "      <td>583199</td>\n",
       "      <td>583199</td>\n",
       "      <td>583199</td>\n",
       "      <td>583199</td>\n",
       "      <td>583199</td>\n",
       "      <td>583199</td>\n",
       "      <td>583199</td>\n",
       "      <td>583199</td>\n",
       "    </tr>\n",
       "    <tr>\n",
       "      <th>unique</th>\n",
       "      <td>582993</td>\n",
       "      <td>144</td>\n",
       "      <td>566959</td>\n",
       "      <td>68</td>\n",
       "      <td>38059</td>\n",
       "      <td>3</td>\n",
       "      <td>93</td>\n",
       "      <td>7</td>\n",
       "    </tr>\n",
       "    <tr>\n",
       "      <th>top</th>\n",
       "      <td>CITY AVE &amp; CARDINAL AVE;  LOWER MERION; Statio...</td>\n",
       "      <td>Traffic: VEHICLE ACCIDENT -</td>\n",
       "      <td>2018-07-09 13:23:16</td>\n",
       "      <td>LOWER MERION</td>\n",
       "      <td>SHANNONDELL DR &amp; SHANNONDELL BLVD</td>\n",
       "      <td>EMS</td>\n",
       "      <td>VEHICLE ACCIDENT -</td>\n",
       "      <td>Friday</td>\n",
       "    </tr>\n",
       "    <tr>\n",
       "      <th>freq</th>\n",
       "      <td>5</td>\n",
       "      <td>125113</td>\n",
       "      <td>8</td>\n",
       "      <td>47487</td>\n",
       "      <td>7285</td>\n",
       "      <td>304785</td>\n",
       "      <td>125113</td>\n",
       "      <td>90328</td>\n",
       "    </tr>\n",
       "  </tbody>\n",
       "</table>\n",
       "</div>"
      ],
      "text/plain": [
       "                                                     desc  \\\n",
       "count                                              583199   \n",
       "unique                                             582993   \n",
       "top     CITY AVE & CARDINAL AVE;  LOWER MERION; Statio...   \n",
       "freq                                                    5   \n",
       "\n",
       "                              title            timeStamp           twp  \\\n",
       "count                        583199               583199        583199   \n",
       "unique                          144               566959            68   \n",
       "top     Traffic: VEHICLE ACCIDENT -  2018-07-09 13:23:16  LOWER MERION   \n",
       "freq                         125113                    8         47487   \n",
       "\n",
       "                                     addr  reason           title_code weekday  \n",
       "count                              583199  583199               583199  583199  \n",
       "unique                              38059       3                   93       7  \n",
       "top     SHANNONDELL DR & SHANNONDELL BLVD     EMS   VEHICLE ACCIDENT -  Friday  \n",
       "freq                                 7285  304785               125113   90328  "
      ]
     },
     "execution_count": 20,
     "metadata": {},
     "output_type": "execute_result"
    }
   ],
   "source": [
    "data.describe(include=[\"object\"])"
   ]
  },
  {
   "cell_type": "markdown",
   "id": "57d723e3",
   "metadata": {
    "id": "1ZtuY-xXCBVu",
    "papermill": {
     "duration": 0.004537,
     "end_time": "2025-04-16T01:37:09.601882",
     "exception": false,
     "start_time": "2025-04-16T01:37:09.597345",
     "status": "completed"
    },
    "tags": []
   },
   "source": [
    "# Remove Outliers"
   ]
  },
  {
   "cell_type": "code",
   "execution_count": 21,
   "id": "b02f298e",
   "metadata": {
    "colab": {
     "base_uri": "https://localhost:8080/"
    },
    "execution": {
     "iopub.execute_input": "2025-04-16T01:37:09.611473Z",
     "iopub.status.busy": "2025-04-16T01:37:09.611356Z",
     "iopub.status.idle": "2025-04-16T01:37:20.609576Z",
     "shell.execute_reply": "2025-04-16T01:37:20.609166Z"
    },
    "id": "5nVG0FX7CDUZ",
    "outputId": "94910ab7-84c4-46a1-d39f-6866fa931db8",
    "papermill": {
     "duration": 11.004773,
     "end_time": "2025-04-16T01:37:20.611233",
     "exception": false,
     "start_time": "2025-04-16T01:37:09.606460",
     "status": "completed"
    },
    "tags": []
   },
   "outputs": [
    {
     "data": {
      "image/png": "[encoded data removed]",
      "text/plain": [
       "<Figure size 640x480 with 1 Axes>"
      ]
     },
     "metadata": {},
     "output_type": "display_data"
    }
   ],
   "source": [
    "import seaborn as sns\n",
    "\n",
    "sns.scatterplot(x=data['lat'],y=data['lng'], hue=data['reason']);"
   ]
  },
  {
   "cell_type": "code",
   "execution_count": 22,
   "id": "3ccf92ea",
   "metadata": {
    "execution": {
     "iopub.execute_input": "2025-04-16T01:37:20.621959Z",
     "iopub.status.busy": "2025-04-16T01:37:20.621845Z",
     "iopub.status.idle": "2025-04-16T01:37:20.788870Z",
     "shell.execute_reply": "2025-04-16T01:37:20.788521Z"
    },
    "id": "1R9AKWoXCEWB",
    "papermill": {
     "duration": 0.172984,
     "end_time": "2025-04-16T01:37:20.789851",
     "exception": false,
     "start_time": "2025-04-16T01:37:20.616867",
     "status": "completed"
    },
    "tags": []
   },
   "outputs": [],
   "source": [
    "data = data[(data[\"lat\"] > 39.5) & (data[\"lat\"] <41.0) ]\n",
    "data = data[(data[\"lng\"] > -77.0)]"
   ]
  },
  {
   "cell_type": "code",
   "execution_count": 23,
   "id": "61a9cedf",
   "metadata": {
    "execution": {
     "iopub.execute_input": "2025-04-16T01:37:20.799484Z",
     "iopub.status.busy": "2025-04-16T01:37:20.799392Z",
     "iopub.status.idle": "2025-04-16T01:37:32.202665Z",
     "shell.execute_reply": "2025-04-16T01:37:32.201917Z"
    },
    "id": "LzHo32jWCOvx",
    "papermill": {
     "duration": 11.410245,
     "end_time": "2025-04-16T01:37:32.204764",
     "exception": false,
     "start_time": "2025-04-16T01:37:20.794519",
     "status": "completed"
    },
    "tags": []
   },
   "outputs": [],
   "source": [
    "import os\n",
    "\n",
    "sns.scatterplot(x=data['lat'],y=data['lng'], hue=data['reason']);\n",
    "\n",
    "images_dir = f\"src/output/{job_id}/images\"\n",
    "os.makedirs(images_dir, exist_ok=True)\n",
    "results_dir = f\"src/output/{job_id}/results\"\n",
    "os.makedirs(results_dir, exist_ok=True)\n",
    "\n",
    "plt.savefig(f\"{images_dir}/1.png\", bbox_inches='tight')\n",
    "plt.close()"
   ]
  },
  {
   "cell_type": "code",
   "execution_count": 24,
   "id": "af75a8cd",
   "metadata": {
    "execution": {
     "iopub.execute_input": "2025-04-16T01:37:32.217034Z",
     "iopub.status.busy": "2025-04-16T01:37:32.216910Z",
     "iopub.status.idle": "2025-04-16T01:37:32.448792Z",
     "shell.execute_reply": "2025-04-16T01:37:32.448478Z"
    },
    "id": "6J1K-XSbFTEF",
    "papermill": {
     "duration": 0.238021,
     "end_time": "2025-04-16T01:37:32.449582",
     "exception": false,
     "start_time": "2025-04-16T01:37:32.211561",
     "status": "completed"
    },
    "tags": []
   },
   "outputs": [],
   "source": [
    "data = data[data[\"lng\"] > -77]\n",
    "data = data[data[\"lng\"] < -25]"
   ]
  },
  {
   "cell_type": "markdown",
   "id": "a40cc8a2",
   "metadata": {
    "id": "hA_2fHev84vx",
    "papermill": {
     "duration": 0.004453,
     "end_time": "2025-04-16T01:37:32.458688",
     "exception": false,
     "start_time": "2025-04-16T01:37:32.454235",
     "status": "completed"
    },
    "tags": []
   },
   "source": [
    "# Visualizations"
   ]
  },
  {
   "cell_type": "code",
   "execution_count": 25,
   "id": "95d99524",
   "metadata": {
    "colab": {
     "base_uri": "https://localhost:8080/"
    },
    "execution": {
     "iopub.execute_input": "2025-04-16T01:37:32.468124Z",
     "iopub.status.busy": "2025-04-16T01:37:32.467999Z",
     "iopub.status.idle": "2025-04-16T01:37:32.945659Z",
     "shell.execute_reply": "2025-04-16T01:37:32.945393Z"
    },
    "id": "ZDVXsGDd7eCK",
    "outputId": "3b73d73d-f9f9-4a44-a87c-6e4f28a136f8",
    "papermill": {
     "duration": 0.483408,
     "end_time": "2025-04-16T01:37:32.946442",
     "exception": false,
     "start_time": "2025-04-16T01:37:32.463034",
     "status": "completed"
    },
    "tags": []
   },
   "outputs": [
    {
     "data": {
      "image/png": "[encoded data removed]",
      "text/plain": [
       "<Figure size 640x480 with 1 Axes>"
      ]
     },
     "metadata": {},
     "output_type": "display_data"
    }
   ],
   "source": [
    "# Histogram by half year\n",
    "import datetime as dt\n",
    "\n",
    "plt.hist(pd.to_datetime(data['timeStamp']).dt.date, bins = 27);"
   ]
  },
  {
   "cell_type": "code",
   "execution_count": 26,
   "id": "2f569286",
   "metadata": {
    "execution": {
     "iopub.execute_input": "2025-04-16T01:37:32.956344Z",
     "iopub.status.busy": "2025-04-16T01:37:32.956245Z",
     "iopub.status.idle": "2025-04-16T01:37:33.394283Z",
     "shell.execute_reply": "2025-04-16T01:37:33.394007Z"
    },
    "id": "AiKQDynA_3LM",
    "papermill": {
     "duration": 0.443746,
     "end_time": "2025-04-16T01:37:33.395098",
     "exception": false,
     "start_time": "2025-04-16T01:37:32.951352",
     "status": "completed"
    },
    "tags": []
   },
   "outputs": [],
   "source": [
    "fig, axes = plt.subplots(1,2, figsize=(15, 5))\n",
    "\n",
    "sns.countplot(x='reason', data=data, order=data['reason'].value_counts().index, ax=axes[0])\n",
    "axes[0].set_title('Common Reasons for 911 Calls', size=13)\n",
    "axes[0].set(xlabel='Reason', ylabel='Count')\n",
    "\n",
    "data['reason'].value_counts().plot.pie(autopct='%1.1f%%',ax=axes[1])\n",
    "axes[1].set(xlabel='', ylabel='')\n",
    "\n",
    "sns.despine(bottom=False, left=True)\n",
    "plt.savefig(f\"{images_dir}/2.png\", bbox_inches='tight')\n",
    "\n",
    "plt.close()"
   ]
  },
  {
   "cell_type": "code",
   "execution_count": 27,
   "id": "3bd50b30",
   "metadata": {
    "colab": {
     "base_uri": "https://localhost:8080/"
    },
    "execution": {
     "iopub.execute_input": "2025-04-16T01:37:33.404796Z",
     "iopub.status.busy": "2025-04-16T01:37:33.404705Z",
     "iopub.status.idle": "2025-04-16T01:37:34.143045Z",
     "shell.execute_reply": "2025-04-16T01:37:34.142711Z"
    },
    "id": "9YcaEurrANVH",
    "outputId": "0ec52131-ce10-45a5-ef2f-97394820b916",
    "papermill": {
     "duration": 0.744989,
     "end_time": "2025-04-16T01:37:34.144809",
     "exception": false,
     "start_time": "2025-04-16T01:37:33.399820",
     "status": "completed"
    },
    "tags": []
   },
   "outputs": [
    {
     "name": "stderr",
     "output_type": "stream",
     "text": [
      "/var/folders/bz/hpwswv1n2_vcxmwy86j2htkm0000gn/T/ipykernel_27534/1568977134.py:2: FutureWarning: \n",
      "\n",
      "Passing `palette` without assigning `hue` is deprecated and will be removed in v0.14.0. Assign the `y` variable to `hue` and set `legend=False` for the same effect.\n",
      "\n",
      "  sns.countplot(y='title', data=data, order=data['title'].value_counts().index, palette='prism')\n"
     ]
    }
   ],
   "source": [
    "fig, axes = plt.subplots(figsize=(10, 5))\n",
    "sns.countplot(y='title', data=data, order=data['title'].value_counts().index, palette='prism')\n",
    "sns.despine(bottom=False, left=True)\n",
    "axes.set_ylim([9, 0])\n",
    "axes.set_title('Count of Descriptions for 911 Calls', size=15)\n",
    "axes.set(xlabel='Number of 911 Calls', ylabel='')\n",
    "plt.tight_layout()\n",
    "# Save the figure\n",
    "plt.savefig(f\"{images_dir}/3.png\", bbox_inches='tight')\n",
    "\n",
    "# Close the plot to free memory (especially in scripts or notebooks)\n",
    "plt.close()"
   ]
  },
  {
   "cell_type": "code",
   "execution_count": 28,
   "id": "78a24d4d",
   "metadata": {
    "execution": {
     "iopub.execute_input": "2025-04-16T01:37:34.155297Z",
     "iopub.status.busy": "2025-04-16T01:37:34.155195Z",
     "iopub.status.idle": "2025-04-16T01:37:34.280954Z",
     "shell.execute_reply": "2025-04-16T01:37:34.280559Z"
    },
    "id": "8G13I2vWARRM",
    "papermill": {
     "duration": 0.131752,
     "end_time": "2025-04-16T01:37:34.281773",
     "exception": false,
     "start_time": "2025-04-16T01:37:34.150021",
     "status": "completed"
    },
    "tags": []
   },
   "outputs": [],
   "source": [
    "data[data['reason']=='Traffic'].groupby('title_code').count()['lat'].sort_values(ascending=True).plot(kind='barh', figsize=(10, 5), color='darkblue')\n",
    "plt.xlabel('Number of 911 Calls')\n",
    "plt.ylabel('')\n",
    "plt.title('Traffic 911 Emergency Calls', fontsize=15)\n",
    "plt.savefig(f\"{images_dir}/4.png\", bbox_inches='tight')\n",
    "plt.close()"
   ]
  },
  {
   "cell_type": "code",
   "execution_count": 29,
   "id": "46b17112",
   "metadata": {
    "execution": {
     "iopub.execute_input": "2025-04-16T01:37:34.291609Z",
     "iopub.status.busy": "2025-04-16T01:37:34.291508Z",
     "iopub.status.idle": "2025-04-16T01:37:34.493911Z",
     "shell.execute_reply": "2025-04-16T01:37:34.493568Z"
    },
    "id": "e--a2sdcAfce",
    "papermill": {
     "duration": 0.208265,
     "end_time": "2025-04-16T01:37:34.494785",
     "exception": false,
     "start_time": "2025-04-16T01:37:34.286520",
     "status": "completed"
    },
    "tags": []
   },
   "outputs": [],
   "source": [
    "data[data['reason']=='Fire'].groupby('title_code').count()['lat'].sort_values(ascending=True).tail(10).plot(kind='barh', figsize=(10, 5), color='darkred')\n",
    "plt.xlabel('Number of 911 Calls')\n",
    "plt.ylabel('')\n",
    "plt.title('Fire 911 Emergency Calls', fontsize=15)\n",
    "plt.savefig(f\"{images_dir}/5.png\", bbox_inches='tight')\n",
    "plt.close()"
   ]
  },
  {
   "cell_type": "code",
   "execution_count": 30,
   "id": "e78f71ac",
   "metadata": {
    "execution": {
     "iopub.execute_input": "2025-04-16T01:37:34.504671Z",
     "iopub.status.busy": "2025-04-16T01:37:34.504564Z",
     "iopub.status.idle": "2025-04-16T01:37:34.653262Z",
     "shell.execute_reply": "2025-04-16T01:37:34.652993Z"
    },
    "id": "pxnI-Oz6AmlY",
    "papermill": {
     "duration": 0.154401,
     "end_time": "2025-04-16T01:37:34.654007",
     "exception": false,
     "start_time": "2025-04-16T01:37:34.499606",
     "status": "completed"
    },
    "tags": []
   },
   "outputs": [],
   "source": [
    "data[data['reason']=='EMS'].groupby('title_code').count()['lat'].sort_values(ascending=True).tail(10).plot(kind='barh', figsize=(10, 5), color='darkgreen')\n",
    "plt.xlabel('Number of 911 Calls')\n",
    "plt.ylabel('')\n",
    "plt.title('EMS 911 Emergency Calls', fontsize=15)\n",
    "plt.savefig(f\"{images_dir}/6.png\", bbox_inches='tight')\n",
    "plt.close()"
   ]
  },
  {
   "cell_type": "markdown",
   "id": "427082d3",
   "metadata": {
    "id": "2pK0B6SeaGAT",
    "papermill": {
     "duration": 0.004645,
     "end_time": "2025-04-16T01:37:34.663421",
     "exception": false,
     "start_time": "2025-04-16T01:37:34.658776",
     "status": "completed"
    },
    "tags": []
   },
   "source": [
    "# Sample Maps"
   ]
  },
  {
   "cell_type": "code",
   "execution_count": 31,
   "id": "619bb297",
   "metadata": {
    "execution": {
     "iopub.execute_input": "2025-04-16T01:37:34.673182Z",
     "iopub.status.busy": "2025-04-16T01:37:34.673078Z",
     "iopub.status.idle": "2025-04-16T01:37:34.674525Z",
     "shell.execute_reply": "2025-04-16T01:37:34.674313Z"
    },
    "id": "9o8xC1-K7D1p",
    "papermill": {
     "duration": 0.006894,
     "end_time": "2025-04-16T01:37:34.675089",
     "exception": false,
     "start_time": "2025-04-16T01:37:34.668195",
     "status": "completed"
    },
    "tags": []
   },
   "outputs": [],
   "source": [
    "#import folium"
   ]
  },
  {
   "cell_type": "code",
   "execution_count": 32,
   "id": "944b946f",
   "metadata": {
    "execution": {
     "iopub.execute_input": "2025-04-16T01:37:34.684523Z",
     "iopub.status.busy": "2025-04-16T01:37:34.684444Z",
     "iopub.status.idle": "2025-04-16T01:37:34.685885Z",
     "shell.execute_reply": "2025-04-16T01:37:34.685686Z"
    },
    "id": "uaeW4CC67Fc4",
    "papermill": {
     "duration": 0.006838,
     "end_time": "2025-04-16T01:37:34.686454",
     "exception": false,
     "start_time": "2025-04-16T01:37:34.679616",
     "status": "completed"
    },
    "tags": []
   },
   "outputs": [],
   "source": [
    "# Create and center Folium map\n",
    "#folium_map = folium.Map(location=[40.102500,\t-75.399590],\n",
    "                        #tiles=\"OpenStreetMap\")\n",
    "\n",
    "# Plot Points\n",
    "#for index, row in data.iterrows():\n",
    "#    radius_len = 1\n",
    "\n",
    "#    folium.CircleMarker(location = (row['lat'],\n",
    "#                                   row['lng']),\n",
    "#                      radius = radius_len,\n",
    "#                       fill = True).add_to(folium_map)\n",
    "\n",
    "#folium_map\n"
   ]
  },
  {
   "cell_type": "code",
   "execution_count": 33,
   "id": "2c6ffd59",
   "metadata": {
    "execution": {
     "iopub.execute_input": "2025-04-16T01:37:34.695808Z",
     "iopub.status.busy": "2025-04-16T01:37:34.695725Z",
     "iopub.status.idle": "2025-04-16T01:37:34.697027Z",
     "shell.execute_reply": "2025-04-16T01:37:34.696849Z"
    },
    "id": "kusuge_k7OZB",
    "papermill": {
     "duration": 0.006571,
     "end_time": "2025-04-16T01:37:34.697552",
     "exception": false,
     "start_time": "2025-04-16T01:37:34.690981",
     "status": "completed"
    },
    "tags": []
   },
   "outputs": [],
   "source": [
    "#from folium import plugins\n",
    "#from folium.plugins import HeatMap"
   ]
  },
  {
   "cell_type": "code",
   "execution_count": 34,
   "id": "d11d2040",
   "metadata": {
    "execution": {
     "iopub.execute_input": "2025-04-16T01:37:34.707165Z",
     "iopub.status.busy": "2025-04-16T01:37:34.707075Z",
     "iopub.status.idle": "2025-04-16T01:37:34.708548Z",
     "shell.execute_reply": "2025-04-16T01:37:34.708361Z"
    },
    "id": "XeYjM22r7OoI",
    "papermill": {
     "duration": 0.007159,
     "end_time": "2025-04-16T01:37:34.709237",
     "exception": false,
     "start_time": "2025-04-16T01:37:34.702078",
     "status": "completed"
    },
    "tags": []
   },
   "outputs": [],
   "source": [
    "#map_hooray = folium.Map(location=[40.102500,\t-75.399590],)\n",
    "\n",
    "#heat_df = data.head(10000) # Reducing data size so it runs faster\n",
    "#heat_df = heat_df[['lat', 'lng']]\n",
    "\n",
    "# List comprehension to make out list of lists\n",
    "#heat_data = [[row['lat'],row['lng']] for index, row in heat_df.iterrows()]\n",
    "\n",
    "# Plot it on the map\n",
    "#HeatMap(heat_data).add_to(map_hooray)\n",
    "\n",
    "# Display the map\n",
    "#map_hooray"
   ]
  },
  {
   "cell_type": "code",
   "execution_count": 35,
   "id": "bf48690a",
   "metadata": {
    "execution": {
     "iopub.execute_input": "2025-04-16T01:37:34.719649Z",
     "iopub.status.busy": "2025-04-16T01:37:34.719549Z",
     "iopub.status.idle": "2025-04-16T01:37:34.721117Z",
     "shell.execute_reply": "2025-04-16T01:37:34.720934Z"
    },
    "id": "gLmrqRVT7TIg",
    "papermill": {
     "duration": 0.007523,
     "end_time": "2025-04-16T01:37:34.721713",
     "exception": false,
     "start_time": "2025-04-16T01:37:34.714190",
     "status": "completed"
    },
    "tags": []
   },
   "outputs": [],
   "source": [
    "#map_hooray = folium.Map(location=[40.102500,\t-75.399590],)\n",
    "\n",
    "# Plot Points\n",
    "#for index, row in data.head(50000).iterrows():\n",
    "#    radius_len = 1\n",
    "\n",
    "    # color = row[\"property_type\"]\n",
    "#    if row[\"reason\"] == \"EMS\":\n",
    "#        color = [\"red\"]\n",
    "#    elif row[\"reason\"] == \"Fire\":\n",
    "#        color = [\"blue\"]\n",
    "#    elif row[\"reason\"] == \"Traffic\":\n",
    "#        color = [\"green\"]\n",
    "\n",
    "#    folium.CircleMarker(location = (row['lat'],\n",
    "#                                   row['lng']),\n",
    "#                       radius = radius_len,\n",
    "#                       color = color,\n",
    "#                       fill = True).add_to(folium_map)\n",
    "\n",
    "#folium_map\n"
   ]
  },
  {
   "cell_type": "markdown",
   "id": "7b51b785",
   "metadata": {
    "id": "BzDXO6qt8GiK",
    "papermill": {
     "duration": 0.004615,
     "end_time": "2025-04-16T01:37:34.730966",
     "exception": false,
     "start_time": "2025-04-16T01:37:34.726351",
     "status": "completed"
    },
    "tags": []
   },
   "source": [
    "# Feature Engineering (Longitude, Latitude)"
   ]
  },
  {
   "cell_type": "markdown",
   "id": "d7928d0c",
   "metadata": {
    "id": "YWzyn0_w9sVN",
    "papermill": {
     "duration": 0.004618,
     "end_time": "2025-04-16T01:37:34.740290",
     "exception": false,
     "start_time": "2025-04-16T01:37:34.735672",
     "status": "completed"
    },
    "tags": []
   },
   "source": [
    "Lat Long"
   ]
  },
  {
   "cell_type": "code",
   "execution_count": 36,
   "id": "06cd7e56",
   "metadata": {
    "colab": {
     "base_uri": "https://localhost:8080/"
    },
    "execution": {
     "iopub.execute_input": "2025-04-16T01:37:34.750004Z",
     "iopub.status.busy": "2025-04-16T01:37:34.749915Z",
     "iopub.status.idle": "2025-04-16T01:37:46.093202Z",
     "shell.execute_reply": "2025-04-16T01:37:46.092773Z"
    },
    "id": "AOy-NwDw9ePJ",
    "outputId": "bb30f685-8348-4496-8381-7f0a574db32b",
    "papermill": {
     "duration": 11.349963,
     "end_time": "2025-04-16T01:37:46.094835",
     "exception": false,
     "start_time": "2025-04-16T01:37:34.744872",
     "status": "completed"
    },
    "tags": []
   },
   "outputs": [
    {
     "data": {
      "image/png": "[encoded data removed]",
      "text/plain": [
       "<Figure size 640x480 with 1 Axes>"
      ]
     },
     "metadata": {},
     "output_type": "display_data"
    }
   ],
   "source": [
    "# Plot data\n",
    "sns.scatterplot(x=data['lat'],y=data['lng'], hue=data['reason']);"
   ]
  },
  {
   "cell_type": "code",
   "execution_count": 37,
   "id": "4cf3dd5c",
   "metadata": {
    "execution": {
     "iopub.execute_input": "2025-04-16T01:37:46.107199Z",
     "iopub.status.busy": "2025-04-16T01:37:46.107086Z",
     "iopub.status.idle": "2025-04-16T01:37:48.669824Z",
     "shell.execute_reply": "2025-04-16T01:37:48.669411Z"
    },
    "id": "sJv6NPy9DMw0",
    "papermill": {
     "duration": 2.569551,
     "end_time": "2025-04-16T01:37:48.670960",
     "exception": false,
     "start_time": "2025-04-16T01:37:46.101409",
     "status": "completed"
    },
    "tags": []
   },
   "outputs": [],
   "source": [
    "import sklearn.cluster\n",
    "from sklearn.cluster import KMeans\n",
    "\n",
    "Sum_of_squared_distances = []\n",
    "K = range(1,15)\n",
    "for k in K:\n",
    "    km = KMeans(n_clusters=k)\n",
    "    km = km.fit(data[[\"lat\",\"lng\"]])\n",
    "    Sum_of_squared_distances.append(km.inertia_)"
   ]
  },
  {
   "cell_type": "code",
   "execution_count": 38,
   "id": "423028d8",
   "metadata": {
    "colab": {
     "base_uri": "https://localhost:8080/"
    },
    "execution": {
     "iopub.execute_input": "2025-04-16T01:37:48.685339Z",
     "iopub.status.busy": "2025-04-16T01:37:48.684818Z",
     "iopub.status.idle": "2025-04-16T01:37:48.728528Z",
     "shell.execute_reply": "2025-04-16T01:37:48.728267Z"
    },
    "id": "lRQqtt4gE7jp",
    "outputId": "84ce5eed-f90a-4bd4-b7bc-169b90395c6b",
    "papermill": {
     "duration": 0.050793,
     "end_time": "2025-04-16T01:37:48.729415",
     "exception": false,
     "start_time": "2025-04-16T01:37:48.678622",
     "status": "completed"
    },
    "tags": []
   },
   "outputs": [
    {
     "data": {
      "image/png": "[encoded data removed]",
      "text/plain": [
       "<Figure size 640x480 with 1 Axes>"
      ]
     },
     "metadata": {},
     "output_type": "display_data"
    }
   ],
   "source": [
    "plt.plot(K, Sum_of_squared_distances, 'bx-')\n",
    "plt.xlabel('k')\n",
    "plt.ylabel('Sum_of_squared_distances')\n",
    "plt.title('Elbow Method For Optimal k')\n",
    "plt.show()"
   ]
  },
  {
   "cell_type": "code",
   "execution_count": 39,
   "id": "9f9d7220",
   "metadata": {
    "execution": {
     "iopub.execute_input": "2025-04-16T01:37:48.740933Z",
     "iopub.status.busy": "2025-04-16T01:37:48.740831Z",
     "iopub.status.idle": "2025-04-16T01:37:48.841453Z",
     "shell.execute_reply": "2025-04-16T01:37:48.841069Z"
    },
    "id": "2QoJnFKkFJ04",
    "papermill": {
     "duration": 0.107493,
     "end_time": "2025-04-16T01:37:48.842491",
     "exception": false,
     "start_time": "2025-04-16T01:37:48.734998",
     "status": "completed"
    },
    "tags": []
   },
   "outputs": [],
   "source": [
    "# Select K = 5\n",
    "km = KMeans(n_clusters= 5)\n",
    "km.fit(data[[\"lat\",\"lng\"]])\n",
    "clusters = km.predict(data[[\"lat\",\"lng\"]])"
   ]
  },
  {
   "cell_type": "code",
   "execution_count": 40,
   "id": "38bb5361",
   "metadata": {
    "execution": {
     "iopub.execute_input": "2025-04-16T01:37:48.854449Z",
     "iopub.status.busy": "2025-04-16T01:37:48.854348Z",
     "iopub.status.idle": "2025-04-16T01:37:48.856820Z",
     "shell.execute_reply": "2025-04-16T01:37:48.856427Z"
    },
    "id": "8V8Gx3aFJJJL",
    "papermill": {
     "duration": 0.009192,
     "end_time": "2025-04-16T01:37:48.857725",
     "exception": false,
     "start_time": "2025-04-16T01:37:48.848533",
     "status": "completed"
    },
    "tags": []
   },
   "outputs": [],
   "source": [
    "data[\"cluster\"] = pd.Series(clusters, index=data.index)\n"
   ]
  },
  {
   "cell_type": "code",
   "execution_count": 41,
   "id": "75353c00",
   "metadata": {
    "colab": {
     "base_uri": "https://localhost:8080/"
    },
    "execution": {
     "iopub.execute_input": "2025-04-16T01:37:48.868818Z",
     "iopub.status.busy": "2025-04-16T01:37:48.868726Z",
     "iopub.status.idle": "2025-04-16T01:37:48.873548Z",
     "shell.execute_reply": "2025-04-16T01:37:48.873301Z"
    },
    "id": "AAMEbe0m3GeC",
    "outputId": "4f91420b-6979-4701-98c2-9575f112f144",
    "papermill": {
     "duration": 0.01143,
     "end_time": "2025-04-16T01:37:48.874502",
     "exception": false,
     "start_time": "2025-04-16T01:37:48.863072",
     "status": "completed"
    },
    "tags": []
   },
   "outputs": [
    {
     "data": {
      "text/html": [
       "<div>\n",
       "<style scoped>\n",
       "    .dataframe tbody tr th:only-of-type {\n",
       "        vertical-align: middle;\n",
       "    }\n",
       "\n",
       "    .dataframe tbody tr th {\n",
       "        vertical-align: top;\n",
       "    }\n",
       "\n",
       "    .dataframe thead th {\n",
       "        text-align: right;\n",
       "    }\n",
       "</style>\n",
       "<table border=\"1\" class=\"dataframe\">\n",
       "  <thead>\n",
       "    <tr style=\"text-align: right;\">\n",
       "      <th></th>\n",
       "      <th>lat</th>\n",
       "      <th>lng</th>\n",
       "      <th>desc</th>\n",
       "      <th>zip</th>\n",
       "      <th>title</th>\n",
       "      <th>timeStamp</th>\n",
       "      <th>twp</th>\n",
       "      <th>addr</th>\n",
       "      <th>reason</th>\n",
       "      <th>title_code</th>\n",
       "      <th>weekday</th>\n",
       "      <th>cluster</th>\n",
       "    </tr>\n",
       "  </thead>\n",
       "  <tbody>\n",
       "    <tr>\n",
       "      <th>0</th>\n",
       "      <td>40.297876</td>\n",
       "      <td>-75.581294</td>\n",
       "      <td>REINDEER CT &amp; DEAD END;  NEW HANOVER; Station ...</td>\n",
       "      <td>19525.0</td>\n",
       "      <td>EMS: BACK PAINS/INJURY</td>\n",
       "      <td>2015-12-10 17:10:52</td>\n",
       "      <td>NEW HANOVER</td>\n",
       "      <td>REINDEER CT &amp; DEAD END</td>\n",
       "      <td>EMS</td>\n",
       "      <td>BACK PAINS/INJURY</td>\n",
       "      <td>Thursday</td>\n",
       "      <td>1</td>\n",
       "    </tr>\n",
       "    <tr>\n",
       "      <th>1</th>\n",
       "      <td>40.258061</td>\n",
       "      <td>-75.264680</td>\n",
       "      <td>BRIAR PATH &amp; WHITEMARSH LN;  HATFIELD TOWNSHIP...</td>\n",
       "      <td>19446.0</td>\n",
       "      <td>EMS: DIABETIC EMERGENCY</td>\n",
       "      <td>2015-12-10 17:29:21</td>\n",
       "      <td>HATFIELD TOWNSHIP</td>\n",
       "      <td>BRIAR PATH &amp; WHITEMARSH LN</td>\n",
       "      <td>EMS</td>\n",
       "      <td>DIABETIC EMERGENCY</td>\n",
       "      <td>Thursday</td>\n",
       "      <td>3</td>\n",
       "    </tr>\n",
       "    <tr>\n",
       "      <th>2</th>\n",
       "      <td>40.121182</td>\n",
       "      <td>-75.351975</td>\n",
       "      <td>HAWS AVE; NORRISTOWN; 2015-12-10 @ 14:39:21-St...</td>\n",
       "      <td>19401.0</td>\n",
       "      <td>Fire: GAS-ODOR/LEAK</td>\n",
       "      <td>2015-12-10 14:39:21</td>\n",
       "      <td>NORRISTOWN</td>\n",
       "      <td>HAWS AVE</td>\n",
       "      <td>Fire</td>\n",
       "      <td>GAS-ODOR/LEAK</td>\n",
       "      <td>Thursday</td>\n",
       "      <td>0</td>\n",
       "    </tr>\n",
       "    <tr>\n",
       "      <th>3</th>\n",
       "      <td>40.116153</td>\n",
       "      <td>-75.343513</td>\n",
       "      <td>AIRY ST &amp; SWEDE ST;  NORRISTOWN; Station 308A;...</td>\n",
       "      <td>19401.0</td>\n",
       "      <td>EMS: CARDIAC EMERGENCY</td>\n",
       "      <td>2015-12-10 16:47:36</td>\n",
       "      <td>NORRISTOWN</td>\n",
       "      <td>AIRY ST &amp; SWEDE ST</td>\n",
       "      <td>EMS</td>\n",
       "      <td>CARDIAC EMERGENCY</td>\n",
       "      <td>Thursday</td>\n",
       "      <td>0</td>\n",
       "    </tr>\n",
       "    <tr>\n",
       "      <th>5</th>\n",
       "      <td>40.253473</td>\n",
       "      <td>-75.283245</td>\n",
       "      <td>CANNON AVE &amp; W 9TH ST;  LANSDALE; Station 345;...</td>\n",
       "      <td>19446.0</td>\n",
       "      <td>EMS: HEAD INJURY</td>\n",
       "      <td>2015-12-10 15:39:04</td>\n",
       "      <td>LANSDALE</td>\n",
       "      <td>CANNON AVE &amp; W 9TH ST</td>\n",
       "      <td>EMS</td>\n",
       "      <td>HEAD INJURY</td>\n",
       "      <td>Thursday</td>\n",
       "      <td>3</td>\n",
       "    </tr>\n",
       "  </tbody>\n",
       "</table>\n",
       "</div>"
      ],
      "text/plain": [
       "         lat        lng                                               desc  \\\n",
       "0  40.297876 -75.581294  REINDEER CT & DEAD END;  NEW HANOVER; Station ...   \n",
       "1  40.258061 -75.264680  BRIAR PATH & WHITEMARSH LN;  HATFIELD TOWNSHIP...   \n",
       "2  40.121182 -75.351975  HAWS AVE; NORRISTOWN; 2015-12-10 @ 14:39:21-St...   \n",
       "3  40.116153 -75.343513  AIRY ST & SWEDE ST;  NORRISTOWN; Station 308A;...   \n",
       "5  40.253473 -75.283245  CANNON AVE & W 9TH ST;  LANSDALE; Station 345;...   \n",
       "\n",
       "       zip                    title            timeStamp                twp  \\\n",
       "0  19525.0   EMS: BACK PAINS/INJURY  2015-12-10 17:10:52        NEW HANOVER   \n",
       "1  19446.0  EMS: DIABETIC EMERGENCY  2015-12-10 17:29:21  HATFIELD TOWNSHIP   \n",
       "2  19401.0      Fire: GAS-ODOR/LEAK  2015-12-10 14:39:21         NORRISTOWN   \n",
       "3  19401.0   EMS: CARDIAC EMERGENCY  2015-12-10 16:47:36         NORRISTOWN   \n",
       "5  19446.0         EMS: HEAD INJURY  2015-12-10 15:39:04           LANSDALE   \n",
       "\n",
       "                         addr reason           title_code   weekday  cluster  \n",
       "0      REINDEER CT & DEAD END    EMS    BACK PAINS/INJURY  Thursday        1  \n",
       "1  BRIAR PATH & WHITEMARSH LN    EMS   DIABETIC EMERGENCY  Thursday        3  \n",
       "2                    HAWS AVE   Fire        GAS-ODOR/LEAK  Thursday        0  \n",
       "3          AIRY ST & SWEDE ST    EMS    CARDIAC EMERGENCY  Thursday        0  \n",
       "5       CANNON AVE & W 9TH ST    EMS          HEAD INJURY  Thursday        3  "
      ]
     },
     "execution_count": 41,
     "metadata": {},
     "output_type": "execute_result"
    }
   ],
   "source": [
    "data.head()"
   ]
  },
  {
   "cell_type": "code",
   "execution_count": 42,
   "id": "3a2c0199",
   "metadata": {
    "colab": {
     "base_uri": "https://localhost:8080/"
    },
    "execution": {
     "iopub.execute_input": "2025-04-16T01:37:48.886043Z",
     "iopub.status.busy": "2025-04-16T01:37:48.885839Z",
     "iopub.status.idle": "2025-04-16T01:37:59.199835Z",
     "shell.execute_reply": "2025-04-16T01:37:59.199322Z"
    },
    "id": "cdXNoB6N2vAC",
    "outputId": "8980d250-2849-4e79-963b-525a0192bb89",
    "papermill": {
     "duration": 10.323631,
     "end_time": "2025-04-16T01:37:59.203709",
     "exception": false,
     "start_time": "2025-04-16T01:37:48.880078",
     "status": "completed"
    },
    "tags": []
   },
   "outputs": [
    {
     "data": {
      "image/png": "[encoded data removed]",
      "text/plain": [
       "<Figure size 640x480 with 1 Axes>"
      ]
     },
     "metadata": {},
     "output_type": "display_data"
    }
   ],
   "source": [
    "sns.scatterplot(x=data['lat'],y=data['lng'], hue=data['twp'], legend=False);"
   ]
  },
  {
   "cell_type": "code",
   "execution_count": 43,
   "id": "92b0e64a",
   "metadata": {
    "execution": {
     "iopub.execute_input": "2025-04-16T01:37:59.219457Z",
     "iopub.status.busy": "2025-04-16T01:37:59.219327Z",
     "iopub.status.idle": "2025-04-16T01:38:13.642211Z",
     "shell.execute_reply": "2025-04-16T01:38:13.641609Z"
    },
    "id": "ccNYquZ0Jiub",
    "papermill": {
     "duration": 14.43145,
     "end_time": "2025-04-16T01:38:13.644119",
     "exception": false,
     "start_time": "2025-04-16T01:37:59.212669",
     "status": "completed"
    },
    "tags": []
   },
   "outputs": [],
   "source": [
    "# Plot clusters\n",
    "sns.scatterplot(x=data['lat'],y=data['lng'], hue=data['cluster']);\n",
    "plt.savefig(f\"{images_dir}/7.png\", bbox_inches='tight')\n",
    "plt.close()"
   ]
  },
  {
   "cell_type": "markdown",
   "id": "6012f016",
   "metadata": {
    "id": "TKl9_7AaIpOH",
    "papermill": {
     "duration": 0.005902,
     "end_time": "2025-04-16T01:38:13.657239",
     "exception": false,
     "start_time": "2025-04-16T01:38:13.651337",
     "status": "completed"
    },
    "tags": []
   },
   "source": [
    "#Time of Day"
   ]
  },
  {
   "cell_type": "code",
   "execution_count": 44,
   "id": "85924b49",
   "metadata": {
    "execution": {
     "iopub.execute_input": "2025-04-16T01:38:13.669418Z",
     "iopub.status.busy": "2025-04-16T01:38:13.669282Z",
     "iopub.status.idle": "2025-04-16T01:38:13.731140Z",
     "shell.execute_reply": "2025-04-16T01:38:13.730772Z"
    },
    "id": "RKeazT7wJHVI",
    "papermill": {
     "duration": 0.068911,
     "end_time": "2025-04-16T01:38:13.731987",
     "exception": false,
     "start_time": "2025-04-16T01:38:13.663076",
     "status": "completed"
    },
    "tags": []
   },
   "outputs": [],
   "source": [
    "data[\"time\"] = data['timeStamp'].str[-8:]"
   ]
  },
  {
   "cell_type": "code",
   "execution_count": 45,
   "id": "1fc51387",
   "metadata": {
    "execution": {
     "iopub.execute_input": "2025-04-16T01:38:13.744499Z",
     "iopub.status.busy": "2025-04-16T01:38:13.744398Z",
     "iopub.status.idle": "2025-04-16T01:38:13.902855Z",
     "shell.execute_reply": "2025-04-16T01:38:13.902488Z"
    },
    "id": "pVMp9MqlMlUC",
    "papermill": {
     "duration": 0.165622,
     "end_time": "2025-04-16T01:38:13.903938",
     "exception": false,
     "start_time": "2025-04-16T01:38:13.738316",
     "status": "completed"
    },
    "tags": []
   },
   "outputs": [],
   "source": [
    "data['secs_into_day'] = (pd.to_datetime(data['timeStamp']) - pd.to_datetime(data['timeStamp']).dt.floor('d')).dt.total_seconds()"
   ]
  },
  {
   "cell_type": "code",
   "execution_count": 46,
   "id": "69a4b7a4",
   "metadata": {
    "colab": {
     "base_uri": "https://localhost:8080/"
    },
    "execution": {
     "iopub.execute_input": "2025-04-16T01:38:13.917504Z",
     "iopub.status.busy": "2025-04-16T01:38:13.917396Z",
     "iopub.status.idle": "2025-04-16T01:38:13.920673Z",
     "shell.execute_reply": "2025-04-16T01:38:13.920455Z"
    },
    "id": "3LpTtUMqN-YS",
    "outputId": "606f1be5-61a5-402f-8729-dbf2f599d3eb",
    "papermill": {
     "duration": 0.010279,
     "end_time": "2025-04-16T01:38:13.921260",
     "exception": false,
     "start_time": "2025-04-16T01:38:13.910981",
     "status": "completed"
    },
    "tags": []
   },
   "outputs": [
    {
     "data": {
      "text/plain": [
       "0         61852.0\n",
       "1         62961.0\n",
       "2         52761.0\n",
       "3         60456.0\n",
       "5         56344.0\n",
       "           ...   \n",
       "663517    56811.0\n",
       "663518    57139.0\n",
       "663519    57172.0\n",
       "663520    57248.0\n",
       "663521    57166.0\n",
       "Name: secs_into_day, Length: 583163, dtype: float64"
      ]
     },
     "execution_count": 46,
     "metadata": {},
     "output_type": "execute_result"
    }
   ],
   "source": [
    "data['secs_into_day']"
   ]
  },
  {
   "cell_type": "code",
   "execution_count": 47,
   "id": "c0632c5e",
   "metadata": {
    "execution": {
     "iopub.execute_input": "2025-04-16T01:38:13.933951Z",
     "iopub.status.busy": "2025-04-16T01:38:13.933858Z",
     "iopub.status.idle": "2025-04-16T01:38:14.043287Z",
     "shell.execute_reply": "2025-04-16T01:38:14.042965Z"
    },
    "id": "76Yq_zErOBFf",
    "papermill": {
     "duration": 0.116689,
     "end_time": "2025-04-16T01:38:14.044276",
     "exception": false,
     "start_time": "2025-04-16T01:38:13.927587",
     "status": "completed"
    },
    "tags": []
   },
   "outputs": [],
   "source": [
    "time_hist = plt.hist(data['secs_into_day'], bins=96);\n",
    "time_hist_pts = np.array(data['secs_into_day'].to_list())\n",
    "plt.xlabel('Seconds into Day')\n",
    "plt.ylabel('Calls per 15 minute intervals')\n",
    "plt.title('Total count of Calls by Time')\n",
    "time_hist;\n",
    "np.argmax(time_hist_pts[:-1] - time_hist_pts[1:])\n",
    "plt.savefig(f\"{images_dir}/8.png\", bbox_inches='tight')\n",
    "plt.close()"
   ]
  },
  {
   "cell_type": "code",
   "execution_count": 48,
   "id": "6a7807c2",
   "metadata": {
    "execution": {
     "iopub.execute_input": "2025-04-16T01:38:14.057787Z",
     "iopub.status.busy": "2025-04-16T01:38:14.057666Z",
     "iopub.status.idle": "2025-04-16T01:38:14.060220Z",
     "shell.execute_reply": "2025-04-16T01:38:14.059985Z"
    },
    "id": "hnP5810-CBRV",
    "papermill": {
     "duration": 0.010381,
     "end_time": "2025-04-16T01:38:14.060925",
     "exception": false,
     "start_time": "2025-04-16T01:38:14.050544",
     "status": "completed"
    },
    "tags": []
   },
   "outputs": [],
   "source": [
    "def max_difference_to_neighbors(numbers):\n",
    "    max_difference = 0\n",
    "    max_difference_index = None\n",
    "    for i in range(1, len(numbers) - 1):\n",
    "        difference_left = abs(numbers[i] - numbers[i-1])\n",
    "        difference_right = abs(numbers[i] - numbers[i+1])\n",
    "        if difference_left > max_difference and difference_left > difference_right:\n",
    "            max_difference = difference_left\n",
    "            max_difference_index = i\n",
    "        elif difference_right > max_difference and difference_right > difference_left:\n",
    "            max_difference = difference_right\n",
    "            max_difference_index = i\n",
    "    return max_difference_index, max_difference"
   ]
  },
  {
   "cell_type": "code",
   "execution_count": 49,
   "id": "91eaf66d",
   "metadata": {
    "colab": {
     "base_uri": "https://localhost:8080/"
    },
    "execution": {
     "iopub.execute_input": "2025-04-16T01:38:14.073450Z",
     "iopub.status.busy": "2025-04-16T01:38:14.073351Z",
     "iopub.status.idle": "2025-04-16T01:38:14.259942Z",
     "shell.execute_reply": "2025-04-16T01:38:14.259556Z"
    },
    "id": "HKiLSx13Apom",
    "outputId": "4f9f5924-5185-45cc-cdb5-5173b41f552d",
    "papermill": {
     "duration": 0.193606,
     "end_time": "2025-04-16T01:38:14.260693",
     "exception": false,
     "start_time": "2025-04-16T01:38:14.067087",
     "status": "completed"
    },
    "tags": []
   },
   "outputs": [
    {
     "data": {
      "text/plain": [
       "(451500, np.float64(86383.0))"
      ]
     },
     "execution_count": 49,
     "metadata": {},
     "output_type": "execute_result"
    }
   ],
   "source": [
    "max_difference_to_neighbors(time_hist_pts)"
   ]
  },
  {
   "cell_type": "code",
   "execution_count": 50,
   "id": "745096d5",
   "metadata": {
    "colab": {
     "base_uri": "https://localhost:8080/"
    },
    "execution": {
     "iopub.execute_input": "2025-04-16T01:38:14.276198Z",
     "iopub.status.busy": "2025-04-16T01:38:14.276068Z",
     "iopub.status.idle": "2025-04-16T01:38:14.278225Z",
     "shell.execute_reply": "2025-04-16T01:38:14.278005Z"
    },
    "id": "pyoILWZ4CVSb",
    "outputId": "643619a4-6b98-4cee-ba38-5e57e92b316c",
    "papermill": {
     "duration": 0.009541,
     "end_time": "2025-04-16T01:38:14.278916",
     "exception": false,
     "start_time": "2025-04-16T01:38:14.269375",
     "status": "completed"
    },
    "tags": []
   },
   "outputs": [
    {
     "data": {
      "text/plain": [
       "'7:00:00'"
      ]
     },
     "execution_count": 50,
     "metadata": {},
     "output_type": "execute_result"
    }
   ],
   "source": [
    "# seconnds into day to make first split\n",
    "secs = 86400/96*28\n",
    "str(dt.timedelta(seconds=secs))\n",
    "\n",
    "# Therfore shift times to 7am"
   ]
  },
  {
   "cell_type": "code",
   "execution_count": 51,
   "id": "29b351e8",
   "metadata": {
    "execution": {
     "iopub.execute_input": "2025-04-16T01:38:14.293375Z",
     "iopub.status.busy": "2025-04-16T01:38:14.293164Z",
     "iopub.status.idle": "2025-04-16T01:38:14.349316Z",
     "shell.execute_reply": "2025-04-16T01:38:14.348903Z"
    },
    "id": "-51HY4JoP1Bh",
    "papermill": {
     "duration": 0.063684,
     "end_time": "2025-04-16T01:38:14.350264",
     "exception": false,
     "start_time": "2025-04-16T01:38:14.286580",
     "status": "completed"
    },
    "tags": []
   },
   "outputs": [],
   "source": [
    "threshold = secs\n",
    "increment = 86400\n",
    "\n",
    "# Update column secs_into_day if the value is less than the 7am\n",
    "data['secs_into_day'] = data['secs_into_day'].apply(lambda x: x + increment if x < threshold else x)\n"
   ]
  },
  {
   "cell_type": "code",
   "execution_count": 52,
   "id": "9def7517",
   "metadata": {
    "colab": {
     "base_uri": "https://localhost:8080/"
    },
    "execution": {
     "iopub.execute_input": "2025-04-16T01:38:14.364385Z",
     "iopub.status.busy": "2025-04-16T01:38:14.364149Z",
     "iopub.status.idle": "2025-04-16T01:38:14.428918Z",
     "shell.execute_reply": "2025-04-16T01:38:14.428685Z"
    },
    "id": "dB_uZUotE0Ok",
    "outputId": "7be29f4b-9f11-41c9-95f2-b68220c0e1f3",
    "papermill": {
     "duration": 0.072286,
     "end_time": "2025-04-16T01:38:14.429725",
     "exception": false,
     "start_time": "2025-04-16T01:38:14.357439",
     "status": "completed"
    },
    "tags": []
   },
   "outputs": [
    {
     "data": {
      "image/png": "[encoded data removed]",
      "text/plain": [
       "<Figure size 640x480 with 1 Axes>"
      ]
     },
     "metadata": {},
     "output_type": "display_data"
    }
   ],
   "source": [
    "time_hist = plt.hist(data['secs_into_day'], bins=96);"
   ]
  },
  {
   "cell_type": "code",
   "execution_count": 53,
   "id": "6b8528b4",
   "metadata": {
    "execution": {
     "iopub.execute_input": "2025-04-16T01:38:14.444362Z",
     "iopub.status.busy": "2025-04-16T01:38:14.444192Z",
     "iopub.status.idle": "2025-04-16T01:38:16.651999Z",
     "shell.execute_reply": "2025-04-16T01:38:16.651253Z"
    },
    "id": "JpsHFjqlIrUD",
    "papermill": {
     "duration": 2.217334,
     "end_time": "2025-04-16T01:38:16.654031",
     "exception": false,
     "start_time": "2025-04-16T01:38:14.436697",
     "status": "completed"
    },
    "tags": []
   },
   "outputs": [],
   "source": [
    "import sklearn.cluster\n",
    "from sklearn.cluster import KMeans\n",
    "\n",
    "Sum_of_squared_distances = []\n",
    "K = range(1,15)\n",
    "for k in K:\n",
    "    km = KMeans(n_clusters=k)\n",
    "    km = km.fit(data[\"secs_into_day\"].values.reshape(-1, 1))\n",
    "    Sum_of_squared_distances.append(km.inertia_)"
   ]
  },
  {
   "cell_type": "code",
   "execution_count": 54,
   "id": "9c83dd69",
   "metadata": {
    "colab": {
     "base_uri": "https://localhost:8080/"
    },
    "execution": {
     "iopub.execute_input": "2025-04-16T01:38:16.670805Z",
     "iopub.status.busy": "2025-04-16T01:38:16.670658Z",
     "iopub.status.idle": "2025-04-16T01:38:16.716354Z",
     "shell.execute_reply": "2025-04-16T01:38:16.716081Z"
    },
    "id": "AK3r--AnQFWQ",
    "outputId": "ae25fa04-88ce-469f-ef33-f212fdc8e098",
    "papermill": {
     "duration": 0.053635,
     "end_time": "2025-04-16T01:38:16.717190",
     "exception": false,
     "start_time": "2025-04-16T01:38:16.663555",
     "status": "completed"
    },
    "tags": []
   },
   "outputs": [
    {
     "data": {
      "image/png": "[encoded data removed]",
      "text/plain": [
       "<Figure size 640x480 with 1 Axes>"
      ]
     },
     "metadata": {},
     "output_type": "display_data"
    }
   ],
   "source": [
    "plt.plot(K, Sum_of_squared_distances, 'bx-')\n",
    "plt.xlabel('k')\n",
    "plt.ylabel('Sum_of_squared_distances')\n",
    "plt.title('Elbow Method For Optimal k')\n",
    "plt.show()"
   ]
  },
  {
   "cell_type": "code",
   "execution_count": 55,
   "id": "5c884a0a",
   "metadata": {
    "execution": {
     "iopub.execute_input": "2025-04-16T01:38:16.731713Z",
     "iopub.status.busy": "2025-04-16T01:38:16.731608Z",
     "iopub.status.idle": "2025-04-16T01:38:16.812915Z",
     "shell.execute_reply": "2025-04-16T01:38:16.812623Z"
    },
    "id": "bm_U8qbZQlGo",
    "papermill": {
     "duration": 0.090027,
     "end_time": "2025-04-16T01:38:16.814069",
     "exception": false,
     "start_time": "2025-04-16T01:38:16.724042",
     "status": "completed"
    },
    "tags": []
   },
   "outputs": [],
   "source": [
    "# Select K = 4\n",
    "km = KMeans(n_clusters= 4)\n",
    "km.fit(data[[\"secs_into_day\"]])\n",
    "clusters_day = km.predict(data[[\"secs_into_day\"]])"
   ]
  },
  {
   "cell_type": "code",
   "execution_count": 56,
   "id": "ba5e405c",
   "metadata": {
    "execution": {
     "iopub.execute_input": "2025-04-16T01:38:16.829438Z",
     "iopub.status.busy": "2025-04-16T01:38:16.829327Z",
     "iopub.status.idle": "2025-04-16T01:38:16.831673Z",
     "shell.execute_reply": "2025-04-16T01:38:16.831304Z"
    },
    "id": "aw95U8rpQSf_",
    "papermill": {
     "duration": 0.010043,
     "end_time": "2025-04-16T01:38:16.832404",
     "exception": false,
     "start_time": "2025-04-16T01:38:16.822361",
     "status": "completed"
    },
    "tags": []
   },
   "outputs": [],
   "source": [
    "data[\"cluster_time\"] = clusters_day"
   ]
  },
  {
   "cell_type": "code",
   "execution_count": 57,
   "id": "96dcb68a",
   "metadata": {
    "colab": {
     "base_uri": "https://localhost:8080/"
    },
    "execution": {
     "iopub.execute_input": "2025-04-16T01:38:16.846219Z",
     "iopub.status.busy": "2025-04-16T01:38:16.846101Z",
     "iopub.status.idle": "2025-04-16T01:38:30.512476Z",
     "shell.execute_reply": "2025-04-16T01:38:30.511987Z"
    },
    "id": "qC_6-RYXREDW",
    "outputId": "9be3a6fa-0c86-40e3-b24c-5a80777a459f",
    "papermill": {
     "duration": 13.675309,
     "end_time": "2025-04-16T01:38:30.514196",
     "exception": false,
     "start_time": "2025-04-16T01:38:16.838887",
     "status": "completed"
    },
    "tags": []
   },
   "outputs": [
    {
     "data": {
      "image/png": "[encoded data removed]",
      "text/plain": [
       "<Figure size 640x480 with 1 Axes>"
      ]
     },
     "metadata": {},
     "output_type": "display_data"
    }
   ],
   "source": [
    "sns.scatterplot(x=data['secs_into_day'],y=0, hue=data['cluster_time']);"
   ]
  },
  {
   "cell_type": "code",
   "execution_count": 58,
   "id": "00678d6e",
   "metadata": {
    "colab": {
     "base_uri": "https://localhost:8080/"
    },
    "execution": {
     "iopub.execute_input": "2025-04-16T01:38:30.528622Z",
     "iopub.status.busy": "2025-04-16T01:38:30.528500Z",
     "iopub.status.idle": "2025-04-16T01:38:30.944002Z",
     "shell.execute_reply": "2025-04-16T01:38:30.943712Z"
    },
    "id": "hMKwzBloSABL",
    "outputId": "c8a2fe1d-a68a-401d-8f96-ff236da2eb25",
    "papermill": {
     "duration": 0.422894,
     "end_time": "2025-04-16T01:38:30.944747",
     "exception": false,
     "start_time": "2025-04-16T01:38:30.521853",
     "status": "completed"
    },
    "tags": []
   },
   "outputs": [
    {
     "name": "stdout",
     "output_type": "stream",
     "text": [
      "time cluster 0: ~6pm-12am midnight\n"
     ]
    },
    {
     "name": "stdout",
     "output_type": "stream",
     "text": [
      "17:45:26\n",
      "23:54:38\n",
      "time cluster 1: 7am-1pm\n",
      "7:00:00\n",
      "12:35:15\n",
      "time cluster 2: 12am midnight -7am\n",
      "23:54:39\n",
      "1 day, 6:59:59\n",
      "time cluster 3: 1pm-6pm\n",
      "12:35:16\n",
      "17:45:25\n"
     ]
    },
    {
     "data": {
      "text/plain": [
       "datetime.timedelta(seconds=22152)"
      ]
     },
     "execution_count": 58,
     "metadata": {},
     "output_type": "execute_result"
    }
   ],
   "source": [
    "from sklearn import cluster\n",
    "print(\"time cluster 0: ~6pm-12am midnight\")\n",
    "print(dt.timedelta(seconds = data[data[\"cluster_time\"] == 0][\"secs_into_day\"].min()))\n",
    "print(dt.timedelta(seconds = data[data[\"cluster_time\"] == 0][\"secs_into_day\"].max()))\n",
    "\n",
    "print(\"time cluster 1: 7am-1pm\")\n",
    "print(dt.timedelta(seconds = data[data[\"cluster_time\"] == 1][\"secs_into_day\"].min()))\n",
    "print(dt.timedelta(seconds = data[data[\"cluster_time\"] == 1][\"secs_into_day\"].max()))\n",
    "\n",
    "print(\"time cluster 2: 12am midnight -7am\")\n",
    "print(dt.timedelta(seconds = data[data[\"cluster_time\"] == 2][\"secs_into_day\"].min()))\n",
    "print(dt.timedelta(seconds = data[data[\"cluster_time\"] == 2][\"secs_into_day\"].max()))\n",
    "\n",
    "print(\"time cluster 3: 1pm-6pm\")\n",
    "print(dt.timedelta(seconds = data[data[\"cluster_time\"] == 3][\"secs_into_day\"].min()))\n",
    "print(dt.timedelta(seconds = data[data[\"cluster_time\"] == 3][\"secs_into_day\"].max()))\n",
    "\n",
    "dt.timedelta(seconds = data[data[\"cluster_time\"] == 0][\"secs_into_day\"].max()) - dt.timedelta(seconds = data[data[\"cluster_time\"] == 0][\"secs_into_day\"].min())"
   ]
  },
  {
   "cell_type": "code",
   "execution_count": 59,
   "id": "4f65c18a",
   "metadata": {
    "execution": {
     "iopub.execute_input": "2025-04-16T01:38:30.958340Z",
     "iopub.status.busy": "2025-04-16T01:38:30.958223Z",
     "iopub.status.idle": "2025-04-16T01:38:31.183917Z",
     "shell.execute_reply": "2025-04-16T01:38:31.183585Z"
    },
    "id": "vlG-aNpKHBLz",
    "papermill": {
     "duration": 0.23765,
     "end_time": "2025-04-16T01:38:31.189103",
     "exception": false,
     "start_time": "2025-04-16T01:38:30.951453",
     "status": "completed"
    },
    "tags": []
   },
   "outputs": [],
   "source": [
    "data[\"cluster_time\"] = data['cluster_time'].map({0:'evening', 1:'morning', 2: 'midnight', 3: 'afternoon'})\n",
    "data.groupby('cluster_time').count()['lat'].sort_values(ascending=True).tail(10).plot(kind='barh', figsize=(10, 5), color='darkgreen')\n",
    "plt.xlabel('Number of 911 Calls')\n",
    "plt.ylabel('')\n",
    "plt.title('EMS 911 Emergency Calls', fontsize=15)\n",
    "plt.savefig(f\"{images_dir}/9.png\", bbox_inches='tight')\n",
    "plt.close()"
   ]
  },
  {
   "cell_type": "markdown",
   "id": "6b152e1d",
   "metadata": {
    "id": "cw7d8z5h9vn7",
    "papermill": {
     "duration": 0.006645,
     "end_time": "2025-04-16T01:38:31.203947",
     "exception": false,
     "start_time": "2025-04-16T01:38:31.197302",
     "status": "completed"
    },
    "tags": []
   },
   "source": [
    "#Method 2:"
   ]
  },
  {
   "cell_type": "markdown",
   "id": "d2c78f88",
   "metadata": {
    "id": "h-qs0gVZ2-4D",
    "papermill": {
     "duration": 0.006451,
     "end_time": "2025-04-16T01:38:31.216967",
     "exception": false,
     "start_time": "2025-04-16T01:38:31.210516",
     "status": "completed"
    },
    "tags": []
   },
   "source": [
    "#ECLAT ASSOCIATION RULE"
   ]
  },
  {
   "cell_type": "code",
   "execution_count": 60,
   "id": "ec314e93",
   "metadata": {
    "colab": {
     "base_uri": "https://localhost:8080/",
     "height": 458
    },
    "execution": {
     "iopub.execute_input": "2025-04-16T01:38:31.233129Z",
     "iopub.status.busy": "2025-04-16T01:38:31.233003Z",
     "iopub.status.idle": "2025-04-16T01:38:31.235980Z",
     "shell.execute_reply": "2025-04-16T01:38:31.235734Z"
    },
    "id": "JW3nDI6XUfuM",
    "outputId": "e439287f-f132-4929-d8c1-f01a7441fdb5",
    "papermill": {
     "duration": 0.01097,
     "end_time": "2025-04-16T01:38:31.236607",
     "exception": false,
     "start_time": "2025-04-16T01:38:31.225637",
     "status": "completed"
    },
    "tags": []
   },
   "outputs": [
    {
     "data": {
      "text/plain": [
       "0         1\n",
       "1         3\n",
       "2         0\n",
       "3         0\n",
       "5         3\n",
       "         ..\n",
       "663517    0\n",
       "663518    0\n",
       "663519    0\n",
       "663520    0\n",
       "663521    0\n",
       "Name: cluster, Length: 583163, dtype: int32"
      ]
     },
     "execution_count": 60,
     "metadata": {},
     "output_type": "execute_result"
    }
   ],
   "source": [
    "data[\"cluster\"]"
   ]
  },
  {
   "cell_type": "code",
   "execution_count": 61,
   "id": "39243c32",
   "metadata": {
    "colab": {
     "base_uri": "https://localhost:8080/",
     "height": 459
    },
    "execution": {
     "iopub.execute_input": "2025-04-16T01:38:31.252386Z",
     "iopub.status.busy": "2025-04-16T01:38:31.252185Z",
     "iopub.status.idle": "2025-04-16T01:38:31.949469Z",
     "shell.execute_reply": "2025-04-16T01:38:31.949218Z"
    },
    "id": "VChw65_oBh0g",
    "outputId": "0c387bf8-a6f2-4fa8-b628-13050aace0ea",
    "papermill": {
     "duration": 0.706911,
     "end_time": "2025-04-16T01:38:31.950150",
     "exception": false,
     "start_time": "2025-04-16T01:38:31.243239",
     "status": "completed"
    },
    "tags": []
   },
   "outputs": [
    {
     "name": "stderr",
     "output_type": "stream",
     "text": [
      "/var/folders/bz/hpwswv1n2_vcxmwy86j2htkm0000gn/T/ipykernel_27534/3123675670.py:1: FutureWarning: DataFrame.applymap has been deprecated. Use DataFrame.map instead.\n",
      "  test = data[[\"reason\", \"weekday\",\"cluster\", \"cluster_time\"]].applymap(str)\n"
     ]
    },
    {
     "data": {
      "text/html": [
       "<div>\n",
       "<style scoped>\n",
       "    .dataframe tbody tr th:only-of-type {\n",
       "        vertical-align: middle;\n",
       "    }\n",
       "\n",
       "    .dataframe tbody tr th {\n",
       "        vertical-align: top;\n",
       "    }\n",
       "\n",
       "    .dataframe thead th {\n",
       "        text-align: right;\n",
       "    }\n",
       "</style>\n",
       "<table border=\"1\" class=\"dataframe\">\n",
       "  <thead>\n",
       "    <tr style=\"text-align: right;\">\n",
       "      <th></th>\n",
       "      <th>0</th>\n",
       "      <th>1</th>\n",
       "      <th>2</th>\n",
       "      <th>3</th>\n",
       "    </tr>\n",
       "  </thead>\n",
       "  <tbody>\n",
       "    <tr>\n",
       "      <th>0</th>\n",
       "      <td>EMS</td>\n",
       "      <td>Thursday</td>\n",
       "      <td>1</td>\n",
       "      <td>afternoon</td>\n",
       "    </tr>\n",
       "    <tr>\n",
       "      <th>1</th>\n",
       "      <td>EMS</td>\n",
       "      <td>Thursday</td>\n",
       "      <td>3</td>\n",
       "      <td>afternoon</td>\n",
       "    </tr>\n",
       "    <tr>\n",
       "      <th>2</th>\n",
       "      <td>Fire</td>\n",
       "      <td>Thursday</td>\n",
       "      <td>0</td>\n",
       "      <td>afternoon</td>\n",
       "    </tr>\n",
       "    <tr>\n",
       "      <th>3</th>\n",
       "      <td>EMS</td>\n",
       "      <td>Thursday</td>\n",
       "      <td>0</td>\n",
       "      <td>afternoon</td>\n",
       "    </tr>\n",
       "    <tr>\n",
       "      <th>4</th>\n",
       "      <td>EMS</td>\n",
       "      <td>Thursday</td>\n",
       "      <td>3</td>\n",
       "      <td>afternoon</td>\n",
       "    </tr>\n",
       "    <tr>\n",
       "      <th>...</th>\n",
       "      <td>...</td>\n",
       "      <td>...</td>\n",
       "      <td>...</td>\n",
       "      <td>...</td>\n",
       "    </tr>\n",
       "    <tr>\n",
       "      <th>583158</th>\n",
       "      <td>Traffic</td>\n",
       "      <td>Wednesday</td>\n",
       "      <td>0</td>\n",
       "      <td>afternoon</td>\n",
       "    </tr>\n",
       "    <tr>\n",
       "      <th>583159</th>\n",
       "      <td>EMS</td>\n",
       "      <td>Wednesday</td>\n",
       "      <td>0</td>\n",
       "      <td>afternoon</td>\n",
       "    </tr>\n",
       "    <tr>\n",
       "      <th>583160</th>\n",
       "      <td>EMS</td>\n",
       "      <td>Wednesday</td>\n",
       "      <td>0</td>\n",
       "      <td>afternoon</td>\n",
       "    </tr>\n",
       "    <tr>\n",
       "      <th>583161</th>\n",
       "      <td>Fire</td>\n",
       "      <td>Wednesday</td>\n",
       "      <td>0</td>\n",
       "      <td>afternoon</td>\n",
       "    </tr>\n",
       "    <tr>\n",
       "      <th>583162</th>\n",
       "      <td>Traffic</td>\n",
       "      <td>Wednesday</td>\n",
       "      <td>0</td>\n",
       "      <td>afternoon</td>\n",
       "    </tr>\n",
       "  </tbody>\n",
       "</table>\n",
       "<p>583163 rows × 4 columns</p>\n",
       "</div>"
      ],
      "text/plain": [
       "              0          1  2          3\n",
       "0           EMS   Thursday  1  afternoon\n",
       "1           EMS   Thursday  3  afternoon\n",
       "2          Fire   Thursday  0  afternoon\n",
       "3           EMS   Thursday  0  afternoon\n",
       "4           EMS   Thursday  3  afternoon\n",
       "...         ...        ... ..        ...\n",
       "583158  Traffic  Wednesday  0  afternoon\n",
       "583159      EMS  Wednesday  0  afternoon\n",
       "583160      EMS  Wednesday  0  afternoon\n",
       "583161     Fire  Wednesday  0  afternoon\n",
       "583162  Traffic  Wednesday  0  afternoon\n",
       "\n",
       "[583163 rows x 4 columns]"
      ]
     },
     "execution_count": 61,
     "metadata": {},
     "output_type": "execute_result"
    }
   ],
   "source": [
    "test = data[[\"reason\", \"weekday\",\"cluster\", \"cluster_time\"]].applymap(str)\n",
    "test1 = test.values.tolist()\n",
    "test1\n",
    "\n",
    "test2 = pd.DataFrame(test1)\n",
    "test2"
   ]
  },
  {
   "cell_type": "code",
   "execution_count": 62,
   "id": "be5db9b3",
   "metadata": {
    "execution": {
     "iopub.execute_input": "2025-04-16T01:38:31.965168Z",
     "iopub.status.busy": "2025-04-16T01:38:31.965023Z",
     "iopub.status.idle": "2025-04-16T01:38:31.985075Z",
     "shell.execute_reply": "2025-04-16T01:38:31.984799Z"
    },
    "id": "zXkoE3FVBh7K",
    "papermill": {
     "duration": 0.028636,
     "end_time": "2025-04-16T01:38:31.985816",
     "exception": false,
     "start_time": "2025-04-16T01:38:31.957180",
     "status": "completed"
    },
    "tags": []
   },
   "outputs": [],
   "source": [
    "# we are looking for itemSETS\n",
    "# we do not want to have any individual products returned\n",
    "min_n_products = 2\n",
    "\n",
    "# we want to set min support to 7\n",
    "# but we have to express it as a percentage\n",
    "min_support = 0.01\n",
    "\n",
    "# we have no limit on the size of association rules\n",
    "# so we set it to the longest transaction\n",
    "max_length = max([len(x) for x in test1])"
   ]
  },
  {
   "cell_type": "code",
   "execution_count": 63,
   "id": "91aaba8a",
   "metadata": {
    "colab": {
     "base_uri": "https://localhost:8080/"
    },
    "execution": {
     "iopub.execute_input": "2025-04-16T01:38:32.001698Z",
     "iopub.status.busy": "2025-04-16T01:38:32.001467Z",
     "iopub.status.idle": "2025-04-16T01:38:52.716387Z",
     "shell.execute_reply": "2025-04-16T01:38:52.715648Z"
    },
    "id": "214DMT0zFvoe",
    "outputId": "32ed4718-142a-450b-a330-39f81e399aa4",
    "papermill": {
     "duration": 20.724206,
     "end_time": "2025-04-16T01:38:52.717370",
     "exception": false,
     "start_time": "2025-04-16T01:38:31.993164",
     "status": "completed"
    },
    "tags": []
   },
   "outputs": [
    {
     "name": "stderr",
     "output_type": "stream",
     "text": [
      "\r",
      "  0%|          | 0/19 [00:00<?, ?it/s]"
     ]
    },
    {
     "name": "stderr",
     "output_type": "stream",
     "text": [
      "\r",
      " 11%|█         | 2/19 [00:00<00:01, 12.95it/s]"
     ]
    },
    {
     "name": "stderr",
     "output_type": "stream",
     "text": [
      "\r",
      " 21%|██        | 4/19 [00:00<00:01, 14.35it/s]"
     ]
    },
    {
     "name": "stderr",
     "output_type": "stream",
     "text": [
      "\r",
      " 32%|███▏      | 6/19 [00:00<00:00, 13.45it/s]"
     ]
    },
    {
     "name": "stderr",
     "output_type": "stream",
     "text": [
      "\r",
      " 42%|████▏     | 8/19 [00:00<00:00, 13.78it/s]"
     ]
    },
    {
     "name": "stderr",
     "output_type": "stream",
     "text": [
      "\r",
      " 53%|█████▎    | 10/19 [00:00<00:00, 14.28it/s]"
     ]
    },
    {
     "name": "stderr",
     "output_type": "stream",
     "text": [
      "\r",
      " 63%|██████▎   | 12/19 [00:00<00:00, 14.27it/s]"
     ]
    },
    {
     "name": "stderr",
     "output_type": "stream",
     "text": [
      "\r",
      " 74%|███████▎  | 14/19 [00:00<00:00, 14.24it/s]"
     ]
    },
    {
     "name": "stderr",
     "output_type": "stream",
     "text": [
      "\r",
      " 84%|████████▍ | 16/19 [00:01<00:00, 13.31it/s]"
     ]
    },
    {
     "name": "stderr",
     "output_type": "stream",
     "text": [
      "\r",
      " 95%|█████████▍| 18/19 [00:01<00:00, 13.31it/s]"
     ]
    },
    {
     "name": "stderr",
     "output_type": "stream",
     "text": [
      "\r",
      "100%|██████████| 19/19 [00:01<00:00, 13.66it/s]"
     ]
    },
    {
     "name": "stderr",
     "output_type": "stream",
     "text": [
      "\n"
     ]
    },
    {
     "name": "stderr",
     "output_type": "stream",
     "text": [
      "\r",
      "  0%|          | 0/19 [00:00<?, ?it/s]"
     ]
    },
    {
     "name": "stderr",
     "output_type": "stream",
     "text": [
      "\r",
      " 68%|██████▊   | 13/19 [00:00<00:00, 121.67it/s]"
     ]
    },
    {
     "name": "stderr",
     "output_type": "stream",
     "text": [
      "\r",
      "100%|██████████| 19/19 [00:00<00:00, 121.65it/s]"
     ]
    },
    {
     "name": "stderr",
     "output_type": "stream",
     "text": [
      "\n"
     ]
    },
    {
     "name": "stderr",
     "output_type": "stream",
     "text": [
      "\r",
      "  0%|          | 0/19 [00:00<?, ?it/s]"
     ]
    },
    {
     "name": "stderr",
     "output_type": "stream",
     "text": [
      "\r",
      " 79%|███████▉  | 15/19 [00:00<00:00, 126.30it/s]"
     ]
    },
    {
     "name": "stderr",
     "output_type": "stream",
     "text": [
      "\r",
      "100%|██████████| 19/19 [00:00<00:00, 122.00it/s]"
     ]
    },
    {
     "name": "stderr",
     "output_type": "stream",
     "text": [
      "\n"
     ]
    },
    {
     "name": "stdout",
     "output_type": "stream",
     "text": [
      "Combination 2 by 2\n"
     ]
    },
    {
     "name": "stderr",
     "output_type": "stream",
     "text": [
      "\r",
      "0it [00:00, ?it/s]"
     ]
    },
    {
     "name": "stderr",
     "output_type": "stream",
     "text": [
      "\r",
      "10it [00:00, 96.42it/s]"
     ]
    },
    {
     "name": "stderr",
     "output_type": "stream",
     "text": [
      "\r",
      "20it [00:00, 95.75it/s]"
     ]
    },
    {
     "name": "stderr",
     "output_type": "stream",
     "text": [
      "\r",
      "34it [00:00, 115.15it/s]"
     ]
    },
    {
     "name": "stderr",
     "output_type": "stream",
     "text": [
      "\r",
      "47it [00:00, 115.29it/s]"
     ]
    },
    {
     "name": "stderr",
     "output_type": "stream",
     "text": [
      "\r",
      "60it [00:00, 117.74it/s]"
     ]
    },
    {
     "name": "stderr",
     "output_type": "stream",
     "text": [
      "\r",
      "72it [00:00, 107.40it/s]"
     ]
    },
    {
     "name": "stderr",
     "output_type": "stream",
     "text": [
      "\r",
      "83it [00:00, 91.20it/s] "
     ]
    },
    {
     "name": "stderr",
     "output_type": "stream",
     "text": [
      "\r",
      "93it [00:00, 86.49it/s]"
     ]
    },
    {
     "name": "stderr",
     "output_type": "stream",
     "text": [
      "\r",
      "106it [00:01, 96.86it/s]"
     ]
    },
    {
     "name": "stderr",
     "output_type": "stream",
     "text": [
      "\r",
      "117it [00:01, 97.98it/s]"
     ]
    },
    {
     "name": "stderr",
     "output_type": "stream",
     "text": [
      "\r",
      "130it [00:01, 106.51it/s]"
     ]
    },
    {
     "name": "stderr",
     "output_type": "stream",
     "text": [
      "\r",
      "142it [00:01, 109.66it/s]"
     ]
    },
    {
     "name": "stderr",
     "output_type": "stream",
     "text": [
      "\r",
      "154it [00:01, 100.32it/s]"
     ]
    },
    {
     "name": "stderr",
     "output_type": "stream",
     "text": [
      "\r",
      "165it [00:01, 102.16it/s]"
     ]
    },
    {
     "name": "stderr",
     "output_type": "stream",
     "text": [
      "\r",
      "171it [00:01, 99.01it/s] "
     ]
    },
    {
     "name": "stderr",
     "output_type": "stream",
     "text": [
      "\n"
     ]
    },
    {
     "name": "stdout",
     "output_type": "stream",
     "text": [
      "Combination 3 by 3\n"
     ]
    },
    {
     "name": "stderr",
     "output_type": "stream",
     "text": [
      "\r",
      "0it [00:00, ?it/s]"
     ]
    },
    {
     "name": "stderr",
     "output_type": "stream",
     "text": [
      "\r",
      "27it [00:00, 267.06it/s]"
     ]
    },
    {
     "name": "stderr",
     "output_type": "stream",
     "text": [
      "\r",
      "60it [00:00, 299.57it/s]"
     ]
    },
    {
     "name": "stderr",
     "output_type": "stream",
     "text": [
      "\r",
      "90it [00:00, 174.11it/s]"
     ]
    },
    {
     "name": "stderr",
     "output_type": "stream",
     "text": [
      "\r",
      "112it [00:00, 185.13it/s]"
     ]
    },
    {
     "name": "stderr",
     "output_type": "stream",
     "text": [
      "\r",
      "134it [00:00, 193.16it/s]"
     ]
    },
    {
     "name": "stderr",
     "output_type": "stream",
     "text": [
      "\r",
      "160it [00:00, 211.42it/s]"
     ]
    },
    {
     "name": "stderr",
     "output_type": "stream",
     "text": [
      "\r",
      "191it [00:00, 238.33it/s]"
     ]
    },
    {
     "name": "stderr",
     "output_type": "stream",
     "text": [
      "\r",
      "217it [00:00, 241.05it/s]"
     ]
    },
    {
     "name": "stderr",
     "output_type": "stream",
     "text": [
      "\r",
      "254it [00:01, 278.39it/s]"
     ]
    },
    {
     "name": "stderr",
     "output_type": "stream",
     "text": [
      "\r",
      "283it [00:01, 272.26it/s]"
     ]
    },
    {
     "name": "stderr",
     "output_type": "stream",
     "text": [
      "\r",
      "313it [00:01, 277.49it/s]"
     ]
    },
    {
     "name": "stderr",
     "output_type": "stream",
     "text": [
      "\r",
      "342it [00:01, 266.92it/s]"
     ]
    },
    {
     "name": "stderr",
     "output_type": "stream",
     "text": [
      "\r",
      "370it [00:01, 230.51it/s]"
     ]
    },
    {
     "name": "stderr",
     "output_type": "stream",
     "text": [
      "\r",
      "395it [00:01, 164.74it/s]"
     ]
    },
    {
     "name": "stderr",
     "output_type": "stream",
     "text": [
      "\r",
      "415it [00:02, 127.34it/s]"
     ]
    },
    {
     "name": "stderr",
     "output_type": "stream",
     "text": [
      "\r",
      "431it [00:02, 130.57it/s]"
     ]
    },
    {
     "name": "stderr",
     "output_type": "stream",
     "text": [
      "\r",
      "452it [00:02, 146.07it/s]"
     ]
    },
    {
     "name": "stderr",
     "output_type": "stream",
     "text": [
      "\r",
      "472it [00:02, 156.45it/s]"
     ]
    },
    {
     "name": "stderr",
     "output_type": "stream",
     "text": [
      "\r",
      "490it [00:02, 157.75it/s]"
     ]
    },
    {
     "name": "stderr",
     "output_type": "stream",
     "text": [
      "\r",
      "508it [00:02, 146.44it/s]"
     ]
    },
    {
     "name": "stderr",
     "output_type": "stream",
     "text": [
      "\r",
      "524it [00:02, 118.19it/s]"
     ]
    },
    {
     "name": "stderr",
     "output_type": "stream",
     "text": [
      "\r",
      "538it [00:03, 113.66it/s]"
     ]
    },
    {
     "name": "stderr",
     "output_type": "stream",
     "text": [
      "\r",
      "551it [00:03, 105.37it/s]"
     ]
    },
    {
     "name": "stderr",
     "output_type": "stream",
     "text": [
      "\r",
      "563it [00:03, 101.17it/s]"
     ]
    },
    {
     "name": "stderr",
     "output_type": "stream",
     "text": [
      "\r",
      "574it [00:03, 100.49it/s]"
     ]
    },
    {
     "name": "stderr",
     "output_type": "stream",
     "text": [
      "\r",
      "595it [00:03, 125.93it/s]"
     ]
    },
    {
     "name": "stderr",
     "output_type": "stream",
     "text": [
      "\r",
      "617it [00:03, 148.58it/s]"
     ]
    },
    {
     "name": "stderr",
     "output_type": "stream",
     "text": [
      "\r",
      "647it [00:03, 188.61it/s]"
     ]
    },
    {
     "name": "stderr",
     "output_type": "stream",
     "text": [
      "\r",
      "671it [00:03, 202.70it/s]"
     ]
    },
    {
     "name": "stderr",
     "output_type": "stream",
     "text": [
      "\r",
      "704it [00:03, 238.04it/s]"
     ]
    },
    {
     "name": "stderr",
     "output_type": "stream",
     "text": [
      "\r",
      "737it [00:04, 263.58it/s]"
     ]
    },
    {
     "name": "stderr",
     "output_type": "stream",
     "text": [
      "\r",
      "769it [00:04, 278.52it/s]"
     ]
    },
    {
     "name": "stderr",
     "output_type": "stream",
     "text": [
      "\r",
      "804it [00:04, 299.29it/s]"
     ]
    },
    {
     "name": "stderr",
     "output_type": "stream",
     "text": [
      "\r",
      "836it [00:04, 303.53it/s]"
     ]
    },
    {
     "name": "stderr",
     "output_type": "stream",
     "text": [
      "\r",
      "867it [00:04, 279.62it/s]"
     ]
    },
    {
     "name": "stderr",
     "output_type": "stream",
     "text": [
      "\r",
      "896it [00:04, 274.63it/s]"
     ]
    },
    {
     "name": "stderr",
     "output_type": "stream",
     "text": [
      "\r",
      "925it [00:04, 278.58it/s]"
     ]
    },
    {
     "name": "stderr",
     "output_type": "stream",
     "text": [
      "\r",
      "954it [00:04, 260.31it/s]"
     ]
    },
    {
     "name": "stderr",
     "output_type": "stream",
     "text": [
      "\r",
      "969it [00:04, 197.47it/s]"
     ]
    },
    {
     "name": "stderr",
     "output_type": "stream",
     "text": [
      "\n"
     ]
    },
    {
     "name": "stdout",
     "output_type": "stream",
     "text": [
      "Combination 4 by 4\n"
     ]
    },
    {
     "name": "stderr",
     "output_type": "stream",
     "text": [
      "\r",
      "0it [00:00, ?it/s]"
     ]
    },
    {
     "name": "stderr",
     "output_type": "stream",
     "text": [
      "\r",
      "34it [00:00, 306.72it/s]"
     ]
    },
    {
     "name": "stderr",
     "output_type": "stream",
     "text": [
      "\r",
      "68it [00:00, 321.02it/s]"
     ]
    },
    {
     "name": "stderr",
     "output_type": "stream",
     "text": [
      "\r",
      "101it [00:00, 209.87it/s]"
     ]
    },
    {
     "name": "stderr",
     "output_type": "stream",
     "text": [
      "\r",
      "131it [00:00, 235.21it/s]"
     ]
    },
    {
     "name": "stderr",
     "output_type": "stream",
     "text": [
      "\r",
      "158it [00:00, 200.90it/s]"
     ]
    },
    {
     "name": "stderr",
     "output_type": "stream",
     "text": [
      "\r",
      "181it [00:00, 189.83it/s]"
     ]
    },
    {
     "name": "stderr",
     "output_type": "stream",
     "text": [
      "\r",
      "202it [00:00, 193.13it/s]"
     ]
    },
    {
     "name": "stderr",
     "output_type": "stream",
     "text": [
      "\r",
      "227it [00:01, 206.65it/s]"
     ]
    },
    {
     "name": "stderr",
     "output_type": "stream",
     "text": [
      "\r",
      "249it [00:01, 184.15it/s]"
     ]
    },
    {
     "name": "stderr",
     "output_type": "stream",
     "text": [
      "\r",
      "271it [00:01, 192.99it/s]"
     ]
    },
    {
     "name": "stderr",
     "output_type": "stream",
     "text": [
      "\r",
      "302it [00:01, 223.20it/s]"
     ]
    },
    {
     "name": "stderr",
     "output_type": "stream",
     "text": [
      "\r",
      "338it [00:01, 257.70it/s]"
     ]
    },
    {
     "name": "stderr",
     "output_type": "stream",
     "text": [
      "\r",
      "365it [00:01, 253.16it/s]"
     ]
    },
    {
     "name": "stderr",
     "output_type": "stream",
     "text": [
      "\r",
      "392it [00:01, 250.20it/s]"
     ]
    },
    {
     "name": "stderr",
     "output_type": "stream",
     "text": [
      "\r",
      "418it [00:01, 250.80it/s]"
     ]
    },
    {
     "name": "stderr",
     "output_type": "stream",
     "text": [
      "\r",
      "446it [00:01, 258.75it/s]"
     ]
    },
    {
     "name": "stderr",
     "output_type": "stream",
     "text": [
      "\r",
      "481it [00:02, 284.14it/s]"
     ]
    },
    {
     "name": "stderr",
     "output_type": "stream",
     "text": [
      "\r",
      "517it [00:02, 305.81it/s]"
     ]
    },
    {
     "name": "stderr",
     "output_type": "stream",
     "text": [
      "\r",
      "558it [00:02, 335.65it/s]"
     ]
    },
    {
     "name": "stderr",
     "output_type": "stream",
     "text": [
      "\r",
      "596it [00:02, 348.07it/s]"
     ]
    },
    {
     "name": "stderr",
     "output_type": "stream",
     "text": [
      "\r",
      "637it [00:02, 364.66it/s]"
     ]
    },
    {
     "name": "stderr",
     "output_type": "stream",
     "text": [
      "\r",
      "678it [00:02, 377.42it/s]"
     ]
    },
    {
     "name": "stderr",
     "output_type": "stream",
     "text": [
      "\r",
      "721it [00:02, 390.65it/s]"
     ]
    },
    {
     "name": "stderr",
     "output_type": "stream",
     "text": [
      "\r",
      "764it [00:02, 399.76it/s]"
     ]
    },
    {
     "name": "stderr",
     "output_type": "stream",
     "text": [
      "\r",
      "808it [00:02, 409.98it/s]"
     ]
    },
    {
     "name": "stderr",
     "output_type": "stream",
     "text": [
      "\r",
      "850it [00:02, 397.43it/s]"
     ]
    },
    {
     "name": "stderr",
     "output_type": "stream",
     "text": [
      "\r",
      "895it [00:03, 410.86it/s]"
     ]
    },
    {
     "name": "stderr",
     "output_type": "stream",
     "text": [
      "\r",
      "937it [00:03, 410.90it/s]"
     ]
    },
    {
     "name": "stderr",
     "output_type": "stream",
     "text": [
      "\r",
      "981it [00:03, 419.01it/s]"
     ]
    },
    {
     "name": "stderr",
     "output_type": "stream",
     "text": [
      "\r",
      "1025it [00:03, 422.87it/s]"
     ]
    },
    {
     "name": "stderr",
     "output_type": "stream",
     "text": [
      "\r",
      "1068it [00:03, 424.33it/s]"
     ]
    },
    {
     "name": "stderr",
     "output_type": "stream",
     "text": [
      "\r",
      "1113it [00:03, 431.30it/s]"
     ]
    },
    {
     "name": "stderr",
     "output_type": "stream",
     "text": [
      "\r",
      "1157it [00:03, 425.30it/s]"
     ]
    },
    {
     "name": "stderr",
     "output_type": "stream",
     "text": [
      "\r",
      "1202it [00:03, 429.77it/s]"
     ]
    },
    {
     "name": "stderr",
     "output_type": "stream",
     "text": [
      "\r",
      "1246it [00:03, 431.60it/s]"
     ]
    },
    {
     "name": "stderr",
     "output_type": "stream",
     "text": [
      "\r",
      "1291it [00:03, 436.82it/s]"
     ]
    },
    {
     "name": "stderr",
     "output_type": "stream",
     "text": [
      "\r",
      "1335it [00:04, 436.90it/s]"
     ]
    },
    {
     "name": "stderr",
     "output_type": "stream",
     "text": [
      "\r",
      "1379it [00:04, 395.79it/s]"
     ]
    },
    {
     "name": "stderr",
     "output_type": "stream",
     "text": [
      "\r",
      "1420it [00:04, 367.67it/s]"
     ]
    },
    {
     "name": "stderr",
     "output_type": "stream",
     "text": [
      "\r",
      "1459it [00:04, 373.21it/s]"
     ]
    },
    {
     "name": "stderr",
     "output_type": "stream",
     "text": [
      "\r",
      "1499it [00:04, 379.88it/s]"
     ]
    },
    {
     "name": "stderr",
     "output_type": "stream",
     "text": [
      "\r",
      "1542it [00:04, 391.59it/s]"
     ]
    },
    {
     "name": "stderr",
     "output_type": "stream",
     "text": [
      "\r",
      "1586it [00:04, 403.79it/s]"
     ]
    },
    {
     "name": "stderr",
     "output_type": "stream",
     "text": [
      "\r",
      "1627it [00:04, 401.11it/s]"
     ]
    },
    {
     "name": "stderr",
     "output_type": "stream",
     "text": [
      "\r",
      "1668it [00:04, 400.73it/s]"
     ]
    },
    {
     "name": "stderr",
     "output_type": "stream",
     "text": [
      "\r",
      "1711it [00:05, 406.21it/s]"
     ]
    },
    {
     "name": "stderr",
     "output_type": "stream",
     "text": [
      "\r",
      "1752it [00:05, 379.86it/s]"
     ]
    },
    {
     "name": "stderr",
     "output_type": "stream",
     "text": [
      "\r",
      "1791it [00:05, 340.75it/s]"
     ]
    },
    {
     "name": "stderr",
     "output_type": "stream",
     "text": [
      "\r",
      "1827it [00:05, 345.12it/s]"
     ]
    },
    {
     "name": "stderr",
     "output_type": "stream",
     "text": [
      "\r",
      "1863it [00:05, 343.87it/s]"
     ]
    },
    {
     "name": "stderr",
     "output_type": "stream",
     "text": [
      "\r",
      "1898it [00:05, 329.24it/s]"
     ]
    },
    {
     "name": "stderr",
     "output_type": "stream",
     "text": [
      "\r",
      "1939it [00:05, 349.73it/s]"
     ]
    },
    {
     "name": "stderr",
     "output_type": "stream",
     "text": [
      "\r",
      "1981it [00:05, 367.50it/s]"
     ]
    },
    {
     "name": "stderr",
     "output_type": "stream",
     "text": [
      "\r",
      "2023it [00:05, 380.70it/s]"
     ]
    },
    {
     "name": "stderr",
     "output_type": "stream",
     "text": [
      "\r",
      "2063it [00:06, 385.54it/s]"
     ]
    },
    {
     "name": "stderr",
     "output_type": "stream",
     "text": [
      "\r",
      "2103it [00:06, 388.48it/s]"
     ]
    },
    {
     "name": "stderr",
     "output_type": "stream",
     "text": [
      "\r",
      "2143it [00:06, 382.71it/s]"
     ]
    },
    {
     "name": "stderr",
     "output_type": "stream",
     "text": [
      "\r",
      "2182it [00:06, 356.33it/s]"
     ]
    },
    {
     "name": "stderr",
     "output_type": "stream",
     "text": [
      "\r",
      "2221it [00:06, 363.53it/s]"
     ]
    },
    {
     "name": "stderr",
     "output_type": "stream",
     "text": [
      "\r",
      "2262it [00:06, 376.17it/s]"
     ]
    },
    {
     "name": "stderr",
     "output_type": "stream",
     "text": [
      "\r",
      "2304it [00:06, 386.40it/s]"
     ]
    },
    {
     "name": "stderr",
     "output_type": "stream",
     "text": [
      "\r",
      "2343it [00:06, 341.75it/s]"
     ]
    },
    {
     "name": "stderr",
     "output_type": "stream",
     "text": [
      "\r",
      "2379it [00:06, 338.77it/s]"
     ]
    },
    {
     "name": "stderr",
     "output_type": "stream",
     "text": [
      "\r",
      "2419it [00:07, 354.75it/s]"
     ]
    },
    {
     "name": "stderr",
     "output_type": "stream",
     "text": [
      "\r",
      "2458it [00:07, 364.04it/s]"
     ]
    },
    {
     "name": "stderr",
     "output_type": "stream",
     "text": [
      "\r",
      "2497it [00:07, 369.80it/s]"
     ]
    },
    {
     "name": "stderr",
     "output_type": "stream",
     "text": [
      "\r",
      "2535it [00:07, 371.86it/s]"
     ]
    },
    {
     "name": "stderr",
     "output_type": "stream",
     "text": [
      "\r",
      "2573it [00:07, 372.39it/s]"
     ]
    },
    {
     "name": "stderr",
     "output_type": "stream",
     "text": [
      "\r",
      "2614it [00:07, 382.79it/s]"
     ]
    },
    {
     "name": "stderr",
     "output_type": "stream",
     "text": [
      "\r",
      "2655it [00:07, 389.26it/s]"
     ]
    },
    {
     "name": "stderr",
     "output_type": "stream",
     "text": [
      "\r",
      "2696it [00:07, 393.46it/s]"
     ]
    },
    {
     "name": "stderr",
     "output_type": "stream",
     "text": [
      "\r",
      "2736it [00:07, 391.75it/s]"
     ]
    },
    {
     "name": "stderr",
     "output_type": "stream",
     "text": [
      "\r",
      "2776it [00:07, 393.48it/s]"
     ]
    },
    {
     "name": "stderr",
     "output_type": "stream",
     "text": [
      "\r",
      "2817it [00:08, 397.22it/s]"
     ]
    },
    {
     "name": "stderr",
     "output_type": "stream",
     "text": [
      "\r",
      "2857it [00:08, 396.32it/s]"
     ]
    },
    {
     "name": "stderr",
     "output_type": "stream",
     "text": [
      "\r",
      "2897it [00:08, 391.00it/s]"
     ]
    },
    {
     "name": "stderr",
     "output_type": "stream",
     "text": [
      "\r",
      "2937it [00:08, 392.82it/s]"
     ]
    },
    {
     "name": "stderr",
     "output_type": "stream",
     "text": [
      "\r",
      "2978it [00:08, 397.44it/s]"
     ]
    },
    {
     "name": "stderr",
     "output_type": "stream",
     "text": [
      "\r",
      "3022it [00:08, 408.75it/s]"
     ]
    },
    {
     "name": "stderr",
     "output_type": "stream",
     "text": [
      "\r",
      "3063it [00:08, 407.58it/s]"
     ]
    },
    {
     "name": "stderr",
     "output_type": "stream",
     "text": [
      "\r",
      "3106it [00:08, 412.28it/s]"
     ]
    },
    {
     "name": "stderr",
     "output_type": "stream",
     "text": [
      "\r",
      "3148it [00:08, 413.88it/s]"
     ]
    },
    {
     "name": "stderr",
     "output_type": "stream",
     "text": [
      "\r",
      "3190it [00:08, 401.38it/s]"
     ]
    },
    {
     "name": "stderr",
     "output_type": "stream",
     "text": [
      "\r",
      "3231it [00:09, 385.52it/s]"
     ]
    },
    {
     "name": "stderr",
     "output_type": "stream",
     "text": [
      "\r",
      "3270it [00:09, 374.12it/s]"
     ]
    },
    {
     "name": "stderr",
     "output_type": "stream",
     "text": [
      "\r",
      "3308it [00:09, 349.25it/s]"
     ]
    },
    {
     "name": "stderr",
     "output_type": "stream",
     "text": [
      "\r",
      "3344it [00:09, 346.59it/s]"
     ]
    },
    {
     "name": "stderr",
     "output_type": "stream",
     "text": [
      "\r",
      "3379it [00:09, 341.30it/s]"
     ]
    },
    {
     "name": "stderr",
     "output_type": "stream",
     "text": [
      "\r",
      "3414it [00:09, 327.01it/s]"
     ]
    },
    {
     "name": "stderr",
     "output_type": "stream",
     "text": [
      "\r",
      "3447it [00:09, 323.83it/s]"
     ]
    },
    {
     "name": "stderr",
     "output_type": "stream",
     "text": [
      "\r",
      "3482it [00:09, 330.02it/s]"
     ]
    },
    {
     "name": "stderr",
     "output_type": "stream",
     "text": [
      "\r",
      "3516it [00:09, 330.33it/s]"
     ]
    },
    {
     "name": "stderr",
     "output_type": "stream",
     "text": [
      "\r",
      "3550it [00:10, 321.09it/s]"
     ]
    },
    {
     "name": "stderr",
     "output_type": "stream",
     "text": [
      "\r",
      "3583it [00:10, 315.61it/s]"
     ]
    },
    {
     "name": "stderr",
     "output_type": "stream",
     "text": [
      "\r",
      "3617it [00:10, 320.19it/s]"
     ]
    },
    {
     "name": "stderr",
     "output_type": "stream",
     "text": [
      "\r",
      "3650it [00:10, 314.74it/s]"
     ]
    },
    {
     "name": "stderr",
     "output_type": "stream",
     "text": [
      "\r",
      "3688it [00:10, 333.06it/s]"
     ]
    },
    {
     "name": "stderr",
     "output_type": "stream",
     "text": [
      "\r",
      "3727it [00:10, 346.60it/s]"
     ]
    },
    {
     "name": "stderr",
     "output_type": "stream",
     "text": [
      "\r",
      "3769it [00:10, 366.28it/s]"
     ]
    },
    {
     "name": "stderr",
     "output_type": "stream",
     "text": [
      "\r",
      "3813it [00:10, 387.25it/s]"
     ]
    },
    {
     "name": "stderr",
     "output_type": "stream",
     "text": [
      "\r",
      "3852it [00:10, 384.02it/s]"
     ]
    },
    {
     "name": "stderr",
     "output_type": "stream",
     "text": [
      "\r",
      "3876it [00:10, 352.56it/s]"
     ]
    },
    {
     "name": "stderr",
     "output_type": "stream",
     "text": [
      "\n"
     ]
    }
   ],
   "source": [
    "from pyECLAT import ECLAT\n",
    "import json\n",
    "\n",
    "# create an instance of eclat\n",
    "my_eclat = ECLAT(data=test2, verbose=True)\n",
    "\n",
    "# fit the algorithm\n",
    "rule_indices, rule_supports = my_eclat.fit(min_support=min_support,\n",
    "                                           min_combination=min_n_products,\n",
    "                                           max_combination=max_length)\n",
    "with open(f\"{results_dir}/eclat.json\", 'w') as json_file:\n",
    "    json.dump(rule_supports, json_file)"
   ]
  },
  {
   "cell_type": "code",
   "execution_count": 64,
   "id": "10401822",
   "metadata": {
    "execution": {
     "iopub.execute_input": "2025-04-16T01:38:52.746030Z",
     "iopub.status.busy": "2025-04-16T01:38:52.745914Z",
     "iopub.status.idle": "2025-04-16T01:38:52.749723Z",
     "shell.execute_reply": "2025-04-16T01:38:52.749509Z"
    },
    "id": "4vb6psiaFxPO",
    "papermill": {
     "duration": 0.016375,
     "end_time": "2025-04-16T01:38:52.750363",
     "exception": false,
     "start_time": "2025-04-16T01:38:52.733988",
     "status": "completed"
    },
    "tags": []
   },
   "outputs": [
    {
     "name": "stdout",
     "output_type": "stream",
     "text": [
      "{'morning & Friday': 0.04468047527020747, 'morning & Saturday': 0.03596421583673862, 'morning & 1': 0.02690156954402114, 'morning & 0': 0.10002863693341313, 'morning & Tuesday': 0.045249784365606185, 'morning & 4': 0.0365746798065035, 'morning & Sunday': 0.031341151616271955, 'morning & Wednesday': 0.04562875216706135, 'morning & Thursday': 0.04475078151391635, 'morning & 3': 0.049330976073584915, 'morning & Fire': 0.04202941544645322, 'morning & EMS': 0.15461886299370844, 'morning & Traffic': 0.09678769057707708, 'morning & Monday': 0.045820808247436826, 'morning & 2': 0.08060010665971606, 'Friday & 1': 0.014824328703981563, 'Friday & afternoon': 0.05146931475419394, 'Friday & 0': 0.05273825671381758, 'Friday & 4': 0.019188460173227725, 'Friday & 3': 0.02570293382810638, 'Friday & evening': 0.040194593964294714, 'Friday & Fire': 0.023134183753084472, 'Friday & EMS': 0.07719454080591533, 'Friday & Traffic': 0.05455764511808877, 'Friday & 2': 0.042432390257955324, 'Friday & midnight': 0.01854198568839244, 'Saturday & 1': 0.014014949508113512, 'Saturday & afternoon': 0.04068673767025686, 'Saturday & 0': 0.045745357644432175, 'Saturday & 4': 0.01740679707045886, 'Saturday & 3': 0.021690333577404602, 'Saturday & evening': 0.03766528397720706, 'Saturday & Fire': 0.020952975411677354, 'Saturday & EMS': 0.07295901831906346, 'Saturday & Traffic': 0.0400711293411962, 'Saturday & 2': 0.03512568527152786, 'Saturday & midnight': 0.019666885587734474, '1 & afternoon': 0.030313994543549574, '1 & Tuesday': 0.01432704063872365, '1 & Sunday': 0.012579673264593262, '1 & Wednesday': 0.01439391730956868, '1 & Thursday': 0.014735159809521524, '1 & evening': 0.02715192836308202, '1 & Fire': 0.015345623779286409, '1 & EMS': 0.05877773452705333, '1 & Traffic': 0.024993012245289912, '1 & Monday': 0.014241301317127458, '1 & midnight': 0.014748878100976914, 'afternoon & 0': 0.10953541291199888, 'afternoon & Tuesday': 0.04830896336015831, 'afternoon & 4': 0.039440087934248226, 'afternoon & Sunday': 0.03578416326138661, 'afternoon & Wednesday': 0.05010262996795064, 'afternoon & Thursday': 0.049210941023350246, 'afternoon & 3': 0.053808283447338054, 'afternoon & Fire': 0.047007440458328116, 'afternoon & EMS': 0.14963226404967395, 'afternoon & Traffic': 0.12610196463081505, 'afternoon & Monday': 0.0471789191015205, 'afternoon & 2': 0.08964389030168238, '0 & Tuesday': 0.04951617300823269, '0 & Sunday': 0.040005967456783094, '0 & Wednesday': 0.05044387246790349, '0 & Thursday': 0.050690801714100515, '0 & evening': 0.08639265522675478, '0 & Fire': 0.05348590359813637, '0 & EMS': 0.17717516371923459, '0 & Traffic': 0.10848939318852534, '0 & Monday': 0.05001003150062675, '0 & midnight': 0.043193755433729504, 'Tuesday & 4': 0.018156158741209575, 'Tuesday & 3': 0.024727220348341714, 'Tuesday & evening': 0.03608253610054136, 'Tuesday & Fire': 0.021650893489470354, 'Tuesday & EMS': 0.07585529260258281, 'Tuesday & Traffic': 0.04976653182729357, 'Tuesday & 2': 0.0405461251828391, 'Tuesday & midnight': 0.017631434093040882, '4 & Sunday': 0.01604354185707941, '4 & Wednesday': 0.018691172107969813, '4 & Thursday': 0.01831563387937849, '4 & evening': 0.03260837878946367, '4 & Fire': 0.021283929193038655, '4 & EMS': 0.06897213986484053, '4 & Traffic': 0.03534346314838219, '4 & Monday': 0.017797768376937494, '4 & midnight': 0.016976385676045976, 'Sunday & 3': 0.019207322823978887, 'Sunday & evening': 0.032136812520684614, 'Sunday & Fire': 0.019563998401819046, 'Sunday & EMS': 0.06957574468887773, 'Sunday & Traffic': 0.02958006595068617, 'Sunday & 2': 0.030883303638948287, 'Sunday & midnight': 0.019457681643039768, 'Wednesday & 3': 0.02476837522270789, 'Wednesday & evening': 0.03729660489434344, 'Wednesday & Fire': 0.022746642019469684, 'Wednesday & EMS': 0.07557749720061115, 'Wednesday & Traffic': 0.05182256075917025, 'Wednesday & 2': 0.04184936287110122, 'Wednesday & midnight': 0.017118712949895656, 'Thursday & 3': 0.024838681466416764, 'Thursday & evening': 0.03691592230645634, 'Thursday & Fire': 0.02223906523562023, 'Thursday & EMS': 0.07481956159770081, 'Thursday & Traffic': 0.05174025101043791, 'Thursday & 2': 0.04021860097434165, 'Thursday & midnight': 0.01792123300003601, '3 & evening': 0.0409490999943412, '3 & Fire': 0.021463981768390657, '3 & EMS': 0.08542037131985397, '3 & Traffic': 0.058565101009494774, '3 & Monday': 0.02451458683078316, '3 & midnight': 0.021361094582475225, 'evening & Fire': 0.04402199728034872, 'evening & EMS': 0.13546298376268728, 'evening & Traffic': 0.075760979348827, 'evening & Monday': 0.034954206628335475, 'evening & 2': 0.06814389801822132, 'Fire & Monday': 0.021993850775855122, 'Fire & 2': 0.040702170748144174, 'Fire & midnight': 0.0192227559018662, 'EMS & Monday': 0.07664752393413163, 'EMS & 2': 0.13228376971790048, 'EMS & midnight': 0.08291506834281324, 'Traffic & Monday': 0.047551027757247975, 'Traffic & 2': 0.09769824217242863, 'Traffic & midnight': 0.026438577207401705, 'Monday & 2': 0.03962871444175985, 'Monday & midnight': 0.01823846848994192, '2 & midnight': 0.03229628765885353, 'morning & Friday & 0': 0.015215300010460198, 'morning & Friday & EMS': 0.02277579338881239, 'morning & Friday & Traffic': 0.01529760975919254, 'morning & Friday & 2': 0.012355036242011239, 'morning & Saturday & 0': 0.012042945111401101, 'morning & Saturday & EMS': 0.01945425207017592, 'morning & Saturday & Traffic': 0.011267861644171527, 'morning & 1 & EMS': 0.016359062560553396, 'morning & 0 & Tuesday': 0.015412500450131438, 'morning & 0 & Sunday': 0.010475630312622714, 'morning & 0 & Wednesday': 0.015523961568206488, 'morning & 0 & Thursday': 0.015558257296844964, 'morning & 0 & Fire': 0.015347338565718332, 'morning & 0 & EMS': 0.051512184414992036, 'morning & 0 & Traffic': 0.033169113952702764, 'morning & 0 & Monday': 0.015800042183746227, 'morning & Tuesday & EMS': 0.023249074444023368, 'morning & Tuesday & Traffic': 0.01574345423149274, 'morning & Tuesday & 2': 0.012867757385156466, 'morning & 4 & EMS': 0.020949545838813505, 'morning & 4 & Traffic': 0.01001778233529905, 'morning & Sunday & EMS': 0.018977541442101092, 'morning & Wednesday & EMS': 0.023345102484211105, 'morning & Wednesday & Traffic': 0.01593551031186821, 'morning & Wednesday & 2': 0.012603680274640195, 'morning & Thursday & EMS': 0.022835810913929725, 'morning & Thursday & Traffic': 0.015542824218957649, 'morning & Thursday & 2': 0.012468212146518212, 'morning & 3 & EMS': 0.026116197358200022, 'morning & 3 & Traffic': 0.0174239449347781, 'morning & Fire & 2': 0.011398185412997738, 'morning & EMS & Monday': 0.023981288250454848, 'morning & EMS & 2': 0.03968187282114949, 'morning & Traffic & Monday': 0.015451940538065687, 'morning & Traffic & 2': 0.029520048425568837, 'morning & Monday & 2': 0.012612254206799815, 'Friday & afternoon & 0': 0.01772746213322862, 'Friday & afternoon & EMS': 0.022299082760737565, 'Friday & afternoon & Traffic': 0.02221677301200522, 'Friday & afternoon & 2': 0.01453281501055451, 'Friday & 0 & evening': 0.013646270425249888, 'Friday & 0 & EMS': 0.026399137119467456, 'Friday & 0 & Traffic': 0.018235038917078072, 'Friday & 4 & EMS': 0.010069225928256766, 'Friday & 3 & EMS': 0.012725430111306788, 'Friday & evening & EMS': 0.020632310348907595, 'Friday & evening & Traffic': 0.012907197473090715, 'Friday & evening & 2': 0.010794580588960549, 'Friday & EMS & 2': 0.01946797036163131, 'Friday & EMS & midnight': 0.011487354307457778, 'Friday & Traffic & 2': 0.01680319224642167, 'Saturday & afternoon & 0': 0.013994372070930426, 'Saturday & afternoon & EMS': 0.020040709029893872, 'Saturday & afternoon & Traffic': 0.014467653126141405, 'Saturday & afternoon & 2': 0.01084945375478211, 'Saturday & 0 & evening': 0.013150697146423898, 'Saturday & 0 & EMS': 0.025231367559327325, 'Saturday & 0 & Traffic': 0.013272446983090491, 'Saturday & 3 & EMS': 0.01164511465919477, 'Saturday & evening & EMS': 0.02057572239665411, 'Saturday & evening & Traffic': 0.01043790501112039, 'Saturday & EMS & 2': 0.01802926454524721, 'Saturday & EMS & midnight': 0.012888334822339552, 'Saturday & Traffic & 2': 0.011655403377786314, '1 & afternoon & EMS': 0.016679727623323152, '1 & evening & EMS': 0.015729735940037348, '1 & EMS & midnight': 0.01000920840313943, 'afternoon & 0 & Tuesday': 0.016357347774121473, 'afternoon & 0 & Sunday': 0.011847459458161784, 'afternoon & 0 & Wednesday': 0.016984959608205594, 'afternoon & 0 & Thursday': 0.016551118640928866, 'afternoon & 0 & Fire': 0.01611899246008406, 'afternoon & 0 & EMS': 0.050452446400063106, 'afternoon & 0 & Traffic': 0.04296397405185171, 'afternoon & 0 & Monday': 0.016072693226422116, 'afternoon & Tuesday & EMS': 0.022290508828577946, 'afternoon & Tuesday & Traffic': 0.019176456668204257, 'afternoon & Tuesday & 2': 0.013582823327268706, 'afternoon & 4 & EMS': 0.01963430464552792, 'afternoon & 4 & Traffic': 0.012854039093701076, 'afternoon & Sunday & EMS': 0.019133587007406163, 'afternoon & Sunday & Traffic': 0.010753425714594375, 'afternoon & Wednesday & EMS': 0.022067586592427847, 'afternoon & Wednesday & Traffic': 0.020668320863977997, 'afternoon & Wednesday & 2': 0.014207005588488981, 'afternoon & Thursday & EMS': 0.021776072899000794, 'afternoon & Thursday & Traffic': 0.020577437183086033, 'afternoon & Thursday & 2': 0.01364798521168181, 'afternoon & 3 & EMS': 0.024358541265478092, 'afternoon & 3 & Traffic': 0.02271749065012698, 'afternoon & Fire & 2': 0.012651694294734062, 'afternoon & EMS & Monday': 0.02202471693162975, 'afternoon & EMS & 2': 0.03850724411528166, 'afternoon & Traffic & Monday': 0.018241898062805767, 'afternoon & Traffic & 2': 0.038484951891666654, 'afternoon & Monday & 2': 0.013143838000696203, '0 & Tuesday & evening': 0.011909191769711041, '0 & Tuesday & EMS': 0.025418279280407022, '0 & Tuesday & Traffic': 0.016475668037924218, '0 & Sunday & evening': 0.01082201717187133, '0 & Sunday & EMS': 0.023523440273131184, '0 & Wednesday & evening': 0.012276156066142742, '0 & Wednesday & EMS': 0.025200501403552695, '0 & Wednesday & Traffic': 0.017249036718721866, '0 & Thursday & evening': 0.01262425771182328, '0 & Thursday & EMS': 0.025473152446228584, '0 & Thursday & Traffic': 0.01738450484684385, '0 & evening & Fire': 0.015201581719004806, '0 & evening & EMS': 0.046616469151849485, '0 & evening & Traffic': 0.024574604355900493, '0 & evening & Monday': 0.011964064935532604, '0 & EMS & Monday': 0.025929285637120325, '0 & EMS & midnight': 0.028594063752329965, '0 & Traffic & Monday': 0.016084696731445584, 'Tuesday & 3 & EMS': 0.012375613679194325, 'Tuesday & evening & EMS': 0.018896946479800673, 'Tuesday & evening & Traffic': 0.011297013013514231, 'Tuesday & EMS & 2': 0.019737191831443353, 'Tuesday & EMS & midnight': 0.011418762850180824, 'Tuesday & Traffic & 2': 0.01490835323914583, '4 & Wednesday & EMS': 0.01009837729759947, '4 & evening & EMS': 0.017694881191022065, '4 & EMS & midnight': 0.010693408189477041, 'Sunday & 3 & EMS': 0.011266146857739603, 'Sunday & evening & EMS': 0.018641443301444023, 'Sunday & EMS & 2': 0.017219885349379162, 'Sunday & EMS & midnight': 0.012823172937926446, 'Wednesday & 3 & EMS': 0.012461353000790517, 'Wednesday & evening & EMS': 0.018970682296373397, 'Wednesday & evening & Traffic': 0.01168969910642479, 'Wednesday & evening & 2': 0.010660827247270488, 'Wednesday & EMS & 2': 0.01943195984656091, 'Wednesday & EMS & midnight': 0.011194125827598801, 'Wednesday & Traffic & 2': 0.016086411517877507, 'Thursday & 3 & EMS': 0.012343032736987771, 'Thursday & evening & EMS': 0.018987830160692637, 'Thursday & evening & Traffic': 0.011713706116471724, 'Thursday & EMS & 2': 0.018696316467265585, 'Thursday & EMS & midnight': 0.01121984762407766, 'Thursday & Traffic & 2': 0.015678292347079632, '3 & evening & EMS': 0.021561724595010313, '3 & evening & Traffic': 0.013377048955437844, '3 & EMS & Monday': 0.012603680274640195, '3 & EMS & midnight': 0.013383908101165541, 'evening & Fire & 2': 0.011723994835063267, 'evening & EMS & Monday': 0.018758048778814842, 'evening & EMS & 2': 0.033860172884768065, 'evening & Traffic & Monday': 0.010101806870463317, 'evening & Traffic & 2': 0.022559730298389986, 'EMS & Monday & 2': 0.019701181316372954, 'EMS & Monday & midnight': 0.011883469973232183, 'EMS & 2 & midnight': 0.020234479896701265, 'Traffic & Monday & 2': 0.014145273276939723}\n"
     ]
    }
   ],
   "source": [
    "print(rule_supports)"
   ]
  },
  {
   "cell_type": "markdown",
   "id": "bdaf39fe",
   "metadata": {
    "id": "jHFZmjIEaXlF",
    "papermill": {
     "duration": 0.00979,
     "end_time": "2025-04-16T01:38:52.770443",
     "exception": false,
     "start_time": "2025-04-16T01:38:52.760653",
     "status": "completed"
    },
    "tags": []
   },
   "source": [
    "#APRIORI"
   ]
  },
  {
   "cell_type": "code",
   "execution_count": 65,
   "id": "b6176379",
   "metadata": {
    "execution": {
     "iopub.execute_input": "2025-04-16T01:38:52.790398Z",
     "iopub.status.busy": "2025-04-16T01:38:52.790223Z",
     "iopub.status.idle": "2025-04-16T01:38:55.868212Z",
     "shell.execute_reply": "2025-04-16T01:38:55.867098Z"
    },
    "id": "zHKIXZMYcDer",
    "papermill": {
     "duration": 3.090632,
     "end_time": "2025-04-16T01:38:55.870753",
     "exception": false,
     "start_time": "2025-04-16T01:38:52.780121",
     "status": "completed"
    },
    "tags": []
   },
   "outputs": [],
   "source": [
    "from mlxtend.preprocessing import TransactionEncoder\n",
    "from mlxtend.frequent_patterns import apriori, association_rules\n",
    "\n",
    "# List of transactions\n",
    "transactions = test1\n",
    "\n",
    "# Convert transactions to a one-hot encoded array\n",
    "te = TransactionEncoder()\n",
    "onehot = te.fit_transform(transactions)\n",
    "\n",
    "# Convert one-hot encoded array to a pandas DataFrame\n",
    "df = pd.DataFrame(onehot, columns=te.columns_)\n",
    "\n",
    "# Find frequent itemsets with minimum support of 0.3\n",
    "frequent_itemsets = apriori(df, min_support=0.01, use_colnames=True)\n",
    "\n",
    "# Generate association rules with minimum lift of 1\n",
    "rules = association_rules(frequent_itemsets, metric=\"lift\", min_threshold=1)\n",
    "\n",
    "\n",
    "rules_list = []\n",
    "\n",
    "for index, row in rules.iterrows():\n",
    "    rule = {\n",
    "        \"antecedents\": list(row['antecedents']),\n",
    "        \"consequents\": list(row['consequents']),\n",
    "        \"support\": row[\"support\"],\n",
    "        \"confidence\": row[\"confidence\"],\n",
    "        \"lift\": row[\"lift\"]\n",
    "    }\n",
    "    rules_list.append(rule)\n",
    "\n",
    "# Save to JSON\n",
    "output_path = f\"{results_dir}/apriori_rules.json\"\n",
    "with open(output_path, \"w\") as f:\n",
    "    json.dump(rules_list, f, indent=4)"
   ]
  },
  {
   "cell_type": "markdown",
   "id": "603118f0",
   "metadata": {
    "id": "bOhq6KTm8H8d",
    "papermill": {
     "duration": 0.011623,
     "end_time": "2025-04-16T01:38:55.897008",
     "exception": false,
     "start_time": "2025-04-16T01:38:55.885385",
     "status": "completed"
    },
    "tags": []
   },
   "source": [
    "#FP GROWTH"
   ]
  },
  {
   "cell_type": "code",
   "execution_count": 66,
   "id": "eec76c1d",
   "metadata": {
    "execution": {
     "iopub.execute_input": "2025-04-16T01:38:55.925329Z",
     "iopub.status.busy": "2025-04-16T01:38:55.924985Z",
     "iopub.status.idle": "2025-04-16T01:38:55.951699Z",
     "shell.execute_reply": "2025-04-16T01:38:55.951131Z"
    },
    "id": "-AWYL_dacywX",
    "papermill": {
     "duration": 0.043089,
     "end_time": "2025-04-16T01:38:55.952590",
     "exception": false,
     "start_time": "2025-04-16T01:38:55.909501",
     "status": "completed"
    },
    "tags": []
   },
   "outputs": [],
   "source": [
    "from fpgrowth_py import fpgrowth"
   ]
  },
  {
   "cell_type": "code",
   "execution_count": 67,
   "id": "cc4d67a1",
   "metadata": {
    "execution": {
     "iopub.execute_input": "2025-04-16T01:38:55.998759Z",
     "iopub.status.busy": "2025-04-16T01:38:55.998617Z",
     "iopub.status.idle": "2025-04-16T01:40:51.127767Z",
     "shell.execute_reply": "2025-04-16T01:40:51.126593Z"
    },
    "id": "DF_dR0L17hS8",
    "papermill": {
     "duration": 115.178851,
     "end_time": "2025-04-16T01:40:51.151986",
     "exception": false,
     "start_time": "2025-04-16T01:38:55.973135",
     "status": "completed"
    },
    "tags": []
   },
   "outputs": [
    {
     "data": {
      "text/plain": [
       "1161"
      ]
     },
     "execution_count": 67,
     "metadata": {},
     "output_type": "execute_result"
    }
   ],
   "source": [
    "freqItemSet, rules = fpgrowth(test1, minSupRatio=0.01, minConf=0.03)\n",
    "len(rules)"
   ]
  },
  {
   "cell_type": "code",
   "execution_count": 68,
   "id": "9758258d",
   "metadata": {
    "execution": {
     "iopub.execute_input": "2025-04-16T01:40:51.176643Z",
     "iopub.status.busy": "2025-04-16T01:40:51.176506Z",
     "iopub.status.idle": "2025-04-16T01:40:51.196454Z",
     "shell.execute_reply": "2025-04-16T01:40:51.196214Z"
    },
    "id": "eygzsBeiEuQ8",
    "papermill": {
     "duration": 0.033181,
     "end_time": "2025-04-16T01:40:51.197425",
     "exception": false,
     "start_time": "2025-04-16T01:40:51.164244",
     "status": "completed"
    },
    "tags": []
   },
   "outputs": [],
   "source": [
    "rules_dict = []\n",
    "for rule in rules:\n",
    "    rule_dict = {\n",
    "        \"antecedents\": list(rule[0]),\n",
    "        \"consequents\": list(rule[1]),\n",
    "        \"support\": rule[2]\n",
    "    }\n",
    "    rules_dict.append(rule_dict)\n",
    "\n",
    "# Write to JSON\n",
    "with open(f\"{results_dir}/fpgrowth.json\", 'w') as json_file:\n",
    "    json.dump(rules_dict, json_file, indent=4)"
   ]
  }
 ],
 "metadata": {
  "colab": {
   "provenance": []
  },
  "kernelspec": {
   "display_name": "venv",
   "language": "python",
   "name": "python3"
  },
  "language_info": {
   "codemirror_mode": {
    "name": "ipython",
    "version": 3
   },
   "file_extension": ".py",
   "mimetype": "text/x-python",
   "name": "python",
   "nbconvert_exporter": "python",
   "pygments_lexer": "ipython3",
   "version": "3.11.9"
  },
  "papermill": {
   "default_parameters": {},
   "duration": 230.187313,
   "end_time": "2025-04-16T01:40:53.844062",
   "environment_variables": {},
   "exception": null,
   "input_path": "src/python/911_data_notebook.ipynb",
   "output_path": "src/python/911_data_executed_notebook.ipynb",
   "parameters": {
    "job_id": "24"
   },
   "start_time": "2025-04-16T01:37:03.656749",
   "version": "2.6.0"
  }
 },
 "nbformat": 4,
 "nbformat_minor": 5
}