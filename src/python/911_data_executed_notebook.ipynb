{
 "cells": [
  {
   "cell_type": "code",
   "execution_count": 1,
   "id": "2e37c25f",
   "metadata": {
    "execution": {
     "iopub.execute_input": "2025-04-12T08:26:51.670896Z",
     "iopub.status.busy": "2025-04-12T08:26:51.670722Z",
     "iopub.status.idle": "2025-04-12T08:26:51.675551Z",
     "shell.execute_reply": "2025-04-12T08:26:51.675181Z"
    },
    "papermill": {
     "duration": 0.022749,
     "end_time": "2025-04-12T08:26:51.676570",
     "exception": false,
     "start_time": "2025-04-12T08:26:51.653821",
     "status": "completed"
    },
    "tags": [
     "injected-parameters"
    ]
   },
   "outputs": [],
   "source": [
    "# Parameters\n",
    "job_id = \"36\"\n"
   ]
  },
  {
   "cell_type": "markdown",
   "id": "6cd107f5",
   "metadata": {
    "id": "9wa_q4li2X4K",
    "papermill": {
     "duration": 0.005197,
     "end_time": "2025-04-12T08:26:51.687982",
     "exception": false,
     "start_time": "2025-04-12T08:26:51.682785",
     "status": "completed"
    },
    "tags": []
   },
   "source": [
    "#Preprocessing"
   ]
  },
  {
   "cell_type": "code",
   "execution_count": 2,
   "id": "31549637",
   "metadata": {
    "colab": {
     "base_uri": "https://localhost:8080/"
    },
    "execution": {
     "iopub.execute_input": "2025-04-12T08:26:51.698104Z",
     "iopub.status.busy": "2025-04-12T08:26:51.698005Z",
     "iopub.status.idle": "2025-04-12T08:26:53.292665Z",
     "shell.execute_reply": "2025-04-12T08:26:53.292435Z"
    },
    "id": "uFaYYmdfaDCH",
    "outputId": "abe9084d-b827-4661-8f8f-4eea1a5ab1d4",
    "papermill": {
     "duration": 1.600127,
     "end_time": "2025-04-12T08:26:53.293366",
     "exception": false,
     "start_time": "2025-04-12T08:26:51.693239",
     "status": "completed"
    },
    "tags": []
   },
   "outputs": [
    {
     "data": {
      "text/html": [
       "<div>\n",
       "<style scoped>\n",
       "    .dataframe tbody tr th:only-of-type {\n",
       "        vertical-align: middle;\n",
       "    }\n",
       "\n",
       "    .dataframe tbody tr th {\n",
       "        vertical-align: top;\n",
       "    }\n",
       "\n",
       "    .dataframe thead th {\n",
       "        text-align: right;\n",
       "    }\n",
       "</style>\n",
       "<table border=\"1\" class=\"dataframe\">\n",
       "  <thead>\n",
       "    <tr style=\"text-align: right;\">\n",
       "      <th></th>\n",
       "      <th>lat</th>\n",
       "      <th>lng</th>\n",
       "      <th>desc</th>\n",
       "      <th>zip</th>\n",
       "      <th>title</th>\n",
       "      <th>timeStamp</th>\n",
       "      <th>twp</th>\n",
       "      <th>addr</th>\n",
       "      <th>e</th>\n",
       "    </tr>\n",
       "  </thead>\n",
       "  <tbody>\n",
       "    <tr>\n",
       "      <th>0</th>\n",
       "      <td>40.297876</td>\n",
       "      <td>-75.581294</td>\n",
       "      <td>REINDEER CT &amp; DEAD END;  NEW HANOVER; Station ...</td>\n",
       "      <td>19525.0</td>\n",
       "      <td>EMS: BACK PAINS/INJURY</td>\n",
       "      <td>2015-12-10 17:10:52</td>\n",
       "      <td>NEW HANOVER</td>\n",
       "      <td>REINDEER CT &amp; DEAD END</td>\n",
       "      <td>1</td>\n",
       "    </tr>\n",
       "    <tr>\n",
       "      <th>1</th>\n",
       "      <td>40.258061</td>\n",
       "      <td>-75.264680</td>\n",
       "      <td>BRIAR PATH &amp; WHITEMARSH LN;  HATFIELD TOWNSHIP...</td>\n",
       "      <td>19446.0</td>\n",
       "      <td>EMS: DIABETIC EMERGENCY</td>\n",
       "      <td>2015-12-10 17:29:21</td>\n",
       "      <td>HATFIELD TOWNSHIP</td>\n",
       "      <td>BRIAR PATH &amp; WHITEMARSH LN</td>\n",
       "      <td>1</td>\n",
       "    </tr>\n",
       "    <tr>\n",
       "      <th>2</th>\n",
       "      <td>40.121182</td>\n",
       "      <td>-75.351975</td>\n",
       "      <td>HAWS AVE; NORRISTOWN; 2015-12-10 @ 14:39:21-St...</td>\n",
       "      <td>19401.0</td>\n",
       "      <td>Fire: GAS-ODOR/LEAK</td>\n",
       "      <td>2015-12-10 14:39:21</td>\n",
       "      <td>NORRISTOWN</td>\n",
       "      <td>HAWS AVE</td>\n",
       "      <td>1</td>\n",
       "    </tr>\n",
       "    <tr>\n",
       "      <th>3</th>\n",
       "      <td>40.116153</td>\n",
       "      <td>-75.343513</td>\n",
       "      <td>AIRY ST &amp; SWEDE ST;  NORRISTOWN; Station 308A;...</td>\n",
       "      <td>19401.0</td>\n",
       "      <td>EMS: CARDIAC EMERGENCY</td>\n",
       "      <td>2015-12-10 16:47:36</td>\n",
       "      <td>NORRISTOWN</td>\n",
       "      <td>AIRY ST &amp; SWEDE ST</td>\n",
       "      <td>1</td>\n",
       "    </tr>\n",
       "    <tr>\n",
       "      <th>5</th>\n",
       "      <td>40.253473</td>\n",
       "      <td>-75.283245</td>\n",
       "      <td>CANNON AVE &amp; W 9TH ST;  LANSDALE; Station 345;...</td>\n",
       "      <td>19446.0</td>\n",
       "      <td>EMS: HEAD INJURY</td>\n",
       "      <td>2015-12-10 15:39:04</td>\n",
       "      <td>LANSDALE</td>\n",
       "      <td>CANNON AVE &amp; W 9TH ST</td>\n",
       "      <td>1</td>\n",
       "    </tr>\n",
       "  </tbody>\n",
       "</table>\n",
       "</div>"
      ],
      "text/plain": [
       "         lat        lng                                               desc  \\\n",
       "0  40.297876 -75.581294  REINDEER CT & DEAD END;  NEW HANOVER; Station ...   \n",
       "1  40.258061 -75.264680  BRIAR PATH & WHITEMARSH LN;  HATFIELD TOWNSHIP...   \n",
       "2  40.121182 -75.351975  HAWS AVE; NORRISTOWN; 2015-12-10 @ 14:39:21-St...   \n",
       "3  40.116153 -75.343513  AIRY ST & SWEDE ST;  NORRISTOWN; Station 308A;...   \n",
       "5  40.253473 -75.283245  CANNON AVE & W 9TH ST;  LANSDALE; Station 345;...   \n",
       "\n",
       "       zip                    title            timeStamp                twp  \\\n",
       "0  19525.0   EMS: BACK PAINS/INJURY  2015-12-10 17:10:52        NEW HANOVER   \n",
       "1  19446.0  EMS: DIABETIC EMERGENCY  2015-12-10 17:29:21  HATFIELD TOWNSHIP   \n",
       "2  19401.0      Fire: GAS-ODOR/LEAK  2015-12-10 14:39:21         NORRISTOWN   \n",
       "3  19401.0   EMS: CARDIAC EMERGENCY  2015-12-10 16:47:36         NORRISTOWN   \n",
       "5  19446.0         EMS: HEAD INJURY  2015-12-10 15:39:04           LANSDALE   \n",
       "\n",
       "                         addr  e  \n",
       "0      REINDEER CT & DEAD END  1  \n",
       "1  BRIAR PATH & WHITEMARSH LN  1  \n",
       "2                    HAWS AVE  1  \n",
       "3          AIRY ST & SWEDE ST  1  \n",
       "5       CANNON AVE & W 9TH ST  1  "
      ]
     },
     "execution_count": 2,
     "metadata": {},
     "output_type": "execute_result"
    }
   ],
   "source": [
    "import numpy as np\n",
    "import matplotlib.pyplot as plt\n",
    "import pandas as pd\n",
    "from sklearn.metrics import mean_squared_error\n",
    "import seaborn as sns\n",
    "\n",
    "data = pd.read_csv('src/data/911.csv')\n",
    "data.count()\n",
    "data = data.dropna()\n",
    "len(data)\n",
    "data.head()"
   ]
  },
  {
   "cell_type": "code",
   "execution_count": 3,
   "id": "356d2fda",
   "metadata": {
    "colab": {
     "base_uri": "https://localhost:8080/"
    },
    "execution": {
     "iopub.execute_input": "2025-04-12T08:26:53.300586Z",
     "iopub.status.busy": "2025-04-12T08:26:53.300508Z",
     "iopub.status.idle": "2025-04-12T08:26:53.341239Z",
     "shell.execute_reply": "2025-04-12T08:26:53.341024Z"
    },
    "id": "NTHxJjdrlL7H",
    "outputId": "7b63ad26-c9e1-4e00-91c5-d975172d1af3",
    "papermill": {
     "duration": 0.04507,
     "end_time": "2025-04-12T08:26:53.341909",
     "exception": false,
     "start_time": "2025-04-12T08:26:53.296839",
     "status": "completed"
    },
    "tags": []
   },
   "outputs": [
    {
     "data": {
      "text/html": [
       "<div>\n",
       "<style scoped>\n",
       "    .dataframe tbody tr th:only-of-type {\n",
       "        vertical-align: middle;\n",
       "    }\n",
       "\n",
       "    .dataframe tbody tr th {\n",
       "        vertical-align: top;\n",
       "    }\n",
       "\n",
       "    .dataframe thead th {\n",
       "        text-align: right;\n",
       "    }\n",
       "</style>\n",
       "<table border=\"1\" class=\"dataframe\">\n",
       "  <thead>\n",
       "    <tr style=\"text-align: right;\">\n",
       "      <th></th>\n",
       "      <th>lat</th>\n",
       "      <th>lng</th>\n",
       "      <th>zip</th>\n",
       "      <th>e</th>\n",
       "    </tr>\n",
       "  </thead>\n",
       "  <tbody>\n",
       "    <tr>\n",
       "      <th>count</th>\n",
       "      <td>583199.000000</td>\n",
       "      <td>583199.000000</td>\n",
       "      <td>583199.000000</td>\n",
       "      <td>583199.0</td>\n",
       "    </tr>\n",
       "    <tr>\n",
       "      <th>mean</th>\n",
       "      <td>40.160511</td>\n",
       "      <td>-75.313874</td>\n",
       "      <td>19236.077238</td>\n",
       "      <td>1.0</td>\n",
       "    </tr>\n",
       "    <tr>\n",
       "      <th>std</th>\n",
       "      <td>0.109280</td>\n",
       "      <td>0.603885</td>\n",
       "      <td>298.188280</td>\n",
       "      <td>0.0</td>\n",
       "    </tr>\n",
       "    <tr>\n",
       "      <th>min</th>\n",
       "      <td>22.986757</td>\n",
       "      <td>-95.595595</td>\n",
       "      <td>1104.000000</td>\n",
       "      <td>1.0</td>\n",
       "    </tr>\n",
       "    <tr>\n",
       "      <th>25%</th>\n",
       "      <td>40.102500</td>\n",
       "      <td>-75.399590</td>\n",
       "      <td>19038.000000</td>\n",
       "      <td>1.0</td>\n",
       "    </tr>\n",
       "    <tr>\n",
       "      <th>50%</th>\n",
       "      <td>40.145223</td>\n",
       "      <td>-75.302575</td>\n",
       "      <td>19401.000000</td>\n",
       "      <td>1.0</td>\n",
       "    </tr>\n",
       "    <tr>\n",
       "      <th>75%</th>\n",
       "      <td>40.232145</td>\n",
       "      <td>-75.207070</td>\n",
       "      <td>19446.000000</td>\n",
       "      <td>1.0</td>\n",
       "    </tr>\n",
       "    <tr>\n",
       "      <th>max</th>\n",
       "      <td>51.335390</td>\n",
       "      <td>87.854975</td>\n",
       "      <td>77316.000000</td>\n",
       "      <td>1.0</td>\n",
       "    </tr>\n",
       "  </tbody>\n",
       "</table>\n",
       "</div>"
      ],
      "text/plain": [
       "                 lat            lng            zip         e\n",
       "count  583199.000000  583199.000000  583199.000000  583199.0\n",
       "mean       40.160511     -75.313874   19236.077238       1.0\n",
       "std         0.109280       0.603885     298.188280       0.0\n",
       "min        22.986757     -95.595595    1104.000000       1.0\n",
       "25%        40.102500     -75.399590   19038.000000       1.0\n",
       "50%        40.145223     -75.302575   19401.000000       1.0\n",
       "75%        40.232145     -75.207070   19446.000000       1.0\n",
       "max        51.335390      87.854975   77316.000000       1.0"
      ]
     },
     "execution_count": 3,
     "metadata": {},
     "output_type": "execute_result"
    }
   ],
   "source": [
    "data.describe()"
   ]
  },
  {
   "cell_type": "code",
   "execution_count": 4,
   "id": "4fee8527",
   "metadata": {
    "colab": {
     "base_uri": "https://localhost:8080/"
    },
    "execution": {
     "iopub.execute_input": "2025-04-12T08:26:53.348825Z",
     "iopub.status.busy": "2025-04-12T08:26:53.348747Z",
     "iopub.status.idle": "2025-04-12T08:26:53.352448Z",
     "shell.execute_reply": "2025-04-12T08:26:53.352222Z"
    },
    "id": "GpiLox13LZyJ",
    "outputId": "beb83575-735f-4677-e047-aec2aa687632",
    "papermill": {
     "duration": 0.007775,
     "end_time": "2025-04-12T08:26:53.353013",
     "exception": false,
     "start_time": "2025-04-12T08:26:53.345238",
     "status": "completed"
    },
    "tags": []
   },
   "outputs": [
    {
     "data": {
      "text/plain": [
       "200"
      ]
     },
     "execution_count": 4,
     "metadata": {},
     "output_type": "execute_result"
    }
   ],
   "source": [
    "data[\"zip\"].nunique()"
   ]
  },
  {
   "cell_type": "code",
   "execution_count": 5,
   "id": "94b5fd9c",
   "metadata": {
    "colab": {
     "base_uri": "https://localhost:8080/"
    },
    "execution": {
     "iopub.execute_input": "2025-04-12T08:26:53.360030Z",
     "iopub.status.busy": "2025-04-12T08:26:53.359955Z",
     "iopub.status.idle": "2025-04-12T08:26:53.756349Z",
     "shell.execute_reply": "2025-04-12T08:26:53.756125Z"
    },
    "id": "TGrWREsa6qto",
    "outputId": "9683d0ba-1a95-4134-b1c1-eb31f2ac277e",
    "papermill": {
     "duration": 0.400593,
     "end_time": "2025-04-12T08:26:53.757047",
     "exception": false,
     "start_time": "2025-04-12T08:26:53.356454",
     "status": "completed"
    },
    "tags": []
   },
   "outputs": [
    {
     "data": {
      "text/html": [
       "<div>\n",
       "<style scoped>\n",
       "    .dataframe tbody tr th:only-of-type {\n",
       "        vertical-align: middle;\n",
       "    }\n",
       "\n",
       "    .dataframe tbody tr th {\n",
       "        vertical-align: top;\n",
       "    }\n",
       "\n",
       "    .dataframe thead th {\n",
       "        text-align: right;\n",
       "    }\n",
       "</style>\n",
       "<table border=\"1\" class=\"dataframe\">\n",
       "  <thead>\n",
       "    <tr style=\"text-align: right;\">\n",
       "      <th></th>\n",
       "      <th>desc</th>\n",
       "      <th>title</th>\n",
       "      <th>timeStamp</th>\n",
       "      <th>twp</th>\n",
       "      <th>addr</th>\n",
       "    </tr>\n",
       "  </thead>\n",
       "  <tbody>\n",
       "    <tr>\n",
       "      <th>count</th>\n",
       "      <td>583199</td>\n",
       "      <td>583199</td>\n",
       "      <td>583199</td>\n",
       "      <td>583199</td>\n",
       "      <td>583199</td>\n",
       "    </tr>\n",
       "    <tr>\n",
       "      <th>unique</th>\n",
       "      <td>582993</td>\n",
       "      <td>144</td>\n",
       "      <td>566959</td>\n",
       "      <td>68</td>\n",
       "      <td>38059</td>\n",
       "    </tr>\n",
       "    <tr>\n",
       "      <th>top</th>\n",
       "      <td>CITY AVE &amp; CARDINAL AVE;  LOWER MERION; Statio...</td>\n",
       "      <td>Traffic: VEHICLE ACCIDENT -</td>\n",
       "      <td>2018-07-09 13:23:16</td>\n",
       "      <td>LOWER MERION</td>\n",
       "      <td>SHANNONDELL DR &amp; SHANNONDELL BLVD</td>\n",
       "    </tr>\n",
       "    <tr>\n",
       "      <th>freq</th>\n",
       "      <td>5</td>\n",
       "      <td>125113</td>\n",
       "      <td>8</td>\n",
       "      <td>47487</td>\n",
       "      <td>7285</td>\n",
       "    </tr>\n",
       "  </tbody>\n",
       "</table>\n",
       "</div>"
      ],
      "text/plain": [
       "                                                     desc  \\\n",
       "count                                              583199   \n",
       "unique                                             582993   \n",
       "top     CITY AVE & CARDINAL AVE;  LOWER MERION; Statio...   \n",
       "freq                                                    5   \n",
       "\n",
       "                              title            timeStamp           twp  \\\n",
       "count                        583199               583199        583199   \n",
       "unique                          144               566959            68   \n",
       "top     Traffic: VEHICLE ACCIDENT -  2018-07-09 13:23:16  LOWER MERION   \n",
       "freq                         125113                    8         47487   \n",
       "\n",
       "                                     addr  \n",
       "count                              583199  \n",
       "unique                              38059  \n",
       "top     SHANNONDELL DR & SHANNONDELL BLVD  \n",
       "freq                                 7285  "
      ]
     },
     "execution_count": 5,
     "metadata": {},
     "output_type": "execute_result"
    }
   ],
   "source": [
    "data.describe(include=[\"object\"])"
   ]
  },
  {
   "cell_type": "code",
   "execution_count": 6,
   "id": "ed8ffb89",
   "metadata": {
    "colab": {
     "base_uri": "https://localhost:8080/"
    },
    "execution": {
     "iopub.execute_input": "2025-04-12T08:26:53.764783Z",
     "iopub.status.busy": "2025-04-12T08:26:53.764704Z",
     "iopub.status.idle": "2025-04-12T08:26:53.766282Z",
     "shell.execute_reply": "2025-04-12T08:26:53.766070Z"
    },
    "id": "GVXGcPe9x9CT",
    "outputId": "d3615199-3e13-4510-ea32-66e13cee068f",
    "papermill": {
     "duration": 0.006186,
     "end_time": "2025-04-12T08:26:53.766926",
     "exception": false,
     "start_time": "2025-04-12T08:26:53.760740",
     "status": "completed"
    },
    "tags": []
   },
   "outputs": [
    {
     "name": "stdout",
     "output_type": "stream",
     "text": [
      "Rows     : 583199\n",
      "Columns  : 9\n"
     ]
    }
   ],
   "source": [
    "print('Rows     :',data.shape[0])\n",
    "print('Columns  :',data.shape[1])"
   ]
  },
  {
   "cell_type": "code",
   "execution_count": 7,
   "id": "4cd226ae",
   "metadata": {
    "colab": {
     "base_uri": "https://localhost:8080/"
    },
    "execution": {
     "iopub.execute_input": "2025-04-12T08:26:53.774277Z",
     "iopub.status.busy": "2025-04-12T08:26:53.774195Z",
     "iopub.status.idle": "2025-04-12T08:26:53.775691Z",
     "shell.execute_reply": "2025-04-12T08:26:53.775484Z"
    },
    "id": "VwktMI2Bx9oZ",
    "outputId": "31f9037f-e3af-403c-b6f9-697db45e37fb",
    "papermill": {
     "duration": 0.005956,
     "end_time": "2025-04-12T08:26:53.776226",
     "exception": false,
     "start_time": "2025-04-12T08:26:53.770270",
     "status": "completed"
    },
    "tags": []
   },
   "outputs": [
    {
     "name": "stdout",
     "output_type": "stream",
     "text": [
      "['lat' 'lng' 'desc' 'zip' 'title' 'timeStamp' 'twp' 'addr' 'e']\n"
     ]
    }
   ],
   "source": [
    "print(data.columns.values)"
   ]
  },
  {
   "cell_type": "code",
   "execution_count": 8,
   "id": "c11c75d5",
   "metadata": {
    "execution": {
     "iopub.execute_input": "2025-04-12T08:26:53.783522Z",
     "iopub.status.busy": "2025-04-12T08:26:53.783445Z",
     "iopub.status.idle": "2025-04-12T08:26:53.795536Z",
     "shell.execute_reply": "2025-04-12T08:26:53.795274Z"
    },
    "id": "BmGbsB8QyC18",
    "papermill": {
     "duration": 0.016524,
     "end_time": "2025-04-12T08:26:53.796168",
     "exception": false,
     "start_time": "2025-04-12T08:26:53.779644",
     "status": "completed"
    },
    "tags": []
   },
   "outputs": [],
   "source": [
    "data = data.drop('e',axis=1)"
   ]
  },
  {
   "cell_type": "code",
   "execution_count": 9,
   "id": "3f695868",
   "metadata": {
    "colab": {
     "base_uri": "https://localhost:8080/"
    },
    "execution": {
     "iopub.execute_input": "2025-04-12T08:26:53.803730Z",
     "iopub.status.busy": "2025-04-12T08:26:53.803658Z",
     "iopub.status.idle": "2025-04-12T08:26:53.874917Z",
     "shell.execute_reply": "2025-04-12T08:26:53.874699Z"
    },
    "id": "e84u_ENOrjAT",
    "outputId": "2c08c1b5-a825-4431-b1ee-4cfa495390b9",
    "papermill": {
     "duration": 0.075862,
     "end_time": "2025-04-12T08:26:53.875582",
     "exception": false,
     "start_time": "2025-04-12T08:26:53.799720",
     "status": "completed"
    },
    "tags": []
   },
   "outputs": [
    {
     "name": "stdout",
     "output_type": "stream",
     "text": [
      "Missing values: 0\n"
     ]
    },
    {
     "data": {
      "text/plain": [
       "lat          0\n",
       "lng          0\n",
       "desc         0\n",
       "zip          0\n",
       "title        0\n",
       "timeStamp    0\n",
       "twp          0\n",
       "addr         0\n",
       "dtype: int64"
      ]
     },
     "execution_count": 9,
     "metadata": {},
     "output_type": "execute_result"
    }
   ],
   "source": [
    "# missing values\n",
    "print('Missing values:',data.isnull().values.sum())\n",
    "\n",
    "data.isnull().sum()"
   ]
  },
  {
   "cell_type": "code",
   "execution_count": 10,
   "id": "16ed2eef",
   "metadata": {
    "colab": {
     "base_uri": "https://localhost:8080/"
    },
    "execution": {
     "iopub.execute_input": "2025-04-12T08:26:53.883081Z",
     "iopub.status.busy": "2025-04-12T08:26:53.883007Z",
     "iopub.status.idle": "2025-04-12T08:26:53.921709Z",
     "shell.execute_reply": "2025-04-12T08:26:53.921505Z"
    },
    "id": "qupdGmxbroPs",
    "outputId": "f0474cca-c390-452d-bf46-d09f71ab7dbe",
    "papermill": {
     "duration": 0.043113,
     "end_time": "2025-04-12T08:26:53.922286",
     "exception": false,
     "start_time": "2025-04-12T08:26:53.879173",
     "status": "completed"
    },
    "tags": []
   },
   "outputs": [
    {
     "name": "stdout",
     "output_type": "stream",
     "text": [
      "<class 'pandas.core.frame.DataFrame'>\n",
      "Index: 583199 entries, 0 to 663521\n",
      "Data columns (total 8 columns):\n",
      " #   Column     Non-Null Count   Dtype  \n",
      "---  ------     --------------   -----  \n",
      " 0   lat        583199 non-null  float64\n",
      " 1   lng        583199 non-null  float64\n",
      " 2   desc       583199 non-null  object \n",
      " 3   zip        583199 non-null  float64\n",
      " 4   title      583199 non-null  object \n",
      " 5   timeStamp  583199 non-null  object \n",
      " 6   twp        583199 non-null  object \n",
      " 7   addr       583199 non-null  object \n",
      "dtypes: float64(3), object(5)\n",
      "memory usage: 40.0+ MB\n"
     ]
    }
   ],
   "source": [
    "data.info()"
   ]
  },
  {
   "cell_type": "code",
   "execution_count": 11,
   "id": "875a63ae",
   "metadata": {
    "colab": {
     "base_uri": "https://localhost:8080/"
    },
    "execution": {
     "iopub.execute_input": "2025-04-12T08:26:53.929332Z",
     "iopub.status.busy": "2025-04-12T08:26:53.929257Z",
     "iopub.status.idle": "2025-04-12T08:26:53.932282Z",
     "shell.execute_reply": "2025-04-12T08:26:53.932106Z"
    },
    "id": "-BC2Hzb1rs-1",
    "outputId": "999c3d25-5618-4b9b-8c3e-a28de50fc0f9",
    "papermill": {
     "duration": 0.007198,
     "end_time": "2025-04-12T08:26:53.932822",
     "exception": false,
     "start_time": "2025-04-12T08:26:53.925624",
     "status": "completed"
    },
    "tags": []
   },
   "outputs": [
    {
     "data": {
      "text/plain": [
       "200"
      ]
     },
     "execution_count": 11,
     "metadata": {},
     "output_type": "execute_result"
    }
   ],
   "source": [
    "data['zip'].nunique()"
   ]
  },
  {
   "cell_type": "code",
   "execution_count": 12,
   "id": "d8205e2c",
   "metadata": {
    "colab": {
     "base_uri": "https://localhost:8080/"
    },
    "execution": {
     "iopub.execute_input": "2025-04-12T08:26:53.939980Z",
     "iopub.status.busy": "2025-04-12T08:26:53.939913Z",
     "iopub.status.idle": "2025-04-12T08:26:53.966006Z",
     "shell.execute_reply": "2025-04-12T08:26:53.965800Z"
    },
    "id": "sgNx58mSry9Z",
    "outputId": "9042c409-3b4e-45f3-a4f8-4d4fa8befb46",
    "papermill": {
     "duration": 0.030311,
     "end_time": "2025-04-12T08:26:53.966560",
     "exception": false,
     "start_time": "2025-04-12T08:26:53.936249",
     "status": "completed"
    },
    "tags": []
   },
   "outputs": [
    {
     "data": {
      "text/html": [
       "<style type=\"text/css\">\n",
       "#T_ec8b3_row0_col0 {\n",
       "  background-color: #08306b;\n",
       "  color: #f1f1f1;\n",
       "}\n",
       "#T_ec8b3_row1_col0 {\n",
       "  background-color: #084387;\n",
       "  color: #f1f1f1;\n",
       "}\n",
       "#T_ec8b3_row2_col0 {\n",
       "  background-color: #5fa6d1;\n",
       "  color: #f1f1f1;\n",
       "}\n",
       "#T_ec8b3_row3_col0 {\n",
       "  background-color: #8abfdd;\n",
       "  color: #000000;\n",
       "}\n",
       "#T_ec8b3_row4_col0 {\n",
       "  background-color: #f7fbff;\n",
       "  color: #000000;\n",
       "}\n",
       "</style>\n",
       "<table id=\"T_ec8b3\">\n",
       "  <thead>\n",
       "    <tr>\n",
       "      <th class=\"blank level0\" >&nbsp;</th>\n",
       "      <th id=\"T_ec8b3_level0_col0\" class=\"col_heading level0 col0\" >count</th>\n",
       "    </tr>\n",
       "    <tr>\n",
       "      <th class=\"index_name level0\" >zip</th>\n",
       "      <th class=\"blank col0\" >&nbsp;</th>\n",
       "    </tr>\n",
       "  </thead>\n",
       "  <tbody>\n",
       "    <tr>\n",
       "      <th id=\"T_ec8b3_level0_row0\" class=\"row_heading level0 row0\" >19401.000000</th>\n",
       "      <td id=\"T_ec8b3_row0_col0\" class=\"data row0 col0\" >45596</td>\n",
       "    </tr>\n",
       "    <tr>\n",
       "      <th id=\"T_ec8b3_level0_row1\" class=\"row_heading level0 row1\" >19464.000000</th>\n",
       "      <td id=\"T_ec8b3_row1_col0\" class=\"data row1 col0\" >43902</td>\n",
       "    </tr>\n",
       "    <tr>\n",
       "      <th id=\"T_ec8b3_level0_row2\" class=\"row_heading level0 row2\" >19403.000000</th>\n",
       "      <td id=\"T_ec8b3_row2_col0\" class=\"data row2 col0\" >34888</td>\n",
       "    </tr>\n",
       "    <tr>\n",
       "      <th id=\"T_ec8b3_level0_row3\" class=\"row_heading level0 row3\" >19446.000000</th>\n",
       "      <td id=\"T_ec8b3_row3_col0\" class=\"data row3 col0\" >32268</td>\n",
       "    </tr>\n",
       "    <tr>\n",
       "      <th id=\"T_ec8b3_level0_row4\" class=\"row_heading level0 row4\" >19406.000000</th>\n",
       "      <td id=\"T_ec8b3_row4_col0\" class=\"data row4 col0\" >22456</td>\n",
       "    </tr>\n",
       "  </tbody>\n",
       "</table>\n"
      ],
      "text/plain": [
       "<pandas.io.formats.style.Styler at 0x16b6ad7d0>"
      ]
     },
     "execution_count": 12,
     "metadata": {},
     "output_type": "execute_result"
    }
   ],
   "source": [
    "data_zip = pd.DataFrame(data['zip'].value_counts().head(5))\n",
    "data_zip.rename(columns = {'zip':'Top 5'}, inplace = True)\n",
    "data_zip.style.background_gradient(cmap='Blues')"
   ]
  },
  {
   "cell_type": "code",
   "execution_count": 13,
   "id": "90a26518",
   "metadata": {
    "colab": {
     "base_uri": "https://localhost:8080/"
    },
    "execution": {
     "iopub.execute_input": "2025-04-12T08:26:53.973770Z",
     "iopub.status.busy": "2025-04-12T08:26:53.973687Z",
     "iopub.status.idle": "2025-04-12T08:26:53.991308Z",
     "shell.execute_reply": "2025-04-12T08:26:53.991112Z"
    },
    "id": "2T884Wxirzr5",
    "outputId": "6b702b65-1caf-4e01-c5f9-d9ff9e43c880",
    "papermill": {
     "duration": 0.021881,
     "end_time": "2025-04-12T08:26:53.991865",
     "exception": false,
     "start_time": "2025-04-12T08:26:53.969984",
     "status": "completed"
    },
    "tags": []
   },
   "outputs": [
    {
     "data": {
      "text/html": [
       "<style type=\"text/css\">\n",
       "#T_c5537_row0_col0 {\n",
       "  background-color: #00441b;\n",
       "  color: #f1f1f1;\n",
       "}\n",
       "#T_c5537_row1_col0 {\n",
       "  background-color: #5eb96b;\n",
       "  color: #f1f1f1;\n",
       "}\n",
       "#T_c5537_row2_col0 {\n",
       "  background-color: #88ce87;\n",
       "  color: #000000;\n",
       "}\n",
       "#T_c5537_row3_col0 {\n",
       "  background-color: #f6fcf4;\n",
       "  color: #000000;\n",
       "}\n",
       "#T_c5537_row4_col0 {\n",
       "  background-color: #f7fcf5;\n",
       "  color: #000000;\n",
       "}\n",
       "</style>\n",
       "<table id=\"T_c5537\">\n",
       "  <thead>\n",
       "    <tr>\n",
       "      <th class=\"blank level0\" >&nbsp;</th>\n",
       "      <th id=\"T_c5537_level0_col0\" class=\"col_heading level0 col0\" >count</th>\n",
       "    </tr>\n",
       "    <tr>\n",
       "      <th class=\"index_name level0\" >twp</th>\n",
       "      <th class=\"blank col0\" >&nbsp;</th>\n",
       "    </tr>\n",
       "  </thead>\n",
       "  <tbody>\n",
       "    <tr>\n",
       "      <th id=\"T_c5537_level0_row0\" class=\"row_heading level0 row0\" >LOWER MERION</th>\n",
       "      <td id=\"T_c5537_row0_col0\" class=\"data row0 col0\" >47487</td>\n",
       "    </tr>\n",
       "    <tr>\n",
       "      <th id=\"T_c5537_level0_row1\" class=\"row_heading level0 row1\" >ABINGTON</th>\n",
       "      <td id=\"T_c5537_row1_col0\" class=\"data row1 col0\" >38137</td>\n",
       "    </tr>\n",
       "    <tr>\n",
       "      <th id=\"T_c5537_level0_row2\" class=\"row_heading level0 row2\" >NORRISTOWN</th>\n",
       "      <td id=\"T_c5537_row2_col0\" class=\"data row2 col0\" >35881</td>\n",
       "    </tr>\n",
       "    <tr>\n",
       "      <th id=\"T_c5537_level0_row3\" class=\"row_heading level0 row3\" >POTTSTOWN</th>\n",
       "      <td id=\"T_c5537_row3_col0\" class=\"data row3 col0\" >26837</td>\n",
       "    </tr>\n",
       "    <tr>\n",
       "      <th id=\"T_c5537_level0_row4\" class=\"row_heading level0 row4\" >CHELTENHAM</th>\n",
       "      <td id=\"T_c5537_row4_col0\" class=\"data row4 col0\" >26647</td>\n",
       "    </tr>\n",
       "  </tbody>\n",
       "</table>\n"
      ],
      "text/plain": [
       "<pandas.io.formats.style.Styler at 0x16c1ce290>"
      ]
     },
     "execution_count": 13,
     "metadata": {},
     "output_type": "execute_result"
    }
   ],
   "source": [
    "data_twp = pd.DataFrame(data['twp'].value_counts().head(5))\n",
    "data_twp.rename(columns = {'twp':'Top 5'}, inplace = True)\n",
    "data_twp.style.background_gradient(cmap='Greens')"
   ]
  },
  {
   "cell_type": "code",
   "execution_count": 14,
   "id": "3a94a6ed",
   "metadata": {
    "colab": {
     "base_uri": "https://localhost:8080/"
    },
    "execution": {
     "iopub.execute_input": "2025-04-12T08:26:53.999468Z",
     "iopub.status.busy": "2025-04-12T08:26:53.999400Z",
     "iopub.status.idle": "2025-04-12T08:26:54.015189Z",
     "shell.execute_reply": "2025-04-12T08:26:54.014995Z"
    },
    "id": "QcD7kyB1r2ap",
    "outputId": "c23cd654-2e81-4ce8-a6a1-16119d5ba340",
    "papermill": {
     "duration": 0.020206,
     "end_time": "2025-04-12T08:26:54.015756",
     "exception": false,
     "start_time": "2025-04-12T08:26:53.995550",
     "status": "completed"
    },
    "tags": []
   },
   "outputs": [
    {
     "data": {
      "text/plain": [
       "144"
      ]
     },
     "execution_count": 14,
     "metadata": {},
     "output_type": "execute_result"
    }
   ],
   "source": [
    "data['title'].nunique()"
   ]
  },
  {
   "cell_type": "code",
   "execution_count": 15,
   "id": "f6b2134b",
   "metadata": {
    "execution": {
     "iopub.execute_input": "2025-04-12T08:26:54.023338Z",
     "iopub.status.busy": "2025-04-12T08:26:54.023267Z",
     "iopub.status.idle": "2025-04-12T08:26:54.080020Z",
     "shell.execute_reply": "2025-04-12T08:26:54.079640Z"
    },
    "id": "AnQNvhTEr4yG",
    "papermill": {
     "duration": 0.061451,
     "end_time": "2025-04-12T08:26:54.080823",
     "exception": false,
     "start_time": "2025-04-12T08:26:54.019372",
     "status": "completed"
    },
    "tags": []
   },
   "outputs": [],
   "source": [
    "data['reason'] = data['title'].apply(lambda title: title.split(':')[0])"
   ]
  },
  {
   "cell_type": "code",
   "execution_count": 16,
   "id": "3f6a38de",
   "metadata": {
    "execution": {
     "iopub.execute_input": "2025-04-12T08:26:54.088732Z",
     "iopub.status.busy": "2025-04-12T08:26:54.088651Z",
     "iopub.status.idle": "2025-04-12T08:26:54.148692Z",
     "shell.execute_reply": "2025-04-12T08:26:54.148393Z"
    },
    "id": "NZvNfhrEr851",
    "papermill": {
     "duration": 0.064997,
     "end_time": "2025-04-12T08:26:54.149443",
     "exception": false,
     "start_time": "2025-04-12T08:26:54.084446",
     "status": "completed"
    },
    "tags": []
   },
   "outputs": [],
   "source": [
    "data['title_code'] = data['title'].apply(lambda title: title.split(':')[1])"
   ]
  },
  {
   "cell_type": "code",
   "execution_count": 17,
   "id": "9c31512a",
   "metadata": {
    "execution": {
     "iopub.execute_input": "2025-04-12T08:26:54.157364Z",
     "iopub.status.busy": "2025-04-12T08:26:54.157284Z",
     "iopub.status.idle": "2025-04-12T08:26:54.246462Z",
     "shell.execute_reply": "2025-04-12T08:26:54.246089Z"
    },
    "id": "Hyd8sQKhHM-v",
    "papermill": {
     "duration": 0.093814,
     "end_time": "2025-04-12T08:26:54.247146",
     "exception": false,
     "start_time": "2025-04-12T08:26:54.153332",
     "status": "completed"
    },
    "tags": []
   },
   "outputs": [],
   "source": [
    "data[\"weekday\"] = pd.to_datetime(data['timeStamp']).dt.day_name()"
   ]
  },
  {
   "cell_type": "code",
   "execution_count": 18,
   "id": "0c617e91",
   "metadata": {
    "colab": {
     "base_uri": "https://localhost:8080/"
    },
    "execution": {
     "iopub.execute_input": "2025-04-12T08:26:54.254971Z",
     "iopub.status.busy": "2025-04-12T08:26:54.254890Z",
     "iopub.status.idle": "2025-04-12T08:26:54.258290Z",
     "shell.execute_reply": "2025-04-12T08:26:54.258092Z"
    },
    "id": "3mbVxt7-HRVU",
    "outputId": "7663afd2-60a3-42cc-ea29-c28ecdc71e53",
    "papermill": {
     "duration": 0.007848,
     "end_time": "2025-04-12T08:26:54.258825",
     "exception": false,
     "start_time": "2025-04-12T08:26:54.250977",
     "status": "completed"
    },
    "tags": []
   },
   "outputs": [
    {
     "data": {
      "text/html": [
       "<div>\n",
       "<style scoped>\n",
       "    .dataframe tbody tr th:only-of-type {\n",
       "        vertical-align: middle;\n",
       "    }\n",
       "\n",
       "    .dataframe tbody tr th {\n",
       "        vertical-align: top;\n",
       "    }\n",
       "\n",
       "    .dataframe thead th {\n",
       "        text-align: right;\n",
       "    }\n",
       "</style>\n",
       "<table border=\"1\" class=\"dataframe\">\n",
       "  <thead>\n",
       "    <tr style=\"text-align: right;\">\n",
       "      <th></th>\n",
       "      <th>lat</th>\n",
       "      <th>lng</th>\n",
       "      <th>desc</th>\n",
       "      <th>zip</th>\n",
       "      <th>title</th>\n",
       "      <th>timeStamp</th>\n",
       "      <th>twp</th>\n",
       "      <th>addr</th>\n",
       "      <th>reason</th>\n",
       "      <th>title_code</th>\n",
       "      <th>weekday</th>\n",
       "    </tr>\n",
       "  </thead>\n",
       "  <tbody>\n",
       "    <tr>\n",
       "      <th>0</th>\n",
       "      <td>40.297876</td>\n",
       "      <td>-75.581294</td>\n",
       "      <td>REINDEER CT &amp; DEAD END;  NEW HANOVER; Station ...</td>\n",
       "      <td>19525.0</td>\n",
       "      <td>EMS: BACK PAINS/INJURY</td>\n",
       "      <td>2015-12-10 17:10:52</td>\n",
       "      <td>NEW HANOVER</td>\n",
       "      <td>REINDEER CT &amp; DEAD END</td>\n",
       "      <td>EMS</td>\n",
       "      <td>BACK PAINS/INJURY</td>\n",
       "      <td>Thursday</td>\n",
       "    </tr>\n",
       "    <tr>\n",
       "      <th>1</th>\n",
       "      <td>40.258061</td>\n",
       "      <td>-75.264680</td>\n",
       "      <td>BRIAR PATH &amp; WHITEMARSH LN;  HATFIELD TOWNSHIP...</td>\n",
       "      <td>19446.0</td>\n",
       "      <td>EMS: DIABETIC EMERGENCY</td>\n",
       "      <td>2015-12-10 17:29:21</td>\n",
       "      <td>HATFIELD TOWNSHIP</td>\n",
       "      <td>BRIAR PATH &amp; WHITEMARSH LN</td>\n",
       "      <td>EMS</td>\n",
       "      <td>DIABETIC EMERGENCY</td>\n",
       "      <td>Thursday</td>\n",
       "    </tr>\n",
       "    <tr>\n",
       "      <th>2</th>\n",
       "      <td>40.121182</td>\n",
       "      <td>-75.351975</td>\n",
       "      <td>HAWS AVE; NORRISTOWN; 2015-12-10 @ 14:39:21-St...</td>\n",
       "      <td>19401.0</td>\n",
       "      <td>Fire: GAS-ODOR/LEAK</td>\n",
       "      <td>2015-12-10 14:39:21</td>\n",
       "      <td>NORRISTOWN</td>\n",
       "      <td>HAWS AVE</td>\n",
       "      <td>Fire</td>\n",
       "      <td>GAS-ODOR/LEAK</td>\n",
       "      <td>Thursday</td>\n",
       "    </tr>\n",
       "    <tr>\n",
       "      <th>3</th>\n",
       "      <td>40.116153</td>\n",
       "      <td>-75.343513</td>\n",
       "      <td>AIRY ST &amp; SWEDE ST;  NORRISTOWN; Station 308A;...</td>\n",
       "      <td>19401.0</td>\n",
       "      <td>EMS: CARDIAC EMERGENCY</td>\n",
       "      <td>2015-12-10 16:47:36</td>\n",
       "      <td>NORRISTOWN</td>\n",
       "      <td>AIRY ST &amp; SWEDE ST</td>\n",
       "      <td>EMS</td>\n",
       "      <td>CARDIAC EMERGENCY</td>\n",
       "      <td>Thursday</td>\n",
       "    </tr>\n",
       "    <tr>\n",
       "      <th>5</th>\n",
       "      <td>40.253473</td>\n",
       "      <td>-75.283245</td>\n",
       "      <td>CANNON AVE &amp; W 9TH ST;  LANSDALE; Station 345;...</td>\n",
       "      <td>19446.0</td>\n",
       "      <td>EMS: HEAD INJURY</td>\n",
       "      <td>2015-12-10 15:39:04</td>\n",
       "      <td>LANSDALE</td>\n",
       "      <td>CANNON AVE &amp; W 9TH ST</td>\n",
       "      <td>EMS</td>\n",
       "      <td>HEAD INJURY</td>\n",
       "      <td>Thursday</td>\n",
       "    </tr>\n",
       "  </tbody>\n",
       "</table>\n",
       "</div>"
      ],
      "text/plain": [
       "         lat        lng                                               desc  \\\n",
       "0  40.297876 -75.581294  REINDEER CT & DEAD END;  NEW HANOVER; Station ...   \n",
       "1  40.258061 -75.264680  BRIAR PATH & WHITEMARSH LN;  HATFIELD TOWNSHIP...   \n",
       "2  40.121182 -75.351975  HAWS AVE; NORRISTOWN; 2015-12-10 @ 14:39:21-St...   \n",
       "3  40.116153 -75.343513  AIRY ST & SWEDE ST;  NORRISTOWN; Station 308A;...   \n",
       "5  40.253473 -75.283245  CANNON AVE & W 9TH ST;  LANSDALE; Station 345;...   \n",
       "\n",
       "       zip                    title            timeStamp                twp  \\\n",
       "0  19525.0   EMS: BACK PAINS/INJURY  2015-12-10 17:10:52        NEW HANOVER   \n",
       "1  19446.0  EMS: DIABETIC EMERGENCY  2015-12-10 17:29:21  HATFIELD TOWNSHIP   \n",
       "2  19401.0      Fire: GAS-ODOR/LEAK  2015-12-10 14:39:21         NORRISTOWN   \n",
       "3  19401.0   EMS: CARDIAC EMERGENCY  2015-12-10 16:47:36         NORRISTOWN   \n",
       "5  19446.0         EMS: HEAD INJURY  2015-12-10 15:39:04           LANSDALE   \n",
       "\n",
       "                         addr reason           title_code   weekday  \n",
       "0      REINDEER CT & DEAD END    EMS    BACK PAINS/INJURY  Thursday  \n",
       "1  BRIAR PATH & WHITEMARSH LN    EMS   DIABETIC EMERGENCY  Thursday  \n",
       "2                    HAWS AVE   Fire        GAS-ODOR/LEAK  Thursday  \n",
       "3          AIRY ST & SWEDE ST    EMS    CARDIAC EMERGENCY  Thursday  \n",
       "5       CANNON AVE & W 9TH ST    EMS          HEAD INJURY  Thursday  "
      ]
     },
     "execution_count": 18,
     "metadata": {},
     "output_type": "execute_result"
    }
   ],
   "source": [
    "data.head()"
   ]
  },
  {
   "cell_type": "code",
   "execution_count": 19,
   "id": "3e75b3e1",
   "metadata": {
    "execution": {
     "iopub.execute_input": "2025-04-12T08:26:54.266730Z",
     "iopub.status.busy": "2025-04-12T08:26:54.266654Z",
     "iopub.status.idle": "2025-04-12T08:26:54.267963Z",
     "shell.execute_reply": "2025-04-12T08:26:54.267781Z"
    },
    "id": "zG7BVazfsjZ6",
    "papermill": {
     "duration": 0.005751,
     "end_time": "2025-04-12T08:26:54.268470",
     "exception": false,
     "start_time": "2025-04-12T08:26:54.262719",
     "status": "completed"
    },
    "tags": []
   },
   "outputs": [],
   "source": [
    "data_class = data"
   ]
  },
  {
   "cell_type": "code",
   "execution_count": 20,
   "id": "07e48410",
   "metadata": {
    "colab": {
     "base_uri": "https://localhost:8080/"
    },
    "execution": {
     "iopub.execute_input": "2025-04-12T08:26:54.276182Z",
     "iopub.status.busy": "2025-04-12T08:26:54.276117Z",
     "iopub.status.idle": "2025-04-12T08:26:54.761457Z",
     "shell.execute_reply": "2025-04-12T08:26:54.761232Z"
    },
    "id": "_M8jobF_83S2",
    "outputId": "491bb8e3-870b-4260-f639-e9b54714fa55",
    "papermill": {
     "duration": 0.489884,
     "end_time": "2025-04-12T08:26:54.762068",
     "exception": false,
     "start_time": "2025-04-12T08:26:54.272184",
     "status": "completed"
    },
    "tags": []
   },
   "outputs": [
    {
     "data": {
      "text/html": [
       "<div>\n",
       "<style scoped>\n",
       "    .dataframe tbody tr th:only-of-type {\n",
       "        vertical-align: middle;\n",
       "    }\n",
       "\n",
       "    .dataframe tbody tr th {\n",
       "        vertical-align: top;\n",
       "    }\n",
       "\n",
       "    .dataframe thead th {\n",
       "        text-align: right;\n",
       "    }\n",
       "</style>\n",
       "<table border=\"1\" class=\"dataframe\">\n",
       "  <thead>\n",
       "    <tr style=\"text-align: right;\">\n",
       "      <th></th>\n",
       "      <th>desc</th>\n",
       "      <th>title</th>\n",
       "      <th>timeStamp</th>\n",
       "      <th>twp</th>\n",
       "      <th>addr</th>\n",
       "      <th>reason</th>\n",
       "      <th>title_code</th>\n",
       "      <th>weekday</th>\n",
       "    </tr>\n",
       "  </thead>\n",
       "  <tbody>\n",
       "    <tr>\n",
       "      <th>count</th>\n",
       "      <td>583199</td>\n",
       "      <td>583199</td>\n",
       "      <td>583199</td>\n",
       "      <td>583199</td>\n",
       "      <td>583199</td>\n",
       "      <td>583199</td>\n",
       "      <td>583199</td>\n",
       "      <td>583199</td>\n",
       "    </tr>\n",
       "    <tr>\n",
       "      <th>unique</th>\n",
       "      <td>582993</td>\n",
       "      <td>144</td>\n",
       "      <td>566959</td>\n",
       "      <td>68</td>\n",
       "      <td>38059</td>\n",
       "      <td>3</td>\n",
       "      <td>93</td>\n",
       "      <td>7</td>\n",
       "    </tr>\n",
       "    <tr>\n",
       "      <th>top</th>\n",
       "      <td>CITY AVE &amp; CARDINAL AVE;  LOWER MERION; Statio...</td>\n",
       "      <td>Traffic: VEHICLE ACCIDENT -</td>\n",
       "      <td>2018-07-09 13:23:16</td>\n",
       "      <td>LOWER MERION</td>\n",
       "      <td>SHANNONDELL DR &amp; SHANNONDELL BLVD</td>\n",
       "      <td>EMS</td>\n",
       "      <td>VEHICLE ACCIDENT -</td>\n",
       "      <td>Friday</td>\n",
       "    </tr>\n",
       "    <tr>\n",
       "      <th>freq</th>\n",
       "      <td>5</td>\n",
       "      <td>125113</td>\n",
       "      <td>8</td>\n",
       "      <td>47487</td>\n",
       "      <td>7285</td>\n",
       "      <td>304785</td>\n",
       "      <td>125113</td>\n",
       "      <td>90328</td>\n",
       "    </tr>\n",
       "  </tbody>\n",
       "</table>\n",
       "</div>"
      ],
      "text/plain": [
       "                                                     desc  \\\n",
       "count                                              583199   \n",
       "unique                                             582993   \n",
       "top     CITY AVE & CARDINAL AVE;  LOWER MERION; Statio...   \n",
       "freq                                                    5   \n",
       "\n",
       "                              title            timeStamp           twp  \\\n",
       "count                        583199               583199        583199   \n",
       "unique                          144               566959            68   \n",
       "top     Traffic: VEHICLE ACCIDENT -  2018-07-09 13:23:16  LOWER MERION   \n",
       "freq                         125113                    8         47487   \n",
       "\n",
       "                                     addr  reason           title_code weekday  \n",
       "count                              583199  583199               583199  583199  \n",
       "unique                              38059       3                   93       7  \n",
       "top     SHANNONDELL DR & SHANNONDELL BLVD     EMS   VEHICLE ACCIDENT -  Friday  \n",
       "freq                                 7285  304785               125113   90328  "
      ]
     },
     "execution_count": 20,
     "metadata": {},
     "output_type": "execute_result"
    }
   ],
   "source": [
    "data.describe(include=[\"object\"])"
   ]
  },
  {
   "cell_type": "markdown",
   "id": "5a19bbe6",
   "metadata": {
    "id": "1ZtuY-xXCBVu",
    "papermill": {
     "duration": 0.003828,
     "end_time": "2025-04-12T08:26:54.769942",
     "exception": false,
     "start_time": "2025-04-12T08:26:54.766114",
     "status": "completed"
    },
    "tags": []
   },
   "source": [
    "# Remove Outliers"
   ]
  },
  {
   "cell_type": "code",
   "execution_count": 21,
   "id": "57b42657",
   "metadata": {
    "colab": {
     "base_uri": "https://localhost:8080/"
    },
    "execution": {
     "iopub.execute_input": "2025-04-12T08:26:54.778201Z",
     "iopub.status.busy": "2025-04-12T08:26:54.778123Z",
     "iopub.status.idle": "2025-04-12T08:27:02.375498Z",
     "shell.execute_reply": "2025-04-12T08:27:02.375298Z"
    },
    "id": "5nVG0FX7CDUZ",
    "outputId": "94910ab7-84c4-46a1-d39f-6866fa931db8",
    "papermill": {
     "duration": 7.602409,
     "end_time": "2025-04-12T08:27:02.376149",
     "exception": false,
     "start_time": "2025-04-12T08:26:54.773740",
     "status": "completed"
    },
    "tags": []
   },
   "outputs": [
    {
     "data": {
      "image/png": "[encoded data removed]",
      "text/plain": [
       "<Figure size 640x480 with 1 Axes>"
      ]
     },
     "metadata": {},
     "output_type": "display_data"
    }
   ],
   "source": [
    "import seaborn as sns\n",
    "\n",
    "sns.scatterplot(x=data['lat'],y=data['lng'], hue=data['reason']);"
   ]
  },
  {
   "cell_type": "code",
   "execution_count": 22,
   "id": "6125bde4",
   "metadata": {
    "execution": {
     "iopub.execute_input": "2025-04-12T08:27:02.384431Z",
     "iopub.status.busy": "2025-04-12T08:27:02.384354Z",
     "iopub.status.idle": "2025-04-12T08:27:02.435956Z",
     "shell.execute_reply": "2025-04-12T08:27:02.435621Z"
    },
    "id": "1R9AKWoXCEWB",
    "papermill": {
     "duration": 0.05653,
     "end_time": "2025-04-12T08:27:02.436723",
     "exception": false,
     "start_time": "2025-04-12T08:27:02.380193",
     "status": "completed"
    },
    "tags": []
   },
   "outputs": [],
   "source": [
    "data = data[(data[\"lat\"] > 39.5) & (data[\"lat\"] <41.0) ]\n",
    "data = data[(data[\"lng\"] > -77.0)]"
   ]
  },
  {
   "cell_type": "code",
   "execution_count": 23,
   "id": "bf721411",
   "metadata": {
    "execution": {
     "iopub.execute_input": "2025-04-12T08:27:02.445090Z",
     "iopub.status.busy": "2025-04-12T08:27:02.445009Z",
     "iopub.status.idle": "2025-04-12T08:27:10.467125Z",
     "shell.execute_reply": "2025-04-12T08:27:10.466815Z"
    },
    "id": "LzHo32jWCOvx",
    "papermill": {
     "duration": 8.027089,
     "end_time": "2025-04-12T08:27:10.467914",
     "exception": false,
     "start_time": "2025-04-12T08:27:02.440825",
     "status": "completed"
    },
    "tags": []
   },
   "outputs": [],
   "source": [
    "import os\n",
    "\n",
    "sns.scatterplot(x=data['lat'],y=data['lng'], hue=data['reason']);\n",
    "\n",
    "images_dir = f\"src/output/{job_id}/images\"\n",
    "os.makedirs(images_dir, exist_ok=True)\n",
    "results_dir = f\"src/output/{job_id}/results\"\n",
    "os.makedirs(results_dir, exist_ok=True)\n",
    "\n",
    "plt.savefig(f\"{images_dir}/1.png\", bbox_inches='tight')\n",
    "plt.close()"
   ]
  },
  {
   "cell_type": "code",
   "execution_count": 24,
   "id": "551938a1",
   "metadata": {
    "execution": {
     "iopub.execute_input": "2025-04-12T08:27:10.487635Z",
     "iopub.status.busy": "2025-04-12T08:27:10.487522Z",
     "iopub.status.idle": "2025-04-12T08:27:10.574372Z",
     "shell.execute_reply": "2025-04-12T08:27:10.574112Z"
    },
    "id": "6J1K-XSbFTEF",
    "papermill": {
     "duration": 0.09204,
     "end_time": "2025-04-12T08:27:10.575091",
     "exception": false,
     "start_time": "2025-04-12T08:27:10.483051",
     "status": "completed"
    },
    "tags": []
   },
   "outputs": [],
   "source": [
    "data = data[data[\"lng\"] > -77]\n",
    "data = data[data[\"lng\"] < -25]"
   ]
  },
  {
   "cell_type": "markdown",
   "id": "e2323bc0",
   "metadata": {
    "id": "hA_2fHev84vx",
    "papermill": {
     "duration": 0.003958,
     "end_time": "2025-04-12T08:27:10.583265",
     "exception": false,
     "start_time": "2025-04-12T08:27:10.579307",
     "status": "completed"
    },
    "tags": []
   },
   "source": [
    "# Visualizations"
   ]
  },
  {
   "cell_type": "code",
   "execution_count": 25,
   "id": "02848ac2",
   "metadata": {
    "colab": {
     "base_uri": "https://localhost:8080/"
    },
    "execution": {
     "iopub.execute_input": "2025-04-12T08:27:10.591664Z",
     "iopub.status.busy": "2025-04-12T08:27:10.591575Z",
     "iopub.status.idle": "2025-04-12T08:27:10.966863Z",
     "shell.execute_reply": "2025-04-12T08:27:10.966620Z"
    },
    "id": "ZDVXsGDd7eCK",
    "outputId": "3b73d73d-f9f9-4a44-a87c-6e4f28a136f8",
    "papermill": {
     "duration": 0.380278,
     "end_time": "2025-04-12T08:27:10.967533",
     "exception": false,
     "start_time": "2025-04-12T08:27:10.587255",
     "status": "completed"
    },
    "tags": []
   },
   "outputs": [
    {
     "data": {
      "image/png": "[encoded data removed]",
      "text/plain": [
       "<Figure size 640x480 with 1 Axes>"
      ]
     },
     "metadata": {},
     "output_type": "display_data"
    }
   ],
   "source": [
    "# Histogram by half year\n",
    "import datetime as dt\n",
    "\n",
    "plt.hist(pd.to_datetime(data['timeStamp']).dt.date, bins = 27);"
   ]
  },
  {
   "cell_type": "code",
   "execution_count": 26,
   "id": "15204a41",
   "metadata": {
    "execution": {
     "iopub.execute_input": "2025-04-12T08:27:10.976439Z",
     "iopub.status.busy": "2025-04-12T08:27:10.976249Z",
     "iopub.status.idle": "2025-04-12T08:27:11.319064Z",
     "shell.execute_reply": "2025-04-12T08:27:11.318807Z"
    },
    "id": "AiKQDynA_3LM",
    "papermill": {
     "duration": 0.348072,
     "end_time": "2025-04-12T08:27:11.319835",
     "exception": false,
     "start_time": "2025-04-12T08:27:10.971763",
     "status": "completed"
    },
    "tags": []
   },
   "outputs": [],
   "source": [
    "fig, axes = plt.subplots(1,2, figsize=(15, 5))\n",
    "\n",
    "sns.countplot(x='reason', data=data, order=data['reason'].value_counts().index, ax=axes[0])\n",
    "axes[0].set_title('Common Reasons for 911 Calls', size=13)\n",
    "axes[0].set(xlabel='Reason', ylabel='Count')\n",
    "\n",
    "data['reason'].value_counts().plot.pie(autopct='%1.1f%%',ax=axes[1])\n",
    "axes[1].set(xlabel='', ylabel='')\n",
    "\n",
    "sns.despine(bottom=False, left=True)\n",
    "plt.savefig(f\"{images_dir}/2.png\", bbox_inches='tight')\n",
    "\n",
    "plt.close()"
   ]
  },
  {
   "cell_type": "code",
   "execution_count": 27,
   "id": "72827e50",
   "metadata": {
    "colab": {
     "base_uri": "https://localhost:8080/"
    },
    "execution": {
     "iopub.execute_input": "2025-04-12T08:27:11.329499Z",
     "iopub.status.busy": "2025-04-12T08:27:11.329404Z",
     "iopub.status.idle": "2025-04-12T08:27:11.897072Z",
     "shell.execute_reply": "2025-04-12T08:27:11.896787Z"
    },
    "id": "9YcaEurrANVH",
    "outputId": "0ec52131-ce10-45a5-ef2f-97394820b916",
    "papermill": {
     "duration": 0.573337,
     "end_time": "2025-04-12T08:27:11.897855",
     "exception": false,
     "start_time": "2025-04-12T08:27:11.324518",
     "status": "completed"
    },
    "tags": []
   },
   "outputs": [
    {
     "name": "stderr",
     "output_type": "stream",
     "text": [
      "/var/folders/h2/rxk5gqjs5d189kgkrnjvdc8m0000gn/T/ipykernel_21458/1568977134.py:2: FutureWarning: \n",
      "\n",
      "Passing `palette` without assigning `hue` is deprecated and will be removed in v0.14.0. Assign the `y` variable to `hue` and set `legend=False` for the same effect.\n",
      "\n",
      "  sns.countplot(y='title', data=data, order=data['title'].value_counts().index, palette='prism')\n"
     ]
    }
   ],
   "source": [
    "fig, axes = plt.subplots(figsize=(10, 5))\n",
    "sns.countplot(y='title', data=data, order=data['title'].value_counts().index, palette='prism')\n",
    "sns.despine(bottom=False, left=True)\n",
    "axes.set_ylim([9, 0])\n",
    "axes.set_title('Count of Descriptions for 911 Calls', size=15)\n",
    "axes.set(xlabel='Number of 911 Calls', ylabel='')\n",
    "plt.tight_layout()\n",
    "# Save the figure\n",
    "plt.savefig(f\"{images_dir}/3.png\", bbox_inches='tight')\n",
    "\n",
    "# Close the plot to free memory (especially in scripts or notebooks)\n",
    "plt.close()"
   ]
  },
  {
   "cell_type": "code",
   "execution_count": 28,
   "id": "719d0071",
   "metadata": {
    "execution": {
     "iopub.execute_input": "2025-04-12T08:27:11.907426Z",
     "iopub.status.busy": "2025-04-12T08:27:11.907249Z",
     "iopub.status.idle": "2025-04-12T08:27:12.004058Z",
     "shell.execute_reply": "2025-04-12T08:27:12.003791Z"
    },
    "id": "8G13I2vWARRM",
    "papermill": {
     "duration": 0.102431,
     "end_time": "2025-04-12T08:27:12.004788",
     "exception": false,
     "start_time": "2025-04-12T08:27:11.902357",
     "status": "completed"
    },
    "tags": []
   },
   "outputs": [],
   "source": [
    "data[data['reason']=='Traffic'].groupby('title_code').count()['lat'].sort_values(ascending=True).plot(kind='barh', figsize=(10, 5), color='darkblue')\n",
    "plt.xlabel('Number of 911 Calls')\n",
    "plt.ylabel('')\n",
    "plt.title('Traffic 911 Emergency Calls', fontsize=15)\n",
    "plt.savefig(f\"{images_dir}/4.png\", bbox_inches='tight')\n",
    "plt.close()"
   ]
  },
  {
   "cell_type": "code",
   "execution_count": 29,
   "id": "6f26112b",
   "metadata": {
    "execution": {
     "iopub.execute_input": "2025-04-12T08:27:12.013949Z",
     "iopub.status.busy": "2025-04-12T08:27:12.013867Z",
     "iopub.status.idle": "2025-04-12T08:27:12.102671Z",
     "shell.execute_reply": "2025-04-12T08:27:12.102417Z"
    },
    "id": "e--a2sdcAfce",
    "papermill": {
     "duration": 0.094158,
     "end_time": "2025-04-12T08:27:12.103457",
     "exception": false,
     "start_time": "2025-04-12T08:27:12.009299",
     "status": "completed"
    },
    "tags": []
   },
   "outputs": [],
   "source": [
    "data[data['reason']=='Fire'].groupby('title_code').count()['lat'].sort_values(ascending=True).tail(10).plot(kind='barh', figsize=(10, 5), color='darkred')\n",
    "plt.xlabel('Number of 911 Calls')\n",
    "plt.ylabel('')\n",
    "plt.title('Fire 911 Emergency Calls', fontsize=15)\n",
    "plt.savefig(f\"{images_dir}/5.png\", bbox_inches='tight')\n",
    "plt.close()"
   ]
  },
  {
   "cell_type": "code",
   "execution_count": 30,
   "id": "455abffd",
   "metadata": {
    "execution": {
     "iopub.execute_input": "2025-04-12T08:27:12.112666Z",
     "iopub.status.busy": "2025-04-12T08:27:12.112582Z",
     "iopub.status.idle": "2025-04-12T08:27:12.237715Z",
     "shell.execute_reply": "2025-04-12T08:27:12.237486Z"
    },
    "id": "pxnI-Oz6AmlY",
    "papermill": {
     "duration": 0.130416,
     "end_time": "2025-04-12T08:27:12.238387",
     "exception": false,
     "start_time": "2025-04-12T08:27:12.107971",
     "status": "completed"
    },
    "tags": []
   },
   "outputs": [],
   "source": [
    "data[data['reason']=='EMS'].groupby('title_code').count()['lat'].sort_values(ascending=True).tail(10).plot(kind='barh', figsize=(10, 5), color='darkgreen')\n",
    "plt.xlabel('Number of 911 Calls')\n",
    "plt.ylabel('')\n",
    "plt.title('EMS 911 Emergency Calls', fontsize=15)\n",
    "plt.savefig(f\"{images_dir}/6.png\", bbox_inches='tight')\n",
    "plt.close()"
   ]
  },
  {
   "cell_type": "markdown",
   "id": "8740ab62",
   "metadata": {
    "id": "2pK0B6SeaGAT",
    "papermill": {
     "duration": 0.004344,
     "end_time": "2025-04-12T08:27:12.247462",
     "exception": false,
     "start_time": "2025-04-12T08:27:12.243118",
     "status": "completed"
    },
    "tags": []
   },
   "source": [
    "# Sample Maps"
   ]
  },
  {
   "cell_type": "code",
   "execution_count": 31,
   "id": "2670a6da",
   "metadata": {
    "execution": {
     "iopub.execute_input": "2025-04-12T08:27:12.256730Z",
     "iopub.status.busy": "2025-04-12T08:27:12.256624Z",
     "iopub.status.idle": "2025-04-12T08:27:12.258057Z",
     "shell.execute_reply": "2025-04-12T08:27:12.257864Z"
    },
    "id": "9o8xC1-K7D1p",
    "papermill": {
     "duration": 0.006684,
     "end_time": "2025-04-12T08:27:12.258584",
     "exception": false,
     "start_time": "2025-04-12T08:27:12.251900",
     "status": "completed"
    },
    "tags": []
   },
   "outputs": [],
   "source": [
    "#import folium"
   ]
  },
  {
   "cell_type": "code",
   "execution_count": 32,
   "id": "0e11b4f4",
   "metadata": {
    "execution": {
     "iopub.execute_input": "2025-04-12T08:27:12.267689Z",
     "iopub.status.busy": "2025-04-12T08:27:12.267610Z",
     "iopub.status.idle": "2025-04-12T08:27:12.268978Z",
     "shell.execute_reply": "2025-04-12T08:27:12.268797Z"
    },
    "id": "uaeW4CC67Fc4",
    "papermill": {
     "duration": 0.006486,
     "end_time": "2025-04-12T08:27:12.269522",
     "exception": false,
     "start_time": "2025-04-12T08:27:12.263036",
     "status": "completed"
    },
    "tags": []
   },
   "outputs": [],
   "source": [
    "# Create and center Folium map\n",
    "#folium_map = folium.Map(location=[40.102500,\t-75.399590],\n",
    "                        #tiles=\"OpenStreetMap\")\n",
    "\n",
    "# Plot Points\n",
    "#for index, row in data.iterrows():\n",
    "#    radius_len = 1\n",
    "\n",
    "#    folium.CircleMarker(location = (row['lat'],\n",
    "#                                   row['lng']),\n",
    "#                      radius = radius_len,\n",
    "#                       fill = True).add_to(folium_map)\n",
    "\n",
    "#folium_map\n"
   ]
  },
  {
   "cell_type": "code",
   "execution_count": 33,
   "id": "fac9b6d3",
   "metadata": {
    "execution": {
     "iopub.execute_input": "2025-04-12T08:27:12.278395Z",
     "iopub.status.busy": "2025-04-12T08:27:12.278328Z",
     "iopub.status.idle": "2025-04-12T08:27:12.279550Z",
     "shell.execute_reply": "2025-04-12T08:27:12.279388Z"
    },
    "id": "kusuge_k7OZB",
    "papermill": {
     "duration": 0.006265,
     "end_time": "2025-04-12T08:27:12.280071",
     "exception": false,
     "start_time": "2025-04-12T08:27:12.273806",
     "status": "completed"
    },
    "tags": []
   },
   "outputs": [],
   "source": [
    "#from folium import plugins\n",
    "#from folium.plugins import HeatMap"
   ]
  },
  {
   "cell_type": "code",
   "execution_count": 34,
   "id": "e3066c83",
   "metadata": {
    "execution": {
     "iopub.execute_input": "2025-04-12T08:27:12.289020Z",
     "iopub.status.busy": "2025-04-12T08:27:12.288949Z",
     "iopub.status.idle": "2025-04-12T08:27:12.290380Z",
     "shell.execute_reply": "2025-04-12T08:27:12.290197Z"
    },
    "id": "XeYjM22r7OoI",
    "papermill": {
     "duration": 0.006524,
     "end_time": "2025-04-12T08:27:12.290913",
     "exception": false,
     "start_time": "2025-04-12T08:27:12.284389",
     "status": "completed"
    },
    "tags": []
   },
   "outputs": [],
   "source": [
    "#map_hooray = folium.Map(location=[40.102500,\t-75.399590],)\n",
    "\n",
    "#heat_df = data.head(10000) # Reducing data size so it runs faster\n",
    "#heat_df = heat_df[['lat', 'lng']]\n",
    "\n",
    "# List comprehension to make out list of lists\n",
    "#heat_data = [[row['lat'],row['lng']] for index, row in heat_df.iterrows()]\n",
    "\n",
    "# Plot it on the map\n",
    "#HeatMap(heat_data).add_to(map_hooray)\n",
    "\n",
    "# Display the map\n",
    "#map_hooray"
   ]
  },
  {
   "cell_type": "code",
   "execution_count": 35,
   "id": "844852c8",
   "metadata": {
    "execution": {
     "iopub.execute_input": "2025-04-12T08:27:12.299978Z",
     "iopub.status.busy": "2025-04-12T08:27:12.299915Z",
     "iopub.status.idle": "2025-04-12T08:27:12.301281Z",
     "shell.execute_reply": "2025-04-12T08:27:12.301100Z"
    },
    "id": "gLmrqRVT7TIg",
    "papermill": {
     "duration": 0.006562,
     "end_time": "2025-04-12T08:27:12.301926",
     "exception": false,
     "start_time": "2025-04-12T08:27:12.295364",
     "status": "completed"
    },
    "tags": []
   },
   "outputs": [],
   "source": [
    "#map_hooray = folium.Map(location=[40.102500,\t-75.399590],)\n",
    "\n",
    "# Plot Points\n",
    "#for index, row in data.head(50000).iterrows():\n",
    "#    radius_len = 1\n",
    "\n",
    "    # color = row[\"property_type\"]\n",
    "#    if row[\"reason\"] == \"EMS\":\n",
    "#        color = [\"red\"]\n",
    "#    elif row[\"reason\"] == \"Fire\":\n",
    "#        color = [\"blue\"]\n",
    "#    elif row[\"reason\"] == \"Traffic\":\n",
    "#        color = [\"green\"]\n",
    "\n",
    "#    folium.CircleMarker(location = (row['lat'],\n",
    "#                                   row['lng']),\n",
    "#                       radius = radius_len,\n",
    "#                       color = color,\n",
    "#                       fill = True).add_to(folium_map)\n",
    "\n",
    "#folium_map\n"
   ]
  },
  {
   "cell_type": "markdown",
   "id": "e4734d4e",
   "metadata": {
    "id": "BzDXO6qt8GiK",
    "papermill": {
     "duration": 0.004576,
     "end_time": "2025-04-12T08:27:12.310796",
     "exception": false,
     "start_time": "2025-04-12T08:27:12.306220",
     "status": "completed"
    },
    "tags": []
   },
   "source": [
    "# Feature Engineering (Longitude, Latitude)"
   ]
  },
  {
   "cell_type": "markdown",
   "id": "6bc76daf",
   "metadata": {
    "id": "YWzyn0_w9sVN",
    "papermill": {
     "duration": 0.004519,
     "end_time": "2025-04-12T08:27:12.319982",
     "exception": false,
     "start_time": "2025-04-12T08:27:12.315463",
     "status": "completed"
    },
    "tags": []
   },
   "source": [
    "Lat Long"
   ]
  },
  {
   "cell_type": "code",
   "execution_count": 36,
   "id": "02247744",
   "metadata": {
    "colab": {
     "base_uri": "https://localhost:8080/"
    },
    "execution": {
     "iopub.execute_input": "2025-04-12T08:27:12.329677Z",
     "iopub.status.busy": "2025-04-12T08:27:12.329596Z",
     "iopub.status.idle": "2025-04-12T08:27:20.438247Z",
     "shell.execute_reply": "2025-04-12T08:27:20.437973Z"
    },
    "id": "AOy-NwDw9ePJ",
    "outputId": "bb30f685-8348-4496-8381-7f0a574db32b",
    "papermill": {
     "duration": 8.11417,
     "end_time": "2025-04-12T08:27:20.438924",
     "exception": false,
     "start_time": "2025-04-12T08:27:12.324754",
     "status": "completed"
    },
    "tags": []
   },
   "outputs": [
    {
     "data": {
      "image/png": "[encoded data removed]",
      "text/plain": [
       "<Figure size 640x480 with 1 Axes>"
      ]
     },
     "metadata": {},
     "output_type": "display_data"
    }
   ],
   "source": [
    "# Plot data\n",
    "sns.scatterplot(x=data['lat'],y=data['lng'], hue=data['reason']);"
   ]
  },
  {
   "cell_type": "code",
   "execution_count": 37,
   "id": "6c9254f4",
   "metadata": {
    "execution": {
     "iopub.execute_input": "2025-04-12T08:27:20.448306Z",
     "iopub.status.busy": "2025-04-12T08:27:20.448229Z",
     "iopub.status.idle": "2025-04-12T08:27:25.271671Z",
     "shell.execute_reply": "2025-04-12T08:27:25.271265Z"
    },
    "id": "sJv6NPy9DMw0",
    "papermill": {
     "duration": 4.829275,
     "end_time": "2025-04-12T08:27:25.272789",
     "exception": false,
     "start_time": "2025-04-12T08:27:20.443514",
     "status": "completed"
    },
    "tags": []
   },
   "outputs": [],
   "source": [
    "import sklearn.cluster\n",
    "from sklearn.cluster import KMeans\n",
    "\n",
    "Sum_of_squared_distances = []\n",
    "K = range(1,15)\n",
    "for k in K:\n",
    "    km = KMeans(n_clusters=k)\n",
    "    km = km.fit(data[[\"lat\",\"lng\"]])\n",
    "    Sum_of_squared_distances.append(km.inertia_)"
   ]
  },
  {
   "cell_type": "code",
   "execution_count": 38,
   "id": "dd8cfb28",
   "metadata": {
    "colab": {
     "base_uri": "https://localhost:8080/"
    },
    "execution": {
     "iopub.execute_input": "2025-04-12T08:27:25.283469Z",
     "iopub.status.busy": "2025-04-12T08:27:25.283194Z",
     "iopub.status.idle": "2025-04-12T08:27:25.321090Z",
     "shell.execute_reply": "2025-04-12T08:27:25.320821Z"
    },
    "id": "lRQqtt4gE7jp",
    "outputId": "84ce5eed-f90a-4bd4-b7bc-169b90395c6b",
    "papermill": {
     "duration": 0.04394,
     "end_time": "2025-04-12T08:27:25.321888",
     "exception": false,
     "start_time": "2025-04-12T08:27:25.277948",
     "status": "completed"
    },
    "tags": []
   },
   "outputs": [
    {
     "data": {
      "image/png": "[encoded data removed]",
      "text/plain": [
       "<Figure size 640x480 with 1 Axes>"
      ]
     },
     "metadata": {},
     "output_type": "display_data"
    }
   ],
   "source": [
    "plt.plot(K, Sum_of_squared_distances, 'bx-')\n",
    "plt.xlabel('k')\n",
    "plt.ylabel('Sum_of_squared_distances')\n",
    "plt.title('Elbow Method For Optimal k')\n",
    "plt.show()"
   ]
  },
  {
   "cell_type": "code",
   "execution_count": 39,
   "id": "522d104a",
   "metadata": {
    "execution": {
     "iopub.execute_input": "2025-04-12T08:27:25.332717Z",
     "iopub.status.busy": "2025-04-12T08:27:25.332607Z",
     "iopub.status.idle": "2025-04-12T08:27:25.625787Z",
     "shell.execute_reply": "2025-04-12T08:27:25.625203Z"
    },
    "id": "2QoJnFKkFJ04",
    "papermill": {
     "duration": 0.301319,
     "end_time": "2025-04-12T08:27:25.628620",
     "exception": false,
     "start_time": "2025-04-12T08:27:25.327301",
     "status": "completed"
    },
    "tags": []
   },
   "outputs": [],
   "source": [
    "# Select K = 5\n",
    "km = KMeans(n_clusters= 5)\n",
    "km.fit(data[[\"lat\",\"lng\"]])\n",
    "clusters = km.predict(data[[\"lat\",\"lng\"]])"
   ]
  },
  {
   "cell_type": "code",
   "execution_count": 40,
   "id": "30e12121",
   "metadata": {
    "execution": {
     "iopub.execute_input": "2025-04-12T08:27:25.645423Z",
     "iopub.status.busy": "2025-04-12T08:27:25.645312Z",
     "iopub.status.idle": "2025-04-12T08:27:25.647504Z",
     "shell.execute_reply": "2025-04-12T08:27:25.647133Z"
    },
    "id": "8V8Gx3aFJJJL",
    "papermill": {
     "duration": 0.008509,
     "end_time": "2025-04-12T08:27:25.648469",
     "exception": false,
     "start_time": "2025-04-12T08:27:25.639960",
     "status": "completed"
    },
    "tags": []
   },
   "outputs": [],
   "source": [
    "data[\"cluster\"] = pd.Series(clusters, index=data.index)\n"
   ]
  },
  {
   "cell_type": "code",
   "execution_count": 41,
   "id": "7ac487c4",
   "metadata": {
    "colab": {
     "base_uri": "https://localhost:8080/"
    },
    "execution": {
     "iopub.execute_input": "2025-04-12T08:27:25.658828Z",
     "iopub.status.busy": "2025-04-12T08:27:25.658708Z",
     "iopub.status.idle": "2025-04-12T08:27:25.663128Z",
     "shell.execute_reply": "2025-04-12T08:27:25.662817Z"
    },
    "id": "AAMEbe0m3GeC",
    "outputId": "4f91420b-6979-4701-98c2-9575f112f144",
    "papermill": {
     "duration": 0.010464,
     "end_time": "2025-04-12T08:27:25.663999",
     "exception": false,
     "start_time": "2025-04-12T08:27:25.653535",
     "status": "completed"
    },
    "tags": []
   },
   "outputs": [
    {
     "data": {
      "text/html": [
       "<div>\n",
       "<style scoped>\n",
       "    .dataframe tbody tr th:only-of-type {\n",
       "        vertical-align: middle;\n",
       "    }\n",
       "\n",
       "    .dataframe tbody tr th {\n",
       "        vertical-align: top;\n",
       "    }\n",
       "\n",
       "    .dataframe thead th {\n",
       "        text-align: right;\n",
       "    }\n",
       "</style>\n",
       "<table border=\"1\" class=\"dataframe\">\n",
       "  <thead>\n",
       "    <tr style=\"text-align: right;\">\n",
       "      <th></th>\n",
       "      <th>lat</th>\n",
       "      <th>lng</th>\n",
       "      <th>desc</th>\n",
       "      <th>zip</th>\n",
       "      <th>title</th>\n",
       "      <th>timeStamp</th>\n",
       "      <th>twp</th>\n",
       "      <th>addr</th>\n",
       "      <th>reason</th>\n",
       "      <th>title_code</th>\n",
       "      <th>weekday</th>\n",
       "      <th>cluster</th>\n",
       "    </tr>\n",
       "  </thead>\n",
       "  <tbody>\n",
       "    <tr>\n",
       "      <th>0</th>\n",
       "      <td>40.297876</td>\n",
       "      <td>-75.581294</td>\n",
       "      <td>REINDEER CT &amp; DEAD END;  NEW HANOVER; Station ...</td>\n",
       "      <td>19525.0</td>\n",
       "      <td>EMS: BACK PAINS/INJURY</td>\n",
       "      <td>2015-12-10 17:10:52</td>\n",
       "      <td>NEW HANOVER</td>\n",
       "      <td>REINDEER CT &amp; DEAD END</td>\n",
       "      <td>EMS</td>\n",
       "      <td>BACK PAINS/INJURY</td>\n",
       "      <td>Thursday</td>\n",
       "      <td>1</td>\n",
       "    </tr>\n",
       "    <tr>\n",
       "      <th>1</th>\n",
       "      <td>40.258061</td>\n",
       "      <td>-75.264680</td>\n",
       "      <td>BRIAR PATH &amp; WHITEMARSH LN;  HATFIELD TOWNSHIP...</td>\n",
       "      <td>19446.0</td>\n",
       "      <td>EMS: DIABETIC EMERGENCY</td>\n",
       "      <td>2015-12-10 17:29:21</td>\n",
       "      <td>HATFIELD TOWNSHIP</td>\n",
       "      <td>BRIAR PATH &amp; WHITEMARSH LN</td>\n",
       "      <td>EMS</td>\n",
       "      <td>DIABETIC EMERGENCY</td>\n",
       "      <td>Thursday</td>\n",
       "      <td>3</td>\n",
       "    </tr>\n",
       "    <tr>\n",
       "      <th>2</th>\n",
       "      <td>40.121182</td>\n",
       "      <td>-75.351975</td>\n",
       "      <td>HAWS AVE; NORRISTOWN; 2015-12-10 @ 14:39:21-St...</td>\n",
       "      <td>19401.0</td>\n",
       "      <td>Fire: GAS-ODOR/LEAK</td>\n",
       "      <td>2015-12-10 14:39:21</td>\n",
       "      <td>NORRISTOWN</td>\n",
       "      <td>HAWS AVE</td>\n",
       "      <td>Fire</td>\n",
       "      <td>GAS-ODOR/LEAK</td>\n",
       "      <td>Thursday</td>\n",
       "      <td>2</td>\n",
       "    </tr>\n",
       "    <tr>\n",
       "      <th>3</th>\n",
       "      <td>40.116153</td>\n",
       "      <td>-75.343513</td>\n",
       "      <td>AIRY ST &amp; SWEDE ST;  NORRISTOWN; Station 308A;...</td>\n",
       "      <td>19401.0</td>\n",
       "      <td>EMS: CARDIAC EMERGENCY</td>\n",
       "      <td>2015-12-10 16:47:36</td>\n",
       "      <td>NORRISTOWN</td>\n",
       "      <td>AIRY ST &amp; SWEDE ST</td>\n",
       "      <td>EMS</td>\n",
       "      <td>CARDIAC EMERGENCY</td>\n",
       "      <td>Thursday</td>\n",
       "      <td>2</td>\n",
       "    </tr>\n",
       "    <tr>\n",
       "      <th>5</th>\n",
       "      <td>40.253473</td>\n",
       "      <td>-75.283245</td>\n",
       "      <td>CANNON AVE &amp; W 9TH ST;  LANSDALE; Station 345;...</td>\n",
       "      <td>19446.0</td>\n",
       "      <td>EMS: HEAD INJURY</td>\n",
       "      <td>2015-12-10 15:39:04</td>\n",
       "      <td>LANSDALE</td>\n",
       "      <td>CANNON AVE &amp; W 9TH ST</td>\n",
       "      <td>EMS</td>\n",
       "      <td>HEAD INJURY</td>\n",
       "      <td>Thursday</td>\n",
       "      <td>3</td>\n",
       "    </tr>\n",
       "  </tbody>\n",
       "</table>\n",
       "</div>"
      ],
      "text/plain": [
       "         lat        lng                                               desc  \\\n",
       "0  40.297876 -75.581294  REINDEER CT & DEAD END;  NEW HANOVER; Station ...   \n",
       "1  40.258061 -75.264680  BRIAR PATH & WHITEMARSH LN;  HATFIELD TOWNSHIP...   \n",
       "2  40.121182 -75.351975  HAWS AVE; NORRISTOWN; 2015-12-10 @ 14:39:21-St...   \n",
       "3  40.116153 -75.343513  AIRY ST & SWEDE ST;  NORRISTOWN; Station 308A;...   \n",
       "5  40.253473 -75.283245  CANNON AVE & W 9TH ST;  LANSDALE; Station 345;...   \n",
       "\n",
       "       zip                    title            timeStamp                twp  \\\n",
       "0  19525.0   EMS: BACK PAINS/INJURY  2015-12-10 17:10:52        NEW HANOVER   \n",
       "1  19446.0  EMS: DIABETIC EMERGENCY  2015-12-10 17:29:21  HATFIELD TOWNSHIP   \n",
       "2  19401.0      Fire: GAS-ODOR/LEAK  2015-12-10 14:39:21         NORRISTOWN   \n",
       "3  19401.0   EMS: CARDIAC EMERGENCY  2015-12-10 16:47:36         NORRISTOWN   \n",
       "5  19446.0         EMS: HEAD INJURY  2015-12-10 15:39:04           LANSDALE   \n",
       "\n",
       "                         addr reason           title_code   weekday  cluster  \n",
       "0      REINDEER CT & DEAD END    EMS    BACK PAINS/INJURY  Thursday        1  \n",
       "1  BRIAR PATH & WHITEMARSH LN    EMS   DIABETIC EMERGENCY  Thursday        3  \n",
       "2                    HAWS AVE   Fire        GAS-ODOR/LEAK  Thursday        2  \n",
       "3          AIRY ST & SWEDE ST    EMS    CARDIAC EMERGENCY  Thursday        2  \n",
       "5       CANNON AVE & W 9TH ST    EMS          HEAD INJURY  Thursday        3  "
      ]
     },
     "execution_count": 41,
     "metadata": {},
     "output_type": "execute_result"
    }
   ],
   "source": [
    "data.head()"
   ]
  },
  {
   "cell_type": "code",
   "execution_count": 42,
   "id": "50cc7f7a",
   "metadata": {
    "colab": {
     "base_uri": "https://localhost:8080/"
    },
    "execution": {
     "iopub.execute_input": "2025-04-12T08:27:25.674436Z",
     "iopub.status.busy": "2025-04-12T08:27:25.674332Z",
     "iopub.status.idle": "2025-04-12T08:27:32.780978Z",
     "shell.execute_reply": "2025-04-12T08:27:32.780715Z"
    },
    "id": "cdXNoB6N2vAC",
    "outputId": "8980d250-2849-4e79-963b-525a0192bb89",
    "papermill": {
     "duration": 7.112585,
     "end_time": "2025-04-12T08:27:32.781713",
     "exception": false,
     "start_time": "2025-04-12T08:27:25.669128",
     "status": "completed"
    },
    "tags": []
   },
   "outputs": [
    {
     "data": {
      "image/png": "[encoded data removed]",
      "text/plain": [
       "<Figure size 640x480 with 1 Axes>"
      ]
     },
     "metadata": {},
     "output_type": "display_data"
    }
   ],
   "source": [
    "sns.scatterplot(x=data['lat'],y=data['lng'], hue=data['twp'], legend=False);"
   ]
  },
  {
   "cell_type": "code",
   "execution_count": 43,
   "id": "5ff2aab2",
   "metadata": {
    "execution": {
     "iopub.execute_input": "2025-04-12T08:27:32.793369Z",
     "iopub.status.busy": "2025-04-12T08:27:32.793275Z",
     "iopub.status.idle": "2025-04-12T08:27:43.585580Z",
     "shell.execute_reply": "2025-04-12T08:27:43.585265Z"
    },
    "id": "ccNYquZ0Jiub",
    "papermill": {
     "duration": 10.798719,
     "end_time": "2025-04-12T08:27:43.586381",
     "exception": false,
     "start_time": "2025-04-12T08:27:32.787662",
     "status": "completed"
    },
    "tags": []
   },
   "outputs": [],
   "source": [
    "# Plot clusters\n",
    "sns.scatterplot(x=data['lat'],y=data['lng'], hue=data['cluster']);\n",
    "plt.savefig(f\"{images_dir}/7.png\", bbox_inches='tight')\n",
    "plt.close()"
   ]
  },
  {
   "cell_type": "markdown",
   "id": "a255c312",
   "metadata": {
    "id": "TKl9_7AaIpOH",
    "papermill": {
     "duration": 0.005273,
     "end_time": "2025-04-12T08:27:43.597005",
     "exception": false,
     "start_time": "2025-04-12T08:27:43.591732",
     "status": "completed"
    },
    "tags": []
   },
   "source": [
    "#Time of Day"
   ]
  },
  {
   "cell_type": "code",
   "execution_count": 44,
   "id": "eefda962",
   "metadata": {
    "execution": {
     "iopub.execute_input": "2025-04-12T08:27:43.607392Z",
     "iopub.status.busy": "2025-04-12T08:27:43.607312Z",
     "iopub.status.idle": "2025-04-12T08:27:43.644800Z",
     "shell.execute_reply": "2025-04-12T08:27:43.644494Z"
    },
    "id": "RKeazT7wJHVI",
    "papermill": {
     "duration": 0.043191,
     "end_time": "2025-04-12T08:27:43.645487",
     "exception": false,
     "start_time": "2025-04-12T08:27:43.602296",
     "status": "completed"
    },
    "tags": []
   },
   "outputs": [],
   "source": [
    "data[\"time\"] = data['timeStamp'].str[-8:]"
   ]
  },
  {
   "cell_type": "code",
   "execution_count": 45,
   "id": "a56391c8",
   "metadata": {
    "execution": {
     "iopub.execute_input": "2025-04-12T08:27:43.656061Z",
     "iopub.status.busy": "2025-04-12T08:27:43.655987Z",
     "iopub.status.idle": "2025-04-12T08:27:43.750656Z",
     "shell.execute_reply": "2025-04-12T08:27:43.750355Z"
    },
    "id": "pVMp9MqlMlUC",
    "papermill": {
     "duration": 0.100498,
     "end_time": "2025-04-12T08:27:43.751337",
     "exception": false,
     "start_time": "2025-04-12T08:27:43.650839",
     "status": "completed"
    },
    "tags": []
   },
   "outputs": [],
   "source": [
    "data['secs_into_day'] = (pd.to_datetime(data['timeStamp']) - pd.to_datetime(data['timeStamp']).dt.floor('d')).dt.total_seconds()"
   ]
  },
  {
   "cell_type": "code",
   "execution_count": 46,
   "id": "0844f676",
   "metadata": {
    "colab": {
     "base_uri": "https://localhost:8080/"
    },
    "execution": {
     "iopub.execute_input": "2025-04-12T08:27:43.762070Z",
     "iopub.status.busy": "2025-04-12T08:27:43.761983Z",
     "iopub.status.idle": "2025-04-12T08:27:43.764251Z",
     "shell.execute_reply": "2025-04-12T08:27:43.764067Z"
    },
    "id": "3LpTtUMqN-YS",
    "outputId": "606f1be5-61a5-402f-8729-dbf2f599d3eb",
    "papermill": {
     "duration": 0.008146,
     "end_time": "2025-04-12T08:27:43.764817",
     "exception": false,
     "start_time": "2025-04-12T08:27:43.756671",
     "status": "completed"
    },
    "tags": []
   },
   "outputs": [
    {
     "data": {
      "text/plain": [
       "0         61852.0\n",
       "1         62961.0\n",
       "2         52761.0\n",
       "3         60456.0\n",
       "5         56344.0\n",
       "           ...   \n",
       "663517    56811.0\n",
       "663518    57139.0\n",
       "663519    57172.0\n",
       "663520    57248.0\n",
       "663521    57166.0\n",
       "Name: secs_into_day, Length: 583163, dtype: float64"
      ]
     },
     "execution_count": 46,
     "metadata": {},
     "output_type": "execute_result"
    }
   ],
   "source": [
    "data['secs_into_day']"
   ]
  },
  {
   "cell_type": "code",
   "execution_count": 47,
   "id": "6968adc0",
   "metadata": {
    "execution": {
     "iopub.execute_input": "2025-04-12T08:27:43.775026Z",
     "iopub.status.busy": "2025-04-12T08:27:43.774961Z",
     "iopub.status.idle": "2025-04-12T08:27:43.852278Z",
     "shell.execute_reply": "2025-04-12T08:27:43.851964Z"
    },
    "id": "76Yq_zErOBFf",
    "papermill": {
     "duration": 0.083201,
     "end_time": "2025-04-12T08:27:43.853048",
     "exception": false,
     "start_time": "2025-04-12T08:27:43.769847",
     "status": "completed"
    },
    "tags": []
   },
   "outputs": [],
   "source": [
    "time_hist = plt.hist(data['secs_into_day'], bins=96);\n",
    "time_hist_pts = np.array(data['secs_into_day'].to_list())\n",
    "plt.xlabel('Seconds into Day')\n",
    "plt.ylabel('Calls per 15 minute intervals')\n",
    "plt.title('Total count of Calls by Time')\n",
    "time_hist;\n",
    "np.argmax(time_hist_pts[:-1] - time_hist_pts[1:])\n",
    "plt.savefig(f\"{images_dir}/8.png\", bbox_inches='tight')\n",
    "plt.close()"
   ]
  },
  {
   "cell_type": "code",
   "execution_count": 48,
   "id": "d0350499",
   "metadata": {
    "execution": {
     "iopub.execute_input": "2025-04-12T08:27:43.864884Z",
     "iopub.status.busy": "2025-04-12T08:27:43.864743Z",
     "iopub.status.idle": "2025-04-12T08:27:43.866753Z",
     "shell.execute_reply": "2025-04-12T08:27:43.866561Z"
    },
    "id": "hnP5810-CBRV",
    "papermill": {
     "duration": 0.008253,
     "end_time": "2025-04-12T08:27:43.867281",
     "exception": false,
     "start_time": "2025-04-12T08:27:43.859028",
     "status": "completed"
    },
    "tags": []
   },
   "outputs": [],
   "source": [
    "def max_difference_to_neighbors(numbers):\n",
    "    max_difference = 0\n",
    "    max_difference_index = None\n",
    "    for i in range(1, len(numbers) - 1):\n",
    "        difference_left = abs(numbers[i] - numbers[i-1])\n",
    "        difference_right = abs(numbers[i] - numbers[i+1])\n",
    "        if difference_left > max_difference and difference_left > difference_right:\n",
    "            max_difference = difference_left\n",
    "            max_difference_index = i\n",
    "        elif difference_right > max_difference and difference_right > difference_left:\n",
    "            max_difference = difference_right\n",
    "            max_difference_index = i\n",
    "    return max_difference_index, max_difference"
   ]
  },
  {
   "cell_type": "code",
   "execution_count": 49,
   "id": "1d7b1097",
   "metadata": {
    "colab": {
     "base_uri": "https://localhost:8080/"
    },
    "execution": {
     "iopub.execute_input": "2025-04-12T08:27:43.878614Z",
     "iopub.status.busy": "2025-04-12T08:27:43.878543Z",
     "iopub.status.idle": "2025-04-12T08:27:44.016482Z",
     "shell.execute_reply": "2025-04-12T08:27:44.016271Z"
    },
    "id": "HKiLSx13Apom",
    "outputId": "4f9f5924-5185-45cc-cdb5-5173b41f552d",
    "papermill": {
     "duration": 0.144346,
     "end_time": "2025-04-12T08:27:44.017113",
     "exception": false,
     "start_time": "2025-04-12T08:27:43.872767",
     "status": "completed"
    },
    "tags": []
   },
   "outputs": [
    {
     "data": {
      "text/plain": [
       "(451500, 86383.0)"
      ]
     },
     "execution_count": 49,
     "metadata": {},
     "output_type": "execute_result"
    }
   ],
   "source": [
    "max_difference_to_neighbors(time_hist_pts)"
   ]
  },
  {
   "cell_type": "code",
   "execution_count": 50,
   "id": "335de567",
   "metadata": {
    "colab": {
     "base_uri": "https://localhost:8080/"
    },
    "execution": {
     "iopub.execute_input": "2025-04-12T08:27:44.030998Z",
     "iopub.status.busy": "2025-04-12T08:27:44.030902Z",
     "iopub.status.idle": "2025-04-12T08:27:44.032966Z",
     "shell.execute_reply": "2025-04-12T08:27:44.032771Z"
    },
    "id": "pyoILWZ4CVSb",
    "outputId": "643619a4-6b98-4cee-ba38-5e57e92b316c",
    "papermill": {
     "duration": 0.00906,
     "end_time": "2025-04-12T08:27:44.033466",
     "exception": false,
     "start_time": "2025-04-12T08:27:44.024406",
     "status": "completed"
    },
    "tags": []
   },
   "outputs": [
    {
     "data": {
      "text/plain": [
       "'7:00:00'"
      ]
     },
     "execution_count": 50,
     "metadata": {},
     "output_type": "execute_result"
    }
   ],
   "source": [
    "# seconnds into day to make first split\n",
    "secs = 86400/96*28\n",
    "str(dt.timedelta(seconds=secs))\n",
    "\n",
    "# Therfore shift times to 7am"
   ]
  },
  {
   "cell_type": "code",
   "execution_count": 51,
   "id": "b800d8a2",
   "metadata": {
    "execution": {
     "iopub.execute_input": "2025-04-12T08:27:44.044986Z",
     "iopub.status.busy": "2025-04-12T08:27:44.044912Z",
     "iopub.status.idle": "2025-04-12T08:27:44.087801Z",
     "shell.execute_reply": "2025-04-12T08:27:44.087500Z"
    },
    "id": "-51HY4JoP1Bh",
    "papermill": {
     "duration": 0.049189,
     "end_time": "2025-04-12T08:27:44.088497",
     "exception": false,
     "start_time": "2025-04-12T08:27:44.039308",
     "status": "completed"
    },
    "tags": []
   },
   "outputs": [],
   "source": [
    "threshold = secs\n",
    "increment = 86400\n",
    "\n",
    "# Update column secs_into_day if the value is less than the 7am\n",
    "data['secs_into_day'] = data['secs_into_day'].apply(lambda x: x + increment if x < threshold else x)\n"
   ]
  },
  {
   "cell_type": "code",
   "execution_count": 52,
   "id": "b0523b8f",
   "metadata": {
    "colab": {
     "base_uri": "https://localhost:8080/"
    },
    "execution": {
     "iopub.execute_input": "2025-04-12T08:27:44.100166Z",
     "iopub.status.busy": "2025-04-12T08:27:44.100090Z",
     "iopub.status.idle": "2025-04-12T08:27:44.150142Z",
     "shell.execute_reply": "2025-04-12T08:27:44.149921Z"
    },
    "id": "dB_uZUotE0Ok",
    "outputId": "7be29f4b-9f11-41c9-95f2-b68220c0e1f3",
    "papermill": {
     "duration": 0.056793,
     "end_time": "2025-04-12T08:27:44.150773",
     "exception": false,
     "start_time": "2025-04-12T08:27:44.093980",
     "status": "completed"
    },
    "tags": []
   },
   "outputs": [
    {
     "data": {
      "image/png": "[encoded data removed]",
      "text/plain": [
       "<Figure size 640x480 with 1 Axes>"
      ]
     },
     "metadata": {},
     "output_type": "display_data"
    }
   ],
   "source": [
    "time_hist = plt.hist(data['secs_into_day'], bins=96);"
   ]
  },
  {
   "cell_type": "code",
   "execution_count": 53,
   "id": "6c722e45",
   "metadata": {
    "execution": {
     "iopub.execute_input": "2025-04-12T08:27:44.162372Z",
     "iopub.status.busy": "2025-04-12T08:27:44.162295Z",
     "iopub.status.idle": "2025-04-12T08:27:45.382660Z",
     "shell.execute_reply": "2025-04-12T08:27:45.382270Z"
    },
    "id": "JpsHFjqlIrUD",
    "papermill": {
     "duration": 1.227367,
     "end_time": "2025-04-12T08:27:45.383731",
     "exception": false,
     "start_time": "2025-04-12T08:27:44.156364",
     "status": "completed"
    },
    "tags": []
   },
   "outputs": [],
   "source": [
    "import sklearn.cluster\n",
    "from sklearn.cluster import KMeans\n",
    "\n",
    "Sum_of_squared_distances = []\n",
    "K = range(1,15)\n",
    "for k in K:\n",
    "    km = KMeans(n_clusters=k)\n",
    "    km = km.fit(data[\"secs_into_day\"].values.reshape(-1, 1))\n",
    "    Sum_of_squared_distances.append(km.inertia_)"
   ]
  },
  {
   "cell_type": "code",
   "execution_count": 54,
   "id": "bd06647e",
   "metadata": {
    "colab": {
     "base_uri": "https://localhost:8080/"
    },
    "execution": {
     "iopub.execute_input": "2025-04-12T08:27:45.395858Z",
     "iopub.status.busy": "2025-04-12T08:27:45.395746Z",
     "iopub.status.idle": "2025-04-12T08:27:45.427811Z",
     "shell.execute_reply": "2025-04-12T08:27:45.427545Z"
    },
    "id": "AK3r--AnQFWQ",
    "outputId": "ae25fa04-88ce-469f-ef33-f212fdc8e098",
    "papermill": {
     "duration": 0.03905,
     "end_time": "2025-04-12T08:27:45.428627",
     "exception": false,
     "start_time": "2025-04-12T08:27:45.389577",
     "status": "completed"
    },
    "tags": []
   },
   "outputs": [
    {
     "data": {
      "image/png": "[encoded data removed]",
      "text/plain": [
       "<Figure size 640x480 with 1 Axes>"
      ]
     },
     "metadata": {},
     "output_type": "display_data"
    }
   ],
   "source": [
    "plt.plot(K, Sum_of_squared_distances, 'bx-')\n",
    "plt.xlabel('k')\n",
    "plt.ylabel('Sum_of_squared_distances')\n",
    "plt.title('Elbow Method For Optimal k')\n",
    "plt.show()"
   ]
  },
  {
   "cell_type": "code",
   "execution_count": 55,
   "id": "5f1e66e6",
   "metadata": {
    "execution": {
     "iopub.execute_input": "2025-04-12T08:27:45.440658Z",
     "iopub.status.busy": "2025-04-12T08:27:45.440577Z",
     "iopub.status.idle": "2025-04-12T08:27:45.510103Z",
     "shell.execute_reply": "2025-04-12T08:27:45.509829Z"
    },
    "id": "bm_U8qbZQlGo",
    "papermill": {
     "duration": 0.076537,
     "end_time": "2025-04-12T08:27:45.510942",
     "exception": false,
     "start_time": "2025-04-12T08:27:45.434405",
     "status": "completed"
    },
    "tags": []
   },
   "outputs": [],
   "source": [
    "# Select K = 4\n",
    "km = KMeans(n_clusters= 4)\n",
    "km.fit(data[[\"secs_into_day\"]])\n",
    "clusters_day = km.predict(data[[\"secs_into_day\"]])"
   ]
  },
  {
   "cell_type": "code",
   "execution_count": 56,
   "id": "b5667e22",
   "metadata": {
    "execution": {
     "iopub.execute_input": "2025-04-12T08:27:45.523090Z",
     "iopub.status.busy": "2025-04-12T08:27:45.522996Z",
     "iopub.status.idle": "2025-04-12T08:27:45.524847Z",
     "shell.execute_reply": "2025-04-12T08:27:45.524610Z"
    },
    "id": "aw95U8rpQSf_",
    "papermill": {
     "duration": 0.008679,
     "end_time": "2025-04-12T08:27:45.525560",
     "exception": false,
     "start_time": "2025-04-12T08:27:45.516881",
     "status": "completed"
    },
    "tags": []
   },
   "outputs": [],
   "source": [
    "data[\"cluster_time\"] = clusters_day"
   ]
  },
  {
   "cell_type": "code",
   "execution_count": 57,
   "id": "ea50dd2b",
   "metadata": {
    "colab": {
     "base_uri": "https://localhost:8080/"
    },
    "execution": {
     "iopub.execute_input": "2025-04-12T08:27:45.537626Z",
     "iopub.status.busy": "2025-04-12T08:27:45.537539Z",
     "iopub.status.idle": "2025-04-12T08:27:55.716039Z",
     "shell.execute_reply": "2025-04-12T08:27:55.715802Z"
    },
    "id": "qC_6-RYXREDW",
    "outputId": "9be3a6fa-0c86-40e3-b24c-5a80777a459f",
    "papermill": {
     "duration": 10.185645,
     "end_time": "2025-04-12T08:27:55.716752",
     "exception": false,
     "start_time": "2025-04-12T08:27:45.531107",
     "status": "completed"
    },
    "tags": []
   },
   "outputs": [
    {
     "data": {
      "image/png": "[encoded data removed]",
      "text/plain": [
       "<Figure size 640x480 with 1 Axes>"
      ]
     },
     "metadata": {},
     "output_type": "display_data"
    }
   ],
   "source": [
    "sns.scatterplot(x=data['secs_into_day'],y=0, hue=data['cluster_time']);"
   ]
  },
  {
   "cell_type": "code",
   "execution_count": 58,
   "id": "c48f8844",
   "metadata": {
    "colab": {
     "base_uri": "https://localhost:8080/"
    },
    "execution": {
     "iopub.execute_input": "2025-04-12T08:27:55.728050Z",
     "iopub.status.busy": "2025-04-12T08:27:55.727972Z",
     "iopub.status.idle": "2025-04-12T08:27:55.885401Z",
     "shell.execute_reply": "2025-04-12T08:27:55.885177Z"
    },
    "id": "hMKwzBloSABL",
    "outputId": "c8a2fe1d-a68a-401d-8f96-ff236da2eb25",
    "papermill": {
     "duration": 0.163714,
     "end_time": "2025-04-12T08:27:55.886035",
     "exception": false,
     "start_time": "2025-04-12T08:27:55.722321",
     "status": "completed"
    },
    "tags": []
   },
   "outputs": [
    {
     "name": "stdout",
     "output_type": "stream",
     "text": [
      "time cluster 0: ~6pm-12am midnight\n",
      "7:00:00\n",
      "12:35:23\n",
      "time cluster 1: 7am-1pm\n",
      "17:45:38\n",
      "23:54:48\n",
      "time cluster 2: 12am midnight -7am\n",
      "23:54:49\n",
      "1 day, 6:59:59\n",
      "time cluster 3: 1pm-6pm\n",
      "12:35:24\n",
      "17:45:37\n"
     ]
    },
    {
     "data": {
      "text/plain": [
       "datetime.timedelta(seconds=20123)"
      ]
     },
     "execution_count": 58,
     "metadata": {},
     "output_type": "execute_result"
    }
   ],
   "source": [
    "from sklearn import cluster\n",
    "print(\"time cluster 0: ~6pm-12am midnight\")\n",
    "print(dt.timedelta(seconds = data[data[\"cluster_time\"] == 0][\"secs_into_day\"].min()))\n",
    "print(dt.timedelta(seconds = data[data[\"cluster_time\"] == 0][\"secs_into_day\"].max()))\n",
    "\n",
    "print(\"time cluster 1: 7am-1pm\")\n",
    "print(dt.timedelta(seconds = data[data[\"cluster_time\"] == 1][\"secs_into_day\"].min()))\n",
    "print(dt.timedelta(seconds = data[data[\"cluster_time\"] == 1][\"secs_into_day\"].max()))\n",
    "\n",
    "print(\"time cluster 2: 12am midnight -7am\")\n",
    "print(dt.timedelta(seconds = data[data[\"cluster_time\"] == 2][\"secs_into_day\"].min()))\n",
    "print(dt.timedelta(seconds = data[data[\"cluster_time\"] == 2][\"secs_into_day\"].max()))\n",
    "\n",
    "print(\"time cluster 3: 1pm-6pm\")\n",
    "print(dt.timedelta(seconds = data[data[\"cluster_time\"] == 3][\"secs_into_day\"].min()))\n",
    "print(dt.timedelta(seconds = data[data[\"cluster_time\"] == 3][\"secs_into_day\"].max()))\n",
    "\n",
    "dt.timedelta(seconds = data[data[\"cluster_time\"] == 0][\"secs_into_day\"].max()) - dt.timedelta(seconds = data[data[\"cluster_time\"] == 0][\"secs_into_day\"].min())"
   ]
  },
  {
   "cell_type": "code",
   "execution_count": 59,
   "id": "a2a662cf",
   "metadata": {
    "execution": {
     "iopub.execute_input": "2025-04-12T08:27:55.897599Z",
     "iopub.status.busy": "2025-04-12T08:27:55.897520Z",
     "iopub.status.idle": "2025-04-12T08:27:56.027753Z",
     "shell.execute_reply": "2025-04-12T08:27:56.027514Z"
    },
    "id": "vlG-aNpKHBLz",
    "papermill": {
     "duration": 0.136711,
     "end_time": "2025-04-12T08:27:56.028481",
     "exception": false,
     "start_time": "2025-04-12T08:27:55.891770",
     "status": "completed"
    },
    "tags": []
   },
   "outputs": [],
   "source": [
    "data[\"cluster_time\"] = data['cluster_time'].map({0:'evening', 1:'morning', 2: 'midnight', 3: 'afternoon'})\n",
    "data.groupby('cluster_time').count()['lat'].sort_values(ascending=True).tail(10).plot(kind='barh', figsize=(10, 5), color='darkgreen')\n",
    "plt.xlabel('Number of 911 Calls')\n",
    "plt.ylabel('')\n",
    "plt.title('EMS 911 Emergency Calls', fontsize=15)\n",
    "plt.savefig(f\"{images_dir}/9.png\", bbox_inches='tight')\n",
    "plt.close()"
   ]
  },
  {
   "cell_type": "markdown",
   "id": "a2362a9e",
   "metadata": {
    "id": "cw7d8z5h9vn7",
    "papermill": {
     "duration": 0.005632,
     "end_time": "2025-04-12T08:27:56.040125",
     "exception": false,
     "start_time": "2025-04-12T08:27:56.034493",
     "status": "completed"
    },
    "tags": []
   },
   "source": [
    "#Method 2:"
   ]
  },
  {
   "cell_type": "markdown",
   "id": "c5b86efa",
   "metadata": {
    "id": "h-qs0gVZ2-4D",
    "papermill": {
     "duration": 0.005513,
     "end_time": "2025-04-12T08:27:56.051200",
     "exception": false,
     "start_time": "2025-04-12T08:27:56.045687",
     "status": "completed"
    },
    "tags": []
   },
   "source": [
    "#ECLAT ASSOCIATION RULE"
   ]
  },
  {
   "cell_type": "code",
   "execution_count": 60,
   "id": "f844f045",
   "metadata": {
    "colab": {
     "base_uri": "https://localhost:8080/",
     "height": 458
    },
    "execution": {
     "iopub.execute_input": "2025-04-12T08:27:56.062558Z",
     "iopub.status.busy": "2025-04-12T08:27:56.062470Z",
     "iopub.status.idle": "2025-04-12T08:27:56.064642Z",
     "shell.execute_reply": "2025-04-12T08:27:56.064458Z"
    },
    "id": "JW3nDI6XUfuM",
    "outputId": "e439287f-f132-4929-d8c1-f01a7441fdb5",
    "papermill": {
     "duration": 0.008566,
     "end_time": "2025-04-12T08:27:56.065237",
     "exception": false,
     "start_time": "2025-04-12T08:27:56.056671",
     "status": "completed"
    },
    "tags": []
   },
   "outputs": [
    {
     "data": {
      "text/plain": [
       "0         1\n",
       "1         3\n",
       "2         2\n",
       "3         2\n",
       "5         3\n",
       "         ..\n",
       "663517    2\n",
       "663518    2\n",
       "663519    4\n",
       "663520    2\n",
       "663521    4\n",
       "Name: cluster, Length: 583163, dtype: int32"
      ]
     },
     "execution_count": 60,
     "metadata": {},
     "output_type": "execute_result"
    }
   ],
   "source": [
    "data[\"cluster\"]"
   ]
  },
  {
   "cell_type": "code",
   "execution_count": 61,
   "id": "d1041dba",
   "metadata": {
    "colab": {
     "base_uri": "https://localhost:8080/",
     "height": 459
    },
    "execution": {
     "iopub.execute_input": "2025-04-12T08:27:56.076993Z",
     "iopub.status.busy": "2025-04-12T08:27:56.076927Z",
     "iopub.status.idle": "2025-04-12T08:27:56.499837Z",
     "shell.execute_reply": "2025-04-12T08:27:56.499577Z"
    },
    "id": "VChw65_oBh0g",
    "outputId": "0c387bf8-a6f2-4fa8-b628-13050aace0ea",
    "papermill": {
     "duration": 0.429436,
     "end_time": "2025-04-12T08:27:56.500468",
     "exception": false,
     "start_time": "2025-04-12T08:27:56.071032",
     "status": "completed"
    },
    "tags": []
   },
   "outputs": [
    {
     "name": "stderr",
     "output_type": "stream",
     "text": [
      "/var/folders/h2/rxk5gqjs5d189kgkrnjvdc8m0000gn/T/ipykernel_21458/3123675670.py:1: FutureWarning: DataFrame.applymap has been deprecated. Use DataFrame.map instead.\n",
      "  test = data[[\"reason\", \"weekday\",\"cluster\", \"cluster_time\"]].applymap(str)\n"
     ]
    },
    {
     "data": {
      "text/html": [
       "<div>\n",
       "<style scoped>\n",
       "    .dataframe tbody tr th:only-of-type {\n",
       "        vertical-align: middle;\n",
       "    }\n",
       "\n",
       "    .dataframe tbody tr th {\n",
       "        vertical-align: top;\n",
       "    }\n",
       "\n",
       "    .dataframe thead th {\n",
       "        text-align: right;\n",
       "    }\n",
       "</style>\n",
       "<table border=\"1\" class=\"dataframe\">\n",
       "  <thead>\n",
       "    <tr style=\"text-align: right;\">\n",
       "      <th></th>\n",
       "      <th>0</th>\n",
       "      <th>1</th>\n",
       "      <th>2</th>\n",
       "      <th>3</th>\n",
       "    </tr>\n",
       "  </thead>\n",
       "  <tbody>\n",
       "    <tr>\n",
       "      <th>0</th>\n",
       "      <td>EMS</td>\n",
       "      <td>Thursday</td>\n",
       "      <td>1</td>\n",
       "      <td>afternoon</td>\n",
       "    </tr>\n",
       "    <tr>\n",
       "      <th>1</th>\n",
       "      <td>EMS</td>\n",
       "      <td>Thursday</td>\n",
       "      <td>3</td>\n",
       "      <td>afternoon</td>\n",
       "    </tr>\n",
       "    <tr>\n",
       "      <th>2</th>\n",
       "      <td>Fire</td>\n",
       "      <td>Thursday</td>\n",
       "      <td>2</td>\n",
       "      <td>afternoon</td>\n",
       "    </tr>\n",
       "    <tr>\n",
       "      <th>3</th>\n",
       "      <td>EMS</td>\n",
       "      <td>Thursday</td>\n",
       "      <td>2</td>\n",
       "      <td>afternoon</td>\n",
       "    </tr>\n",
       "    <tr>\n",
       "      <th>4</th>\n",
       "      <td>EMS</td>\n",
       "      <td>Thursday</td>\n",
       "      <td>3</td>\n",
       "      <td>afternoon</td>\n",
       "    </tr>\n",
       "    <tr>\n",
       "      <th>...</th>\n",
       "      <td>...</td>\n",
       "      <td>...</td>\n",
       "      <td>...</td>\n",
       "      <td>...</td>\n",
       "    </tr>\n",
       "    <tr>\n",
       "      <th>583158</th>\n",
       "      <td>Traffic</td>\n",
       "      <td>Wednesday</td>\n",
       "      <td>2</td>\n",
       "      <td>afternoon</td>\n",
       "    </tr>\n",
       "    <tr>\n",
       "      <th>583159</th>\n",
       "      <td>EMS</td>\n",
       "      <td>Wednesday</td>\n",
       "      <td>2</td>\n",
       "      <td>afternoon</td>\n",
       "    </tr>\n",
       "    <tr>\n",
       "      <th>583160</th>\n",
       "      <td>EMS</td>\n",
       "      <td>Wednesday</td>\n",
       "      <td>4</td>\n",
       "      <td>afternoon</td>\n",
       "    </tr>\n",
       "    <tr>\n",
       "      <th>583161</th>\n",
       "      <td>Fire</td>\n",
       "      <td>Wednesday</td>\n",
       "      <td>2</td>\n",
       "      <td>afternoon</td>\n",
       "    </tr>\n",
       "    <tr>\n",
       "      <th>583162</th>\n",
       "      <td>Traffic</td>\n",
       "      <td>Wednesday</td>\n",
       "      <td>4</td>\n",
       "      <td>afternoon</td>\n",
       "    </tr>\n",
       "  </tbody>\n",
       "</table>\n",
       "<p>583163 rows × 4 columns</p>\n",
       "</div>"
      ],
      "text/plain": [
       "              0          1  2          3\n",
       "0           EMS   Thursday  1  afternoon\n",
       "1           EMS   Thursday  3  afternoon\n",
       "2          Fire   Thursday  2  afternoon\n",
       "3           EMS   Thursday  2  afternoon\n",
       "4           EMS   Thursday  3  afternoon\n",
       "...         ...        ... ..        ...\n",
       "583158  Traffic  Wednesday  2  afternoon\n",
       "583159      EMS  Wednesday  2  afternoon\n",
       "583160      EMS  Wednesday  4  afternoon\n",
       "583161     Fire  Wednesday  2  afternoon\n",
       "583162  Traffic  Wednesday  4  afternoon\n",
       "\n",
       "[583163 rows x 4 columns]"
      ]
     },
     "execution_count": 61,
     "metadata": {},
     "output_type": "execute_result"
    }
   ],
   "source": [
    "test = data[[\"reason\", \"weekday\",\"cluster\", \"cluster_time\"]].applymap(str)\n",
    "test1 = test.values.tolist()\n",
    "test1\n",
    "\n",
    "test2 = pd.DataFrame(test1)\n",
    "test2"
   ]
  },
  {
   "cell_type": "code",
   "execution_count": 62,
   "id": "1c5bc1f9",
   "metadata": {
    "execution": {
     "iopub.execute_input": "2025-04-12T08:27:56.512654Z",
     "iopub.status.busy": "2025-04-12T08:27:56.512572Z",
     "iopub.status.idle": "2025-04-12T08:27:56.522198Z",
     "shell.execute_reply": "2025-04-12T08:27:56.521975Z"
    },
    "id": "zXkoE3FVBh7K",
    "papermill": {
     "duration": 0.016156,
     "end_time": "2025-04-12T08:27:56.522749",
     "exception": false,
     "start_time": "2025-04-12T08:27:56.506593",
     "status": "completed"
    },
    "tags": []
   },
   "outputs": [],
   "source": [
    "# we are looking for itemSETS\n",
    "# we do not want to have any individual products returned\n",
    "min_n_products = 2\n",
    "\n",
    "# we want to set min support to 7\n",
    "# but we have to express it as a percentage\n",
    "min_support = 0.01\n",
    "\n",
    "# we have no limit on the size of association rules\n",
    "# so we set it to the longest transaction\n",
    "max_length = max([len(x) for x in test1])"
   ]
  },
  {
   "cell_type": "code",
   "execution_count": 63,
   "id": "cf1cff8f",
   "metadata": {
    "colab": {
     "base_uri": "https://localhost:8080/"
    },
    "execution": {
     "iopub.execute_input": "2025-04-12T08:27:56.534306Z",
     "iopub.status.busy": "2025-04-12T08:27:56.534226Z",
     "iopub.status.idle": "2025-04-12T08:28:12.938178Z",
     "shell.execute_reply": "2025-04-12T08:28:12.937787Z"
    },
    "id": "214DMT0zFvoe",
    "outputId": "32ed4718-142a-450b-a330-39f81e399aa4",
    "papermill": {
     "duration": 16.410542,
     "end_time": "2025-04-12T08:28:12.938901",
     "exception": false,
     "start_time": "2025-04-12T08:27:56.528359",
     "status": "completed"
    },
    "tags": []
   },
   "outputs": [
    {
     "name": "stderr",
     "output_type": "stream",
     "text": [
      "\r",
      "  0%|          | 0/19 [00:00<?, ?it/s]"
     ]
    },
    {
     "name": "stderr",
     "output_type": "stream",
     "text": [
      "\r",
      " 11%|█         | 2/19 [00:00<00:00, 18.82it/s]"
     ]
    },
    {
     "name": "stderr",
     "output_type": "stream",
     "text": [
      "\r",
      " 21%|██        | 4/19 [00:00<00:00, 18.35it/s]"
     ]
    },
    {
     "name": "stderr",
     "output_type": "stream",
     "text": [
      "\r",
      " 32%|███▏      | 6/19 [00:00<00:00, 18.71it/s]"
     ]
    },
    {
     "name": "stderr",
     "output_type": "stream",
     "text": [
      "\r",
      " 42%|████▏     | 8/19 [00:00<00:00, 18.74it/s]"
     ]
    },
    {
     "name": "stderr",
     "output_type": "stream",
     "text": [
      "\r",
      " 53%|█████▎    | 10/19 [00:00<00:00, 17.87it/s]"
     ]
    },
    {
     "name": "stderr",
     "output_type": "stream",
     "text": [
      "\r",
      " 63%|██████▎   | 12/19 [00:00<00:00, 18.22it/s]"
     ]
    },
    {
     "name": "stderr",
     "output_type": "stream",
     "text": [
      "\r",
      " 79%|███████▉  | 15/19 [00:00<00:00, 18.93it/s]"
     ]
    },
    {
     "name": "stderr",
     "output_type": "stream",
     "text": [
      "\r",
      " 89%|████████▉ | 17/19 [00:00<00:00, 18.74it/s]"
     ]
    },
    {
     "name": "stderr",
     "output_type": "stream",
     "text": [
      "\r",
      "100%|██████████| 19/19 [00:01<00:00, 18.86it/s]"
     ]
    },
    {
     "name": "stderr",
     "output_type": "stream",
     "text": [
      "\r",
      "100%|██████████| 19/19 [00:01<00:00, 18.65it/s]"
     ]
    },
    {
     "name": "stderr",
     "output_type": "stream",
     "text": [
      "\n"
     ]
    },
    {
     "name": "stderr",
     "output_type": "stream",
     "text": [
      "\r",
      "  0%|          | 0/19 [00:00<?, ?it/s]"
     ]
    },
    {
     "name": "stderr",
     "output_type": "stream",
     "text": [
      "\r",
      "100%|██████████| 19/19 [00:00<00:00, 201.74it/s]"
     ]
    },
    {
     "name": "stderr",
     "output_type": "stream",
     "text": [
      "\n"
     ]
    },
    {
     "name": "stderr",
     "output_type": "stream",
     "text": [
      "\r",
      "  0%|          | 0/19 [00:00<?, ?it/s]"
     ]
    },
    {
     "name": "stderr",
     "output_type": "stream",
     "text": [
      "\r",
      "100%|██████████| 19/19 [00:00<00:00, 271.01it/s]"
     ]
    },
    {
     "name": "stderr",
     "output_type": "stream",
     "text": [
      "\n"
     ]
    },
    {
     "name": "stdout",
     "output_type": "stream",
     "text": [
      "Combination 2 by 2\n"
     ]
    },
    {
     "name": "stderr",
     "output_type": "stream",
     "text": [
      "\r",
      "0it [00:00, ?it/s]"
     ]
    },
    {
     "name": "stderr",
     "output_type": "stream",
     "text": [
      "\r",
      "19it [00:00, 186.57it/s]"
     ]
    },
    {
     "name": "stderr",
     "output_type": "stream",
     "text": [
      "\r",
      "38it [00:00, 169.67it/s]"
     ]
    },
    {
     "name": "stderr",
     "output_type": "stream",
     "text": [
      "\r",
      "56it [00:00, 125.80it/s]"
     ]
    },
    {
     "name": "stderr",
     "output_type": "stream",
     "text": [
      "\r",
      "70it [00:00, 122.12it/s]"
     ]
    },
    {
     "name": "stderr",
     "output_type": "stream",
     "text": [
      "\r",
      "87it [00:00, 135.19it/s]"
     ]
    },
    {
     "name": "stderr",
     "output_type": "stream",
     "text": [
      "\r",
      "102it [00:00, 130.11it/s]"
     ]
    },
    {
     "name": "stderr",
     "output_type": "stream",
     "text": [
      "\r",
      "116it [00:00, 129.95it/s]"
     ]
    },
    {
     "name": "stderr",
     "output_type": "stream",
     "text": [
      "\r",
      "130it [00:01, 119.69it/s]"
     ]
    },
    {
     "name": "stderr",
     "output_type": "stream",
     "text": [
      "\r",
      "143it [00:01, 121.75it/s]"
     ]
    },
    {
     "name": "stderr",
     "output_type": "stream",
     "text": [
      "\r",
      "165it [00:01, 146.10it/s]"
     ]
    },
    {
     "name": "stderr",
     "output_type": "stream",
     "text": [
      "\r",
      "171it [00:01, 136.15it/s]"
     ]
    },
    {
     "name": "stderr",
     "output_type": "stream",
     "text": [
      "\n"
     ]
    },
    {
     "name": "stdout",
     "output_type": "stream",
     "text": [
      "Combination 3 by 3\n"
     ]
    },
    {
     "name": "stderr",
     "output_type": "stream",
     "text": [
      "\r",
      "0it [00:00, ?it/s]"
     ]
    },
    {
     "name": "stderr",
     "output_type": "stream",
     "text": [
      "\r",
      "44it [00:00, 432.96it/s]"
     ]
    },
    {
     "name": "stderr",
     "output_type": "stream",
     "text": [
      "\r",
      "88it [00:00, 399.16it/s]"
     ]
    },
    {
     "name": "stderr",
     "output_type": "stream",
     "text": [
      "\r",
      "129it [00:00, 361.51it/s]"
     ]
    },
    {
     "name": "stderr",
     "output_type": "stream",
     "text": [
      "\r",
      "170it [00:00, 377.32it/s]"
     ]
    },
    {
     "name": "stderr",
     "output_type": "stream",
     "text": [
      "\r",
      "209it [00:00, 354.09it/s]"
     ]
    },
    {
     "name": "stderr",
     "output_type": "stream",
     "text": [
      "\r",
      "245it [00:00, 335.65it/s]"
     ]
    },
    {
     "name": "stderr",
     "output_type": "stream",
     "text": [
      "\r",
      "279it [00:00, 326.22it/s]"
     ]
    },
    {
     "name": "stderr",
     "output_type": "stream",
     "text": [
      "\r",
      "312it [00:00, 316.93it/s]"
     ]
    },
    {
     "name": "stderr",
     "output_type": "stream",
     "text": [
      "\r",
      "349it [00:01, 331.45it/s]"
     ]
    },
    {
     "name": "stderr",
     "output_type": "stream",
     "text": [
      "\r",
      "383it [00:01, 304.15it/s]"
     ]
    },
    {
     "name": "stderr",
     "output_type": "stream",
     "text": [
      "\r",
      "416it [00:01, 308.27it/s]"
     ]
    },
    {
     "name": "stderr",
     "output_type": "stream",
     "text": [
      "\r",
      "448it [00:01, 288.15it/s]"
     ]
    },
    {
     "name": "stderr",
     "output_type": "stream",
     "text": [
      "\r",
      "478it [00:01, 276.16it/s]"
     ]
    },
    {
     "name": "stderr",
     "output_type": "stream",
     "text": [
      "\r",
      "514it [00:01, 298.24it/s]"
     ]
    },
    {
     "name": "stderr",
     "output_type": "stream",
     "text": [
      "\r",
      "551it [00:01, 316.30it/s]"
     ]
    },
    {
     "name": "stderr",
     "output_type": "stream",
     "text": [
      "\r",
      "584it [00:01, 313.87it/s]"
     ]
    },
    {
     "name": "stderr",
     "output_type": "stream",
     "text": [
      "\r",
      "627it [00:01, 345.63it/s]"
     ]
    },
    {
     "name": "stderr",
     "output_type": "stream",
     "text": [
      "\r",
      "662it [00:02, 286.80it/s]"
     ]
    },
    {
     "name": "stderr",
     "output_type": "stream",
     "text": [
      "\r",
      "693it [00:02, 284.07it/s]"
     ]
    },
    {
     "name": "stderr",
     "output_type": "stream",
     "text": [
      "\r",
      "728it [00:02, 301.15it/s]"
     ]
    },
    {
     "name": "stderr",
     "output_type": "stream",
     "text": [
      "\r",
      "763it [00:02, 310.21it/s]"
     ]
    },
    {
     "name": "stderr",
     "output_type": "stream",
     "text": [
      "\r",
      "798it [00:02, 319.74it/s]"
     ]
    },
    {
     "name": "stderr",
     "output_type": "stream",
     "text": [
      "\r",
      "831it [00:02, 296.16it/s]"
     ]
    },
    {
     "name": "stderr",
     "output_type": "stream",
     "text": [
      "\r",
      "862it [00:02, 299.24it/s]"
     ]
    },
    {
     "name": "stderr",
     "output_type": "stream",
     "text": [
      "\r",
      "893it [00:02, 283.95it/s]"
     ]
    },
    {
     "name": "stderr",
     "output_type": "stream",
     "text": [
      "\r",
      "931it [00:02, 308.55it/s]"
     ]
    },
    {
     "name": "stderr",
     "output_type": "stream",
     "text": [
      "\r",
      "969it [00:03, 317.72it/s]"
     ]
    },
    {
     "name": "stderr",
     "output_type": "stream",
     "text": [
      "\n"
     ]
    },
    {
     "name": "stdout",
     "output_type": "stream",
     "text": [
      "Combination 4 by 4\n"
     ]
    },
    {
     "name": "stderr",
     "output_type": "stream",
     "text": [
      "\r",
      "0it [00:00, ?it/s]"
     ]
    },
    {
     "name": "stderr",
     "output_type": "stream",
     "text": [
      "\r",
      "42it [00:00, 419.99it/s]"
     ]
    },
    {
     "name": "stderr",
     "output_type": "stream",
     "text": [
      "\r",
      "84it [00:00, 394.88it/s]"
     ]
    },
    {
     "name": "stderr",
     "output_type": "stream",
     "text": [
      "\r",
      "124it [00:00, 389.71it/s]"
     ]
    },
    {
     "name": "stderr",
     "output_type": "stream",
     "text": [
      "\r",
      "165it [00:00, 396.98it/s]"
     ]
    },
    {
     "name": "stderr",
     "output_type": "stream",
     "text": [
      "\r",
      "206it [00:00, 400.10it/s]"
     ]
    },
    {
     "name": "stderr",
     "output_type": "stream",
     "text": [
      "\r",
      "247it [00:00, 394.48it/s]"
     ]
    },
    {
     "name": "stderr",
     "output_type": "stream",
     "text": [
      "\r",
      "287it [00:00, 394.03it/s]"
     ]
    },
    {
     "name": "stderr",
     "output_type": "stream",
     "text": [
      "\r",
      "327it [00:00, 385.27it/s]"
     ]
    },
    {
     "name": "stderr",
     "output_type": "stream",
     "text": [
      "\r",
      "368it [00:00, 391.11it/s]"
     ]
    },
    {
     "name": "stderr",
     "output_type": "stream",
     "text": [
      "\r",
      "408it [00:01, 389.94it/s]"
     ]
    },
    {
     "name": "stderr",
     "output_type": "stream",
     "text": [
      "\r",
      "448it [00:01, 388.68it/s]"
     ]
    },
    {
     "name": "stderr",
     "output_type": "stream",
     "text": [
      "\r",
      "487it [00:01, 385.62it/s]"
     ]
    },
    {
     "name": "stderr",
     "output_type": "stream",
     "text": [
      "\r",
      "528it [00:01, 391.03it/s]"
     ]
    },
    {
     "name": "stderr",
     "output_type": "stream",
     "text": [
      "\r",
      "570it [00:01, 398.93it/s]"
     ]
    },
    {
     "name": "stderr",
     "output_type": "stream",
     "text": [
      "\r",
      "612it [00:01, 404.08it/s]"
     ]
    },
    {
     "name": "stderr",
     "output_type": "stream",
     "text": [
      "\r",
      "653it [00:01, 403.76it/s]"
     ]
    },
    {
     "name": "stderr",
     "output_type": "stream",
     "text": [
      "\r",
      "694it [00:01, 392.61it/s]"
     ]
    },
    {
     "name": "stderr",
     "output_type": "stream",
     "text": [
      "\r",
      "735it [00:01, 397.12it/s]"
     ]
    },
    {
     "name": "stderr",
     "output_type": "stream",
     "text": [
      "\r",
      "777it [00:01, 401.90it/s]"
     ]
    },
    {
     "name": "stderr",
     "output_type": "stream",
     "text": [
      "\r",
      "818it [00:02, 403.65it/s]"
     ]
    },
    {
     "name": "stderr",
     "output_type": "stream",
     "text": [
      "\r",
      "859it [00:02, 388.46it/s]"
     ]
    },
    {
     "name": "stderr",
     "output_type": "stream",
     "text": [
      "\r",
      "898it [00:02, 384.96it/s]"
     ]
    },
    {
     "name": "stderr",
     "output_type": "stream",
     "text": [
      "\r",
      "940it [00:02, 394.34it/s]"
     ]
    },
    {
     "name": "stderr",
     "output_type": "stream",
     "text": [
      "\r",
      "980it [00:02, 390.86it/s]"
     ]
    },
    {
     "name": "stderr",
     "output_type": "stream",
     "text": [
      "\r",
      "1020it [00:02, 386.92it/s]"
     ]
    },
    {
     "name": "stderr",
     "output_type": "stream",
     "text": [
      "\r",
      "1059it [00:02, 380.91it/s]"
     ]
    },
    {
     "name": "stderr",
     "output_type": "stream",
     "text": [
      "\r",
      "1098it [00:02, 379.65it/s]"
     ]
    },
    {
     "name": "stderr",
     "output_type": "stream",
     "text": [
      "\r",
      "1137it [00:02, 380.89it/s]"
     ]
    },
    {
     "name": "stderr",
     "output_type": "stream",
     "text": [
      "\r",
      "1177it [00:03, 386.12it/s]"
     ]
    },
    {
     "name": "stderr",
     "output_type": "stream",
     "text": [
      "\r",
      "1216it [00:03, 383.56it/s]"
     ]
    },
    {
     "name": "stderr",
     "output_type": "stream",
     "text": [
      "\r",
      "1255it [00:03, 376.99it/s]"
     ]
    },
    {
     "name": "stderr",
     "output_type": "stream",
     "text": [
      "\r",
      "1293it [00:03, 374.85it/s]"
     ]
    },
    {
     "name": "stderr",
     "output_type": "stream",
     "text": [
      "\r",
      "1331it [00:03, 375.02it/s]"
     ]
    },
    {
     "name": "stderr",
     "output_type": "stream",
     "text": [
      "\r",
      "1373it [00:03, 388.21it/s]"
     ]
    },
    {
     "name": "stderr",
     "output_type": "stream",
     "text": [
      "\r",
      "1413it [00:03, 390.04it/s]"
     ]
    },
    {
     "name": "stderr",
     "output_type": "stream",
     "text": [
      "\r",
      "1453it [00:03, 388.62it/s]"
     ]
    },
    {
     "name": "stderr",
     "output_type": "stream",
     "text": [
      "\r",
      "1493it [00:03, 389.58it/s]"
     ]
    },
    {
     "name": "stderr",
     "output_type": "stream",
     "text": [
      "\r",
      "1535it [00:03, 396.15it/s]"
     ]
    },
    {
     "name": "stderr",
     "output_type": "stream",
     "text": [
      "\r",
      "1578it [00:04, 405.49it/s]"
     ]
    },
    {
     "name": "stderr",
     "output_type": "stream",
     "text": [
      "\r",
      "1619it [00:04, 404.60it/s]"
     ]
    },
    {
     "name": "stderr",
     "output_type": "stream",
     "text": [
      "\r",
      "1660it [00:04, 401.41it/s]"
     ]
    },
    {
     "name": "stderr",
     "output_type": "stream",
     "text": [
      "\r",
      "1701it [00:04, 399.01it/s]"
     ]
    },
    {
     "name": "stderr",
     "output_type": "stream",
     "text": [
      "\r",
      "1742it [00:04, 401.45it/s]"
     ]
    },
    {
     "name": "stderr",
     "output_type": "stream",
     "text": [
      "\r",
      "1783it [00:04, 399.89it/s]"
     ]
    },
    {
     "name": "stderr",
     "output_type": "stream",
     "text": [
      "\r",
      "1823it [00:04, 396.93it/s]"
     ]
    },
    {
     "name": "stderr",
     "output_type": "stream",
     "text": [
      "\r",
      "1866it [00:04, 404.67it/s]"
     ]
    },
    {
     "name": "stderr",
     "output_type": "stream",
     "text": [
      "\r",
      "1908it [00:04, 406.36it/s]"
     ]
    },
    {
     "name": "stderr",
     "output_type": "stream",
     "text": [
      "\r",
      "1949it [00:04, 404.54it/s]"
     ]
    },
    {
     "name": "stderr",
     "output_type": "stream",
     "text": [
      "\r",
      "1990it [00:05, 401.75it/s]"
     ]
    },
    {
     "name": "stderr",
     "output_type": "stream",
     "text": [
      "\r",
      "2031it [00:05, 401.03it/s]"
     ]
    },
    {
     "name": "stderr",
     "output_type": "stream",
     "text": [
      "\r",
      "2072it [00:05, 401.14it/s]"
     ]
    },
    {
     "name": "stderr",
     "output_type": "stream",
     "text": [
      "\r",
      "2113it [00:05, 388.88it/s]"
     ]
    },
    {
     "name": "stderr",
     "output_type": "stream",
     "text": [
      "\r",
      "2152it [00:05, 385.81it/s]"
     ]
    },
    {
     "name": "stderr",
     "output_type": "stream",
     "text": [
      "\r",
      "2191it [00:05, 380.71it/s]"
     ]
    },
    {
     "name": "stderr",
     "output_type": "stream",
     "text": [
      "\r",
      "2230it [00:05, 376.49it/s]"
     ]
    },
    {
     "name": "stderr",
     "output_type": "stream",
     "text": [
      "\r",
      "2268it [00:05, 377.25it/s]"
     ]
    },
    {
     "name": "stderr",
     "output_type": "stream",
     "text": [
      "\r",
      "2306it [00:05, 374.09it/s]"
     ]
    },
    {
     "name": "stderr",
     "output_type": "stream",
     "text": [
      "\r",
      "2344it [00:05, 374.07it/s]"
     ]
    },
    {
     "name": "stderr",
     "output_type": "stream",
     "text": [
      "\r",
      "2385it [00:06, 384.08it/s]"
     ]
    },
    {
     "name": "stderr",
     "output_type": "stream",
     "text": [
      "\r",
      "2424it [00:06, 382.58it/s]"
     ]
    },
    {
     "name": "stderr",
     "output_type": "stream",
     "text": [
      "\r",
      "2463it [00:06, 384.22it/s]"
     ]
    },
    {
     "name": "stderr",
     "output_type": "stream",
     "text": [
      "\r",
      "2502it [00:06, 381.55it/s]"
     ]
    },
    {
     "name": "stderr",
     "output_type": "stream",
     "text": [
      "\r",
      "2542it [00:06, 385.94it/s]"
     ]
    },
    {
     "name": "stderr",
     "output_type": "stream",
     "text": [
      "\r",
      "2581it [00:06, 380.93it/s]"
     ]
    },
    {
     "name": "stderr",
     "output_type": "stream",
     "text": [
      "\r",
      "2620it [00:06, 382.56it/s]"
     ]
    },
    {
     "name": "stderr",
     "output_type": "stream",
     "text": [
      "\r",
      "2659it [00:06, 381.36it/s]"
     ]
    },
    {
     "name": "stderr",
     "output_type": "stream",
     "text": [
      "\r",
      "2698it [00:06, 378.61it/s]"
     ]
    },
    {
     "name": "stderr",
     "output_type": "stream",
     "text": [
      "\r",
      "2740it [00:07, 387.79it/s]"
     ]
    },
    {
     "name": "stderr",
     "output_type": "stream",
     "text": [
      "\r",
      "2779it [00:07, 372.65it/s]"
     ]
    },
    {
     "name": "stderr",
     "output_type": "stream",
     "text": [
      "\r",
      "2820it [00:07, 381.56it/s]"
     ]
    },
    {
     "name": "stderr",
     "output_type": "stream",
     "text": [
      "\r",
      "2859it [00:07, 382.31it/s]"
     ]
    },
    {
     "name": "stderr",
     "output_type": "stream",
     "text": [
      "\r",
      "2898it [00:07, 369.61it/s]"
     ]
    },
    {
     "name": "stderr",
     "output_type": "stream",
     "text": [
      "\r",
      "2938it [00:07, 377.53it/s]"
     ]
    },
    {
     "name": "stderr",
     "output_type": "stream",
     "text": [
      "\r",
      "2977it [00:07, 380.96it/s]"
     ]
    },
    {
     "name": "stderr",
     "output_type": "stream",
     "text": [
      "\r",
      "3018it [00:07, 388.84it/s]"
     ]
    },
    {
     "name": "stderr",
     "output_type": "stream",
     "text": [
      "\r",
      "3059it [00:07, 394.45it/s]"
     ]
    },
    {
     "name": "stderr",
     "output_type": "stream",
     "text": [
      "\r",
      "3100it [00:07, 398.09it/s]"
     ]
    },
    {
     "name": "stderr",
     "output_type": "stream",
     "text": [
      "\r",
      "3140it [00:08, 392.46it/s]"
     ]
    },
    {
     "name": "stderr",
     "output_type": "stream",
     "text": [
      "\r",
      "3180it [00:08, 374.47it/s]"
     ]
    },
    {
     "name": "stderr",
     "output_type": "stream",
     "text": [
      "\r",
      "3218it [00:08, 362.69it/s]"
     ]
    },
    {
     "name": "stderr",
     "output_type": "stream",
     "text": [
      "\r",
      "3260it [00:08, 378.01it/s]"
     ]
    },
    {
     "name": "stderr",
     "output_type": "stream",
     "text": [
      "\r",
      "3301it [00:08, 385.83it/s]"
     ]
    },
    {
     "name": "stderr",
     "output_type": "stream",
     "text": [
      "\r",
      "3340it [00:08, 384.94it/s]"
     ]
    },
    {
     "name": "stderr",
     "output_type": "stream",
     "text": [
      "\r",
      "3382it [00:08, 393.05it/s]"
     ]
    },
    {
     "name": "stderr",
     "output_type": "stream",
     "text": [
      "\r",
      "3426it [00:08, 404.02it/s]"
     ]
    },
    {
     "name": "stderr",
     "output_type": "stream",
     "text": [
      "\r",
      "3467it [00:08, 401.73it/s]"
     ]
    },
    {
     "name": "stderr",
     "output_type": "stream",
     "text": [
      "\r",
      "3509it [00:09, 405.73it/s]"
     ]
    },
    {
     "name": "stderr",
     "output_type": "stream",
     "text": [
      "\r",
      "3550it [00:09, 401.42it/s]"
     ]
    },
    {
     "name": "stderr",
     "output_type": "stream",
     "text": [
      "\r",
      "3591it [00:09, 403.50it/s]"
     ]
    },
    {
     "name": "stderr",
     "output_type": "stream",
     "text": [
      "\r",
      "3633it [00:09, 406.93it/s]"
     ]
    },
    {
     "name": "stderr",
     "output_type": "stream",
     "text": [
      "\r",
      "3674it [00:09, 397.03it/s]"
     ]
    },
    {
     "name": "stderr",
     "output_type": "stream",
     "text": [
      "\r",
      "3714it [00:09, 368.63it/s]"
     ]
    },
    {
     "name": "stderr",
     "output_type": "stream",
     "text": [
      "\r",
      "3752it [00:09, 357.68it/s]"
     ]
    },
    {
     "name": "stderr",
     "output_type": "stream",
     "text": [
      "\r",
      "3789it [00:09, 358.04it/s]"
     ]
    },
    {
     "name": "stderr",
     "output_type": "stream",
     "text": [
      "\r",
      "3826it [00:09, 358.76it/s]"
     ]
    },
    {
     "name": "stderr",
     "output_type": "stream",
     "text": [
      "\r",
      "3865it [00:09, 364.60it/s]"
     ]
    },
    {
     "name": "stderr",
     "output_type": "stream",
     "text": [
      "\r",
      "3876it [00:09, 387.64it/s]"
     ]
    },
    {
     "name": "stderr",
     "output_type": "stream",
     "text": [
      "\n"
     ]
    }
   ],
   "source": [
    "from pyECLAT import ECLAT\n",
    "import json\n",
    "\n",
    "# create an instance of eclat\n",
    "my_eclat = ECLAT(data=test2, verbose=True)\n",
    "\n",
    "# fit the algorithm\n",
    "rule_indices, rule_supports = my_eclat.fit(min_support=min_support,\n",
    "                                           min_combination=min_n_products,\n",
    "                                           max_combination=max_length)\n",
    "with open(f\"{results_dir}/eclat.json\", 'w') as json_file:\n",
    "    json.dump(rule_supports, json_file)"
   ]
  },
  {
   "cell_type": "code",
   "execution_count": 64,
   "id": "c82b3d88",
   "metadata": {
    "execution": {
     "iopub.execute_input": "2025-04-12T08:28:12.957956Z",
     "iopub.status.busy": "2025-04-12T08:28:12.957856Z",
     "iopub.status.idle": "2025-04-12T08:28:12.959715Z",
     "shell.execute_reply": "2025-04-12T08:28:12.959507Z"
    },
    "id": "4vb6psiaFxPO",
    "papermill": {
     "duration": 0.011723,
     "end_time": "2025-04-12T08:28:12.960245",
     "exception": false,
     "start_time": "2025-04-12T08:28:12.948522",
     "status": "completed"
    },
    "tags": []
   },
   "outputs": [
    {
     "name": "stdout",
     "output_type": "stream",
     "text": [
      "{'Tuesday & 1': 0.024811244883505983, 'Tuesday & evening': 0.045270361802789275, 'Tuesday & 0': 0.040017970961806565, 'Tuesday & 4': 0.023360535562098418, 'Tuesday & 3': 0.02636141181796513, 'Tuesday & 2': 0.03272155469397064, 'Tuesday & EMS': 0.07585529260258281, 'Tuesday & afternoon': 0.048319252078749854, 'Tuesday & midnight': 0.01762628973374511, 'Tuesday & Fire': 0.021650893489470354, 'Tuesday & Traffic': 0.04976653182729357, 'Tuesday & morning': 0.036056814304062504, 'Friday & 1': 0.025889845549186077, 'Friday & evening': 0.04470791185311825, 'Friday & 0': 0.04188194381330777, 'Friday & 4': 0.024922706001581033, 'Friday & 3': 0.02737999495852789, 'Friday & 2': 0.0348118793544858, 'Friday & EMS': 0.07719454080591533, 'Friday & afternoon': 0.051464170394898166, 'Friday & midnight': 0.01852140825120935, 'Friday & Fire': 0.023134183753084472, 'Friday & Traffic': 0.05455764511808877, 'Friday & morning': 0.040192879177862795, '1 & evening': 0.04778080913912577, '1 & Sunday': 0.02182408691909466, '1 & EMS': 0.09778398149402483, '1 & afternoon': 0.05320467862330086, '1 & Saturday': 0.023854394054492484, '1 & Wednesday': 0.025178209179937686, '1 & midnight': 0.02458660786092396, '1 & Fire': 0.028288831767447523, '1 & Monday': 0.024660343677496685, '1 & Traffic': 0.045500143184667066, '1 & Thursday': 0.02535483218242584, '1 & morning': 0.04600086082278883, 'evening & Sunday': 0.03136515862631888, 'evening & 0': 0.07969469942366028, 'evening & 4': 0.048298674641566765, 'evening & 3': 0.05298690074644653, 'evening & 2': 0.06482921584531255, 'evening & EMS': 0.15468231009168962, 'evening & Saturday': 0.0359847932739217, 'evening & Wednesday': 0.045661333109267906, 'evening & Fire': 0.04206028160222785, 'evening & Monday': 0.04583967089818799, 'evening & Traffic': 0.09684770810219441, 'evening & Thursday': 0.044761070232507895, 'Sunday & 0': 0.03042031130232885, 'Sunday & 4': 0.017526832120693527, 'Sunday & 3': 0.02057572239665411, 'Sunday & 2': 0.02837285630261179, 'Sunday & EMS': 0.06957574468887773, 'Sunday & afternoon': 0.03577558932922699, 'Sunday & midnight': 0.0194456781380163, 'Sunday & Fire': 0.019563998401819046, 'Sunday & Traffic': 0.02958006595068617, 'Sunday & morning': 0.03213338294782076, '0 & EMS': 0.1297167344293105, '0 & afternoon': 0.08852070518877227, '0 & Saturday': 0.034494643864579885, '0 & Wednesday': 0.04133149736866022, '0 & midnight': 0.03160179915392437, '0 & Fire': 0.04043294927833213, '0 & Monday': 0.039076553210680376, '0 & Traffic': 0.09667622945900203, '0 & Thursday': 0.03960299264528099, '0 & morning': 0.06700870940028775, '4 & EMS': 0.0677323492745596, '4 & afternoon': 0.0525959294399679, '4 & Saturday': 0.020716334884071864, '4 & Wednesday': 0.02391612636604174, '4 & midnight': 0.01804126805027068, '4 & Fire': 0.029542340649183846, '4 & Monday': 0.023153046403835635, '4 & Traffic': 0.060567971561981813, '4 & Thursday': 0.024247080147403042, '4 & morning': 0.03890678935391992, '3 & EMS': 0.09302887871830003, '3 & afternoon': 0.057448775042312356, '3 & Saturday': 0.023367394707826113, '3 & Wednesday': 0.026558612257636373, '3 & midnight': 0.02288725450688744, '3 & Fire': 0.02307588101439906, '3 & Monday': 0.02616421137829389, '3 & Traffic': 0.060784034652404215, '3 & Thursday': 0.0264814468681998, '3 & morning': 0.04356586408945698, '2 & EMS': 0.13436723523268795, '2 & afternoon': 0.07103845751530875, '2 & Saturday': 0.03155035556096666, '2 & Wednesday': 0.033162254806975065, '2 & midnight': 0.031382306490638126, '2 & Fire': 0.0309416063776337, '2 & Monday': 0.03313824779692813, '2 & Traffic': 0.06156083290606571, '2 & Thursday': 0.033112526000449276, '2 & morning': 0.05961969466512793, 'EMS & afternoon': 0.14965455627328894, 'EMS & Saturday': 0.07295901831906346, 'EMS & Wednesday': 0.07557749720061115, 'EMS & midnight': 0.08286019517699168, 'EMS & Monday': 0.07664752393413163, 'EMS & Thursday': 0.07481956159770081, 'EMS & morning': 0.13543211760691265, 'afternoon & Saturday': 0.040688452456688784, 'afternoon & Wednesday': 0.05011977783226988, 'afternoon & Fire': 0.0470057256718962, 'afternoon & Monday': 0.04719435217940782, 'afternoon & Traffic': 0.126148263864477, 'afternoon & Thursday': 0.049246951538420645, 'Saturday & midnight': 0.019658311655574856, 'Saturday & Fire': 0.020952975411677354, 'Saturday & Traffic': 0.0400711293411962, 'Saturday & morning': 0.03765156568575167, 'Wednesday & midnight': 0.017108424231304112, 'Wednesday & Fire': 0.022746642019469684, 'Wednesday & Traffic': 0.05182256075917025, 'Wednesday & morning': 0.037257164806409185, 'midnight & Fire': 0.019210752396842737, 'midnight & Monday': 0.018231609344214226, 'midnight & Traffic': 0.02642828848881016, 'midnight & Thursday': 0.01790751470858062, 'Fire & Monday': 0.021993850775855122, 'Fire & Thursday': 0.02223906523562023, 'Fire & morning': 0.04400484941602948, 'Monday & Traffic': 0.047551027757247975, 'Monday & morning': 0.034926770045424695, 'Traffic & Thursday': 0.05174025101043791, 'Traffic & morning': 0.07566495130863926, 'Thursday & morning': 0.03688334136424979, 'Tuesday & 1 & EMS': 0.014008090362385817, 'Tuesday & evening & 0': 0.012711711819851397, 'Tuesday & evening & EMS': 0.023261077949046836, 'Tuesday & evening & Traffic': 0.015750313377220434, 'Tuesday & 0 & EMS': 0.0193736571078755, 'Tuesday & 0 & afternoon': 0.013476506568489428, 'Tuesday & 0 & Traffic': 0.01476088160600038, 'Tuesday & 3 & EMS': 0.013491939646376742, 'Tuesday & 2 & EMS': 0.019191889746091574, 'Tuesday & 2 & afternoon': 0.010383031845298827, 'Tuesday & EMS & afternoon': 0.02229222361500987, 'Tuesday & EMS & midnight': 0.011415333277316976, 'Tuesday & EMS & morning': 0.01888665776120913, 'Tuesday & afternoon & Traffic': 0.019183315813931952, 'Tuesday & Traffic & morning': 0.01128329472205884, 'Friday & 1 & EMS': 0.014231012598535915, 'Friday & evening & 0': 0.012210994181729636, 'Friday & evening & EMS': 0.02278779689383586, 'Friday & evening & Traffic': 0.015311328050647933, 'Friday & 0 & EMS': 0.01914216093956578, 'Friday & 0 & afternoon': 0.014332184998019422, 'Friday & 0 & Traffic': 0.016626569243933513, 'Friday & 0 & morning': 0.010688263830181271, 'Friday & 4 & EMS': 0.01020983841567452, 'Friday & 4 & Traffic': 0.010213267988538367, 'Friday & 3 & EMS': 0.013783453339803794, 'Friday & 3 & Traffic': 0.010034930199618288, 'Friday & 2 & EMS': 0.019828075512335317, 'Friday & 2 & afternoon': 0.011192411041166878, 'Friday & 2 & Traffic': 0.01033501782520496, 'Friday & EMS & afternoon': 0.022299082760737565, 'Friday & EMS & midnight': 0.011477065588866235, 'Friday & EMS & morning': 0.020630595562475672, 'Friday & afternoon & Traffic': 0.022209913866277523, 'Friday & Traffic & morning': 0.012907197473090715, '1 & evening & EMS': 0.028299120486039067, '1 & evening & Traffic': 0.012337888377692001, '1 & Sunday & EMS': 0.013375334169005921, '1 & EMS & afternoon': 0.027878997810217725, '1 & EMS & Saturday': 0.013687425299616059, '1 & EMS & Wednesday': 0.014162421141258963, '1 & EMS & midnight': 0.015877207573182797, '1 & EMS & Monday': 0.01417099507341858, '1 & EMS & Thursday': 0.01414870284980357, '1 & EMS & morning': 0.025728655624585237, '1 & afternoon & Traffic': 0.016515108125858467, '1 & Traffic & morning': 0.01154222747327934, 'evening & Sunday & EMS': 0.018986115374260714, 'evening & 0 & EMS': 0.039107419366455, 'evening & 0 & Wednesday': 0.012502507875156688, 'evening & 0 & Fire': 0.011312446091401546, 'evening & 0 & Monday': 0.012497363515860917, 'evening & 0 & Traffic': 0.02927483396580373, 'evening & 0 & Thursday': 0.012353321455579314, 'evening & 4 & EMS': 0.020356229733367856, 'evening & 4 & Traffic': 0.019197034105387343, 'evening & 3 & EMS': 0.02873982059904349, 'evening & 3 & Traffic': 0.01803783847740683, 'evening & 2 & EMS': 0.03817971990678421, 'evening & 2 & Wednesday': 0.01003150062675444, 'evening & 2 & Monday': 0.010005778830275583, 'evening & 2 & Traffic': 0.018000113175904508, 'evening & EMS & Saturday': 0.019461111215903614, 'evening & EMS & Wednesday': 0.023357105989234572, 'evening & EMS & Monday': 0.023988147396182543, 'evening & EMS & Thursday': 0.022840955273225497, 'evening & Saturday & Traffic': 0.01127815036276307, 'evening & Wednesday & Traffic': 0.01595094338975552, 'evening & Monday & Traffic': 0.015458799683793382, 'evening & Traffic & Thursday': 0.015544539005389574, 'Sunday & 0 & EMS': 0.016825484470036678, 'Sunday & 3 & EMS': 0.012277870852574667, 'Sunday & 2 & EMS': 0.018435668929613163, 'Sunday & EMS & afternoon': 0.019135301793838086, 'Sunday & EMS & midnight': 0.01281631379219875, 'Sunday & EMS & morning': 0.018638013728580174, 'Sunday & afternoon & Traffic': 0.010751710928162453, '0 & EMS & afternoon': 0.037939649806314875, '0 & EMS & Saturday': 0.017619430588017414, '0 & EMS & Wednesday': 0.019106150424495382, '0 & EMS & midnight': 0.019618871567640608, '0 & EMS & Monday': 0.019330787447077405, '0 & EMS & Thursday': 0.01831906345224234, '0 & EMS & morning': 0.033050793688900015, '0 & afternoon & Saturday': 0.010633390664359707, '0 & afternoon & Wednesday': 0.014085255751822389, '0 & afternoon & Fire': 0.012567669759569794, '0 & afternoon & Monday': 0.013013514231869992, '0 & afternoon & Traffic': 0.0380133856228876, '0 & afternoon & Thursday': 0.013440496053419028, '0 & Saturday & Traffic': 0.011478780375298158, '0 & Wednesday & Traffic': 0.015945799030459753, '0 & Wednesday & morning': 0.010467056380463096, '0 & Fire & morning': 0.011669121669241705, '0 & Monday & Traffic': 0.013992657284498502, '0 & Traffic & Thursday': 0.015501669344591478, '0 & Traffic & morning': 0.02228879404214602, '4 & EMS & afternoon': 0.019960114067593453, '4 & EMS & midnight': 0.010425901506096923, '4 & EMS & morning': 0.016990103967501367, '4 & afternoon & Traffic': 0.023869827132379798, '4 & Traffic & Thursday': 0.01001263797600328, '4 & Traffic & morning': 0.013543383239334458, '3 & EMS & afternoon': 0.02647630250890403, '3 & EMS & Saturday': 0.012818028578630675, '3 & EMS & Wednesday': 0.01357596418154101, '3 & EMS & midnight': 0.01454138894271413, '3 & EMS & Monday': 0.013692569658911831, '3 & EMS & Thursday': 0.013389052460461312, '3 & EMS & morning': 0.02327136666763838, '3 & afternoon & Traffic': 0.023631471818342385, '3 & Traffic & morning': 0.013850330010648823, '2 & EMS & afternoon': 0.03739949208025886, '2 & EMS & Saturday': 0.01927591428125584, '2 & EMS & Wednesday': 0.018998118879284178, '2 & EMS & midnight': 0.022396825587357224, '2 & EMS & Monday': 0.019474829507359005, '2 & EMS & Thursday': 0.019162738376748867, '2 & EMS & morning': 0.03639119765828765, '2 & afternoon & Wednesday': 0.010681404684453574, '2 & afternoon & Monday': 0.010436190224688465, '2 & afternoon & Traffic': 0.024118471165008756, '2 & afternoon & Thursday': 0.010609383654312774, '2 & Traffic & morning': 0.014440216543230624, 'EMS & afternoon & Saturday': 0.020042423816325795, 'EMS & afternoon & Wednesday': 0.02207273095172362, 'EMS & afternoon & Monday': 0.02202986129092552, 'EMS & afternoon & Thursday': 0.02178293204472849, 'EMS & Saturday & midnight': 0.012881475676611857, 'EMS & Saturday & morning': 0.020574007610222184, 'EMS & Wednesday & midnight': 0.011183837109007258, 'EMS & Wednesday & morning': 0.018963823150645702, 'EMS & midnight & Monday': 0.011878325613936412, 'EMS & midnight & Thursday': 0.011207844119054192, 'EMS & Monday & morning': 0.018751189633087147, 'EMS & Thursday & morning': 0.018987830160692637, 'afternoon & Saturday & Traffic': 0.01446593833970948, 'afternoon & Wednesday & Traffic': 0.02067860958256954, 'afternoon & Monday & Traffic': 0.01825218678139731, 'afternoon & Traffic & Thursday': 0.020606588552428737, 'Saturday & Traffic & morning': 0.01042933107896077, 'Wednesday & Traffic & morning': 0.011663977309945932, 'Monday & Traffic & morning': 0.01008465900614408, 'Traffic & Thursday & morning': 0.011682839960697095}\n"
     ]
    }
   ],
   "source": [
    "print(rule_supports)"
   ]
  },
  {
   "cell_type": "markdown",
   "id": "d12b8e1d",
   "metadata": {
    "id": "jHFZmjIEaXlF",
    "papermill": {
     "duration": 0.009023,
     "end_time": "2025-04-12T08:28:12.978210",
     "exception": false,
     "start_time": "2025-04-12T08:28:12.969187",
     "status": "completed"
    },
    "tags": []
   },
   "source": [
    "#APRIORI"
   ]
  },
  {
   "cell_type": "code",
   "execution_count": 65,
   "id": "47908193",
   "metadata": {
    "execution": {
     "iopub.execute_input": "2025-04-12T08:28:12.996703Z",
     "iopub.status.busy": "2025-04-12T08:28:12.996589Z",
     "iopub.status.idle": "2025-04-12T08:28:15.509197Z",
     "shell.execute_reply": "2025-04-12T08:28:15.508752Z"
    },
    "id": "zHKIXZMYcDer",
    "papermill": {
     "duration": 2.523309,
     "end_time": "2025-04-12T08:28:15.510565",
     "exception": false,
     "start_time": "2025-04-12T08:28:12.987256",
     "status": "completed"
    },
    "tags": []
   },
   "outputs": [],
   "source": [
    "from mlxtend.preprocessing import TransactionEncoder\n",
    "from mlxtend.frequent_patterns import apriori, association_rules\n",
    "\n",
    "# List of transactions\n",
    "transactions = test1\n",
    "\n",
    "# Convert transactions to a one-hot encoded array\n",
    "te = TransactionEncoder()\n",
    "onehot = te.fit_transform(transactions)\n",
    "\n",
    "# Convert one-hot encoded array to a pandas DataFrame\n",
    "df = pd.DataFrame(onehot, columns=te.columns_)\n",
    "\n",
    "# Find frequent itemsets with minimum support of 0.3\n",
    "frequent_itemsets = apriori(df, min_support=0.01, use_colnames=True)\n",
    "\n",
    "# Generate association rules with minimum lift of 1\n",
    "rules = association_rules(frequent_itemsets, metric=\"lift\", min_threshold=1)\n",
    "\n",
    "\n",
    "rules_list = []\n",
    "\n",
    "for index, row in rules.iterrows():\n",
    "    rule = {\n",
    "        \"antecedents\": list(row['antecedents']),\n",
    "        \"consequents\": list(row['consequents']),\n",
    "        \"support\": row[\"support\"],\n",
    "        \"confidence\": row[\"confidence\"],\n",
    "        \"lift\": row[\"lift\"]\n",
    "    }\n",
    "    rules_list.append(rule)\n",
    "\n",
    "# Save to JSON\n",
    "output_path = f\"{results_dir}/apriori_rules.json\"\n",
    "with open(output_path, \"w\") as f:\n",
    "    json.dump(rules_list, f, indent=4)"
   ]
  },
  {
   "cell_type": "markdown",
   "id": "4271a4f9",
   "metadata": {
    "id": "bOhq6KTm8H8d",
    "papermill": {
     "duration": 0.008761,
     "end_time": "2025-04-12T08:28:15.529256",
     "exception": false,
     "start_time": "2025-04-12T08:28:15.520495",
     "status": "completed"
    },
    "tags": []
   },
   "source": [
    "#FP GROWTH"
   ]
  },
  {
   "cell_type": "code",
   "execution_count": 66,
   "id": "e3969da2",
   "metadata": {
    "execution": {
     "iopub.execute_input": "2025-04-12T08:28:15.547262Z",
     "iopub.status.busy": "2025-04-12T08:28:15.547153Z",
     "iopub.status.idle": "2025-04-12T08:28:15.551325Z",
     "shell.execute_reply": "2025-04-12T08:28:15.551112Z"
    },
    "id": "-AWYL_dacywX",
    "papermill": {
     "duration": 0.014052,
     "end_time": "2025-04-12T08:28:15.551950",
     "exception": false,
     "start_time": "2025-04-12T08:28:15.537898",
     "status": "completed"
    },
    "tags": []
   },
   "outputs": [],
   "source": [
    "from fpgrowth_py import fpgrowth"
   ]
  },
  {
   "cell_type": "code",
   "execution_count": 67,
   "id": "55cd2844",
   "metadata": {
    "execution": {
     "iopub.execute_input": "2025-04-12T08:28:15.569533Z",
     "iopub.status.busy": "2025-04-12T08:28:15.569456Z",
     "iopub.status.idle": "2025-04-12T08:29:40.039839Z",
     "shell.execute_reply": "2025-04-12T08:29:40.039560Z"
    },
    "id": "DF_dR0L17hS8",
    "papermill": {
     "duration": 84.488741,
     "end_time": "2025-04-12T08:29:40.049256",
     "exception": false,
     "start_time": "2025-04-12T08:28:15.560515",
     "status": "completed"
    },
    "tags": []
   },
   "outputs": [
    {
     "data": {
      "text/plain": [
       "1102"
      ]
     },
     "execution_count": 67,
     "metadata": {},
     "output_type": "execute_result"
    }
   ],
   "source": [
    "freqItemSet, rules = fpgrowth(test1, minSupRatio=0.01, minConf=0.03)\n",
    "len(rules)"
   ]
  },
  {
   "cell_type": "code",
   "execution_count": 68,
   "id": "fd174cfc",
   "metadata": {
    "execution": {
     "iopub.execute_input": "2025-04-12T08:29:40.067118Z",
     "iopub.status.busy": "2025-04-12T08:29:40.067032Z",
     "iopub.status.idle": "2025-04-12T08:29:40.074024Z",
     "shell.execute_reply": "2025-04-12T08:29:40.073838Z"
    },
    "id": "eygzsBeiEuQ8",
    "papermill": {
     "duration": 0.016567,
     "end_time": "2025-04-12T08:29:40.074625",
     "exception": false,
     "start_time": "2025-04-12T08:29:40.058058",
     "status": "completed"
    },
    "tags": []
   },
   "outputs": [],
   "source": [
    "rules_dict = []\n",
    "for rule in rules:\n",
    "    rule_dict = {\n",
    "        \"antecedents\": list(rule[0]),\n",
    "        \"consequents\": list(rule[1]),\n",
    "        \"support\": rule[2]\n",
    "    }\n",
    "    rules_dict.append(rule_dict)\n",
    "\n",
    "# Write to JSON\n",
    "with open(f\"{results_dir}/fpgrowth.json\", 'w') as json_file:\n",
    "    json.dump(rules_dict, json_file, indent=4)"
   ]
  }
 ],
 "metadata": {
  "colab": {
   "provenance": []
  },
  "kernelspec": {
   "display_name": "Python 3",
   "name": "python3"
  },
  "language_info": {
   "codemirror_mode": {
    "name": "ipython",
    "version": 3
   },
   "file_extension": ".py",
   "mimetype": "text/x-python",
   "name": "python",
   "nbconvert_exporter": "python",
   "pygments_lexer": "ipython3",
   "version": "3.11.4"
  },
  "papermill": {
   "default_parameters": {},
   "duration": 171.692138,
   "end_time": "2025-04-12T08:29:42.703791",
   "environment_variables": {},
   "exception": null,
   "input_path": "src/python/911_data_notebook.ipynb",
   "output_path": "src/python/911_data_executed_notebook.ipynb",
   "parameters": {
    "job_id": "36"
   },
   "start_time": "2025-04-12T08:26:51.011653",
   "version": "2.6.0"
  }
 },
 "nbformat": 4,
 "nbformat_minor": 5
}